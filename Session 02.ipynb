{
 "cells": [
  {
   "cell_type": "markdown",
   "id": "e9b06675-9e7b-4808-a91b-a22cd8290945",
   "metadata": {},
   "source": [
    "## Nested loops"
   ]
  },
  {
   "cell_type": "code",
   "execution_count": 1,
   "id": "71381fff-b997-40b3-a95f-10ef7043424d",
   "metadata": {},
   "outputs": [
    {
     "name": "stdin",
     "output_type": "stream",
     "text": [
      "Enter the number of rows 5\n"
     ]
    },
    {
     "name": "stdout",
     "output_type": "stream",
     "text": [
      "*****\n",
      "*****\n",
      "*****\n",
      "*****\n",
      "*****\n"
     ]
    }
   ],
   "source": [
    "num = int(input('Enter the number of rows'))\n",
    "\n",
    "for i in range (0,num):\n",
    "    \n",
    "    for j in range (0,num):\n",
    "        print('*', end=\"\")\n",
    "    print()"
   ]
  },
  {
   "cell_type": "code",
   "execution_count": 2,
   "id": "dcf581ce-f7bf-46a0-b41c-bb19fdddd4c3",
   "metadata": {},
   "outputs": [
    {
     "name": "stdin",
     "output_type": "stream",
     "text": [
      "Enter the number of rows 5\n"
     ]
    },
    {
     "name": "stdout",
     "output_type": "stream",
     "text": [
      "*\n",
      "**\n",
      "***\n",
      "****\n"
     ]
    }
   ],
   "source": [
    "num = int(input('Enter the number of rows'))\n",
    "\n",
    "for i in range (1,num):\n",
    "    for j in range (1,i+1):\n",
    "        print('*', end=\"\")\n",
    "    print()"
   ]
  },
  {
   "cell_type": "code",
   "execution_count": 3,
   "id": "1eccbd97-cf53-436f-b605-4da91bc193fe",
   "metadata": {},
   "outputs": [
    {
     "name": "stdin",
     "output_type": "stream",
     "text": [
      "Enter the number of rows 5\n"
     ]
    },
    {
     "name": "stdout",
     "output_type": "stream",
     "text": [
      "*****\n",
      "****\n",
      "***\n",
      "**\n",
      "*\n"
     ]
    }
   ],
   "source": [
    "num = int(input('Enter the number of rows'))\n",
    "\n",
    "for i in range(num,0,-1):\n",
    "    for j in range (0,i):\n",
    "        print('*', end=\"\")\n",
    "    print()"
   ]
  },
  {
   "cell_type": "code",
   "execution_count": 4,
   "id": "3a180fbe-ba50-4d02-975a-94ade960bed1",
   "metadata": {},
   "outputs": [
    {
     "name": "stdin",
     "output_type": "stream",
     "text": [
      "Enter the number of rows 5\n"
     ]
    },
    {
     "name": "stdout",
     "output_type": "stream",
     "text": [
      "1 \n",
      "1 2 \n",
      "1 2 3 \n",
      "1 2 3 4 \n",
      "1 2 3 4 5 \n"
     ]
    }
   ],
   "source": [
    "num = int(input('Enter the number of rows'))\n",
    "\n",
    "for i in range(1,num+1):\n",
    "    # k = 1\n",
    "    for j in range (1,i+1):\n",
    "        print(j, end=\" \")\n",
    "        # k+=1\n",
    "    print()"
   ]
  },
  {
   "cell_type": "code",
   "execution_count": 5,
   "id": "b26d91d5-0502-4ad1-9854-22823f6ee6cb",
   "metadata": {},
   "outputs": [
    {
     "name": "stdin",
     "output_type": "stream",
     "text": [
      "Enter the number of rows 5\n"
     ]
    },
    {
     "name": "stdout",
     "output_type": "stream",
     "text": [
      "1 \n",
      "2 3 \n",
      "4 5 6 \n",
      "7 8 9 10 \n",
      "11 12 13 14 15 \n"
     ]
    }
   ],
   "source": [
    "num = int(input('Enter the number of rows'))\n",
    "k = 1\n",
    "\n",
    "for i in range(0,num):\n",
    "    for j in range (0,i+1):\n",
    "        print(k, end=\" \")\n",
    "        k+=1\n",
    "    print()"
   ]
  },
  {
   "cell_type": "code",
   "execution_count": 6,
   "id": "f4921946-d3f2-48d7-9901-354b3f4d0a01",
   "metadata": {},
   "outputs": [
    {
     "name": "stdin",
     "output_type": "stream",
     "text": [
      "Enter the number of rows 5\n"
     ]
    },
    {
     "name": "stdout",
     "output_type": "stream",
     "text": [
      "ABCDE\n",
      "FGHIJ\n",
      "KLMNO\n",
      "PQRST\n",
      "UVWXY\n"
     ]
    }
   ],
   "source": [
    "num = int(input('Enter the number of rows'))\n",
    "ch = 'A'\n",
    "for i in range(0,num):\n",
    "    for j in range(0,num):\n",
    "        print(ch, end=\"\")\n",
    "        ch = chr(ord(ch)+1)\n",
    "    print()"
   ]
  },
  {
   "cell_type": "code",
   "execution_count": 1,
   "id": "e99e326c-dc3b-44a0-887a-b4e9c797749b",
   "metadata": {},
   "outputs": [
    {
     "name": "stdin",
     "output_type": "stream",
     "text": [
      "Enter the number of rows 5\n"
     ]
    },
    {
     "name": "stdout",
     "output_type": "stream",
     "text": [
      "* \n",
      "* * \n",
      "* * * \n",
      "* * * * \n",
      "* * * * * \n"
     ]
    }
   ],
   "source": [
    "num = int(input('Enter the number of rows'))\n",
    "\n",
    "for i in range(0,num):\n",
    "    for j in range(0,i+1):\n",
    "        print('*', end=\" \")\n",
    "    print()"
   ]
  },
  {
   "cell_type": "code",
   "execution_count": 3,
   "id": "b6c3f1ab-8a36-482e-90b9-db1de8b66570",
   "metadata": {
    "scrolled": true
   },
   "outputs": [
    {
     "name": "stdin",
     "output_type": "stream",
     "text": [
      "Enter the number of rows 10\n"
     ]
    },
    {
     "name": "stdout",
     "output_type": "stream",
     "text": [
      "         * \n",
      "        * * \n",
      "       * * * \n",
      "      * * * * \n",
      "     * * * * * \n",
      "    * * * * * * \n",
      "   * * * * * * * \n",
      "  * * * * * * * * \n",
      " * * * * * * * * * \n",
      "* * * * * * * * * * \n"
     ]
    }
   ],
   "source": [
    "n = int(input('Enter the number of rows'))\n",
    "m = n\n",
    "for i in range(0,n):\n",
    "    for j in range(m-1,0,-1):\n",
    "            print(\" \", end=\"\")\n",
    "    for k in range (0,i+1):\n",
    "        print('*', end=\" \")    \n",
    "    m-=1\n",
    "    print()\n",
    "        "
   ]
  },
  {
   "cell_type": "code",
   "execution_count": 4,
   "id": "8571d8cb-5d77-4c44-a097-cd6361574853",
   "metadata": {},
   "outputs": [
    {
     "name": "stdin",
     "output_type": "stream",
     "text": [
      "Enter the number of rows 5\n"
     ]
    },
    {
     "name": "stdout",
     "output_type": "stream",
     "text": [
      "* * * * * \n",
      " * * * * \n",
      "  * * * \n",
      "   * * \n",
      "    * \n"
     ]
    }
   ],
   "source": [
    "n = int(input('Enter the number of rows'))\n",
    "m=0\n",
    "for i in range(n,0,-1):\n",
    "    for k in range(0,m):\n",
    "        print(' ', end=\"\")\n",
    "    for j in range(0,i):\n",
    "        print('*', end=\" \")\n",
    "    m+=1\n",
    "    print()"
   ]
  },
  {
   "cell_type": "markdown",
   "id": "aeb51be7-152b-4117-9d74-a3fc7088635b",
   "metadata": {},
   "source": [
    "## Armstrong Number"
   ]
  },
  {
   "cell_type": "code",
   "execution_count": 6,
   "id": "c17ac4d1-987e-4c56-938d-08da861833a9",
   "metadata": {},
   "outputs": [
    {
     "name": "stdin",
     "output_type": "stream",
     "text": [
      "Enter the number 152\n"
     ]
    },
    {
     "name": "stdout",
     "output_type": "stream",
     "text": [
      "The number is not an armstrong number\n"
     ]
    }
   ],
   "source": [
    "n = int(input('Enter the number'))\n",
    "m = n\n",
    "j = n\n",
    "no_of_digits = 0\n",
    "sum = 0\n",
    "\n",
    "while m!=0:\n",
    "    m = m//10\n",
    "    no_of_digits += 1\n",
    "\n",
    "\n",
    "while j!=0:\n",
    "    temp = j % 10\n",
    "    sum = sum + temp ** no_of_digits\n",
    "    j = j//10\n",
    "\n",
    "\n",
    "if sum == n:\n",
    "    print('The number is an armstrong number')\n",
    "else:\n",
    "    print('The number is not an armstrong number')"
   ]
  },
  {
   "cell_type": "markdown",
   "id": "254165fb-94ff-4786-9bb9-b198d5941744",
   "metadata": {},
   "source": [
    "## Lists"
   ]
  },
  {
   "cell_type": "code",
   "execution_count": 27,
   "id": "46b29910-95fe-4802-a45e-deca364bdeee",
   "metadata": {},
   "outputs": [
    {
     "name": "stdout",
     "output_type": "stream",
     "text": [
      "['Apple', 'Banana', 'apple', 'Mango']\n",
      "Apple\n",
      "['Apple', 'Banana']\n",
      "['Banana', 'apple', 'Mango']\n",
      "['apple', 'Mango']\n",
      "['Apple', 'Banana', 'apple']\n",
      "Mango\n",
      "['Apple', 'Banana', 'apple']\n",
      "['Banana', 'apple', 'Mango']\n"
     ]
    }
   ],
   "source": [
    "fruits = ['Apple', 'Banana', 'apple', 'Mango']\n",
    "\n",
    "print(fruits)\n",
    "print(fruits[0])\n",
    "print(fruits[0:2])\n",
    "print(fruits[1:len(fruits)])\n",
    "print(fruits[2:])\n",
    "print(fruits[:3])\n",
    "print(fruits[-1])\n",
    "print(fruits[-4:-1])\n",
    "print(fruits[-3:])"
   ]
  },
  {
   "cell_type": "code",
   "execution_count": 25,
   "id": "d87b1085-39f9-47d4-9b3e-d97321e64a93",
   "metadata": {},
   "outputs": [
    {
     "name": "stdin",
     "output_type": "stream",
     "text": [
      "Enter the fruit Orange\n"
     ]
    },
    {
     "name": "stdout",
     "output_type": "stream",
     "text": [
      "The fruit does not exist\n"
     ]
    }
   ],
   "source": [
    "user_fruit = input('Enter the fruit')\n",
    "\n",
    "for i in range(0,len(fruits)):\n",
    "    if (fruits[i] == user_fruit):\n",
    "        print('The fruit exists')\n",
    "        break\n",
    "else:\n",
    "    print('The fruit does not exist')"
   ]
  },
  {
   "cell_type": "code",
   "execution_count": 27,
   "id": "a7ad3b05-9d15-4cb0-8086-a1c42fdb281d",
   "metadata": {},
   "outputs": [
    {
     "name": "stdin",
     "output_type": "stream",
     "text": [
      "Enter the fruit Mango\n"
     ]
    },
    {
     "name": "stdout",
     "output_type": "stream",
     "text": [
      "It exists\n"
     ]
    }
   ],
   "source": [
    "user_fruit = input('Enter the fruit')\n",
    "\n",
    "if user_fruit in fruits:\n",
    "    print('It exists')\n",
    "else:\n",
    "    print('It does not exist')"
   ]
  },
  {
   "cell_type": "code",
   "execution_count": 48,
   "id": "e4945bbf-e4e8-4224-a740-f6fe0444bc00",
   "metadata": {},
   "outputs": [],
   "source": [
    "fruits.insert(1,'Orange')"
   ]
  },
  {
   "cell_type": "code",
   "execution_count": 29,
   "id": "ffae9daa-02e1-4b12-891d-aa9c697ef67b",
   "metadata": {},
   "outputs": [
    {
     "name": "stdout",
     "output_type": "stream",
     "text": [
      "['Apple', 'Orange', 'Banana', 'apple', 'Mango']\n"
     ]
    }
   ],
   "source": [
    "print(fruits)"
   ]
  },
  {
   "cell_type": "code",
   "execution_count": 49,
   "id": "bef1de82-17ef-4f8a-9a6f-13b8a81b8897",
   "metadata": {},
   "outputs": [
    {
     "name": "stdout",
     "output_type": "stream",
     "text": [
      "['Orange', 'Grapes', 'Watermelon', 'Chicu']\n"
     ]
    }
   ],
   "source": [
    "seasonal_fruits = ['Orange', 'Grapes', 'Watermelon', 'Chicu']\n",
    "print(seasonal_fruits)"
   ]
  },
  {
   "cell_type": "code",
   "execution_count": 50,
   "id": "a8882f4b-0165-412e-98f4-a1dc1acd1a24",
   "metadata": {},
   "outputs": [],
   "source": [
    "fruits.extend(seasonal_fruits)"
   ]
  },
  {
   "cell_type": "code",
   "execution_count": 51,
   "id": "4aec8001-f2d6-450b-a688-b7d4bb7e6422",
   "metadata": {},
   "outputs": [
    {
     "name": "stdout",
     "output_type": "stream",
     "text": [
      "['Apple', 'Orange', 'Banana', 'apple', 'Mango', 'Orange', 'Grapes', 'Watermelon', 'Chicu']\n"
     ]
    }
   ],
   "source": [
    "print(fruits)"
   ]
  },
  {
   "cell_type": "code",
   "execution_count": 33,
   "id": "c8181804-55f5-4740-a336-a7b7b1b47978",
   "metadata": {},
   "outputs": [],
   "source": [
    "fruits.append('abc')"
   ]
  },
  {
   "cell_type": "code",
   "execution_count": 34,
   "id": "43c72f2f-8f5c-4f02-8031-70c543456e19",
   "metadata": {},
   "outputs": [
    {
     "name": "stdout",
     "output_type": "stream",
     "text": [
      "['Apple', 'Orange', 'Banana', 'apple', 'Mango', 'Orange', 'Grapes', 'Watermelon', 'Chicu', 'abc']\n"
     ]
    }
   ],
   "source": [
    "print(fruits)"
   ]
  },
  {
   "cell_type": "code",
   "execution_count": 35,
   "id": "5dd4d4c2-db0a-4cb1-aa20-e8155afa490e",
   "metadata": {},
   "outputs": [],
   "source": [
    "fruits[1:3] = ['chicu', 'Dragonfruit']"
   ]
  },
  {
   "cell_type": "code",
   "execution_count": 36,
   "id": "44958388-ce78-4f91-8153-57170d17435d",
   "metadata": {},
   "outputs": [
    {
     "name": "stdout",
     "output_type": "stream",
     "text": [
      "['Apple', 'chicu', 'Dragonfruit', 'apple', 'Mango', 'Orange', 'Grapes', 'Watermelon', 'Chicu', 'abc']\n"
     ]
    }
   ],
   "source": [
    "print(fruits)"
   ]
  },
  {
   "cell_type": "code",
   "execution_count": 37,
   "id": "570016a2-75d1-4e4c-86c6-ef45da409122",
   "metadata": {},
   "outputs": [],
   "source": [
    "fruits[1:2] = ['abc', 'efg', 'rst']"
   ]
  },
  {
   "cell_type": "code",
   "execution_count": 38,
   "id": "4a688037-3a35-4581-953b-8d806015fa9b",
   "metadata": {},
   "outputs": [
    {
     "name": "stdout",
     "output_type": "stream",
     "text": [
      "['Apple', 'abc', 'efg', 'rst', 'Dragonfruit', 'apple', 'Mango', 'Orange', 'Grapes', 'Watermelon', 'Chicu', 'abc']\n"
     ]
    }
   ],
   "source": [
    "print(fruits)"
   ]
  },
  {
   "cell_type": "code",
   "execution_count": 39,
   "id": "759a5e59-c9c5-496c-886b-921d38250c86",
   "metadata": {},
   "outputs": [
    {
     "name": "stdout",
     "output_type": "stream",
     "text": [
      "['Apple', 'efg', 'rst', 'Dragonfruit', 'apple', 'Mango', 'Orange', 'Grapes', 'Watermelon', 'Chicu', 'abc']\n"
     ]
    }
   ],
   "source": [
    "fruits.remove('abc')\n",
    "print(fruits)"
   ]
  },
  {
   "cell_type": "code",
   "execution_count": 40,
   "id": "5a7aa879-ddcb-4a42-b92e-e36fede8e6f6",
   "metadata": {},
   "outputs": [],
   "source": [
    "fruits = [x for x in fruits if x!='abc']"
   ]
  },
  {
   "cell_type": "code",
   "execution_count": 41,
   "id": "7cec3e85-06d0-4c3b-b5a4-ace5d461d1e3",
   "metadata": {
    "scrolled": true
   },
   "outputs": [
    {
     "name": "stdout",
     "output_type": "stream",
     "text": [
      "['Apple', 'efg', 'rst', 'Dragonfruit', 'apple', 'Mango', 'Orange', 'Grapes', 'Watermelon', 'Chicu']\n"
     ]
    }
   ],
   "source": [
    "print(fruits)"
   ]
  },
  {
   "cell_type": "code",
   "execution_count": 55,
   "id": "be5b714b-51b5-4442-8f53-49561108bc7c",
   "metadata": {},
   "outputs": [],
   "source": [
    "fruits.insert(1, 'abc')\n",
    "fruits.append('abc')"
   ]
  },
  {
   "cell_type": "code",
   "execution_count": 44,
   "id": "480b6264-7aee-4569-90b7-cd7d06e7c5fa",
   "metadata": {},
   "outputs": [
    {
     "name": "stdout",
     "output_type": "stream",
     "text": [
      "['Apple', 'abc', 'efg', 'rst', 'Dragonfruit', 'apple', 'Mango', 'Orange', 'Grapes', 'Watermelon', 'Chicu', 'abc']\n"
     ]
    }
   ],
   "source": [
    "print(fruits)"
   ]
  },
  {
   "cell_type": "code",
   "execution_count": 64,
   "id": "108ca39f-67da-472c-a950-c94441d97cda",
   "metadata": {},
   "outputs": [],
   "source": [
    "fruits = [x for x in fruits if x!='abc']"
   ]
  },
  {
   "cell_type": "code",
   "execution_count": 65,
   "id": "7978afa3-c24e-4850-9826-e33e9cf0d642",
   "metadata": {},
   "outputs": [
    {
     "name": "stdout",
     "output_type": "stream",
     "text": [
      "['Apple', 'Orange', 'Banana', 'apple', 'Mango', 'Orange', 'Grapes', 'Watermelon', 'Chicu']\n"
     ]
    }
   ],
   "source": [
    "print(fruits)"
   ]
  },
  {
   "cell_type": "code",
   "execution_count": 63,
   "id": "81e4d746-37d5-48f1-bb4d-32f472f8cbc2",
   "metadata": {},
   "outputs": [
    {
     "name": "stdout",
     "output_type": "stream",
     "text": [
      "['Apple', 'Orange', 'Banana', 'apple', 'Mango', 'Orange', 'Grapes', 'Watermelon', 'Chicu']\n"
     ]
    }
   ],
   "source": [
    "print(temp_fruits)"
   ]
  },
  {
   "cell_type": "code",
   "execution_count": 66,
   "id": "a4385580-5275-4698-ac68-78d4f21e156c",
   "metadata": {},
   "outputs": [
    {
     "name": "stdout",
     "output_type": "stream",
     "text": [
      "['Apple', 'Orange', 'Banana', 'apple', 'Mango', 'Orange', 'Grapes', 'Watermelon']\n"
     ]
    }
   ],
   "source": [
    "fruits.pop()\n",
    "print(fruits)"
   ]
  },
  {
   "cell_type": "code",
   "execution_count": 67,
   "id": "ae2fdc62-316c-4382-ade6-6b4521bf2e54",
   "metadata": {},
   "outputs": [
    {
     "data": {
      "text/plain": [
       "'Orange'"
      ]
     },
     "execution_count": 67,
     "metadata": {},
     "output_type": "execute_result"
    }
   ],
   "source": [
    "fruits.pop(1)"
   ]
  },
  {
   "cell_type": "code",
   "execution_count": 68,
   "id": "67ed8791-1382-4afb-b7bf-5fefb0bda2b7",
   "metadata": {},
   "outputs": [
    {
     "name": "stdout",
     "output_type": "stream",
     "text": [
      "['Apple', 'Banana', 'apple', 'Mango', 'Orange', 'Grapes', 'Watermelon']\n"
     ]
    }
   ],
   "source": [
    "print(fruits)"
   ]
  },
  {
   "cell_type": "code",
   "execution_count": 69,
   "id": "b3bec971-5829-4dbb-96b6-ecc8a0084f70",
   "metadata": {},
   "outputs": [
    {
     "name": "stdout",
     "output_type": "stream",
     "text": [
      "['Apple', 'apple', 'Mango', 'Orange', 'Grapes', 'Watermelon']\n"
     ]
    }
   ],
   "source": [
    "fruits.pop(1)\n",
    "print(fruits)"
   ]
  },
  {
   "cell_type": "code",
   "execution_count": 70,
   "id": "50606228-353c-42b9-b596-43192787b4bd",
   "metadata": {},
   "outputs": [
    {
     "data": {
      "text/plain": [
       "'Watermelon'"
      ]
     },
     "execution_count": 70,
     "metadata": {},
     "output_type": "execute_result"
    }
   ],
   "source": [
    "fruits.pop()"
   ]
  },
  {
   "cell_type": "code",
   "execution_count": 71,
   "id": "a17a4dbc-1476-4d8f-88c3-d02cc6016e7d",
   "metadata": {},
   "outputs": [
    {
     "name": "stdout",
     "output_type": "stream",
     "text": [
      "Apple\n",
      "apple\n",
      "Mango\n",
      "Orange\n",
      "Grapes\n"
     ]
    }
   ],
   "source": [
    "for fruit in fruits:\n",
    "    print(fruit)"
   ]
  },
  {
   "cell_type": "code",
   "execution_count": 72,
   "id": "049eb3cb-6648-42aa-9b64-a8f5b3bac86e",
   "metadata": {},
   "outputs": [
    {
     "name": "stdout",
     "output_type": "stream",
     "text": [
      "Apple\n",
      "apple\n",
      "Mango\n",
      "Orange\n",
      "Grapes\n"
     ]
    }
   ],
   "source": [
    "for i in range(len(fruits)):\n",
    "    print(fruits[i])"
   ]
  },
  {
   "cell_type": "code",
   "execution_count": 77,
   "id": "b02cab98-bdc0-44fa-900c-636d796ab52d",
   "metadata": {},
   "outputs": [
    {
     "name": "stdout",
     "output_type": "stream",
     "text": [
      "[4, 9, 14, 24, 32, 33]\n"
     ]
    }
   ],
   "source": [
    "numbers = [14, 32, 33, 24, 4, 9]\n",
    "numbers.sort()\n",
    "print(numbers)"
   ]
  },
  {
   "cell_type": "code",
   "execution_count": 78,
   "id": "e38a996a-681b-46fb-a4f8-4fdb53e03674",
   "metadata": {},
   "outputs": [
    {
     "name": "stdout",
     "output_type": "stream",
     "text": [
      "[33, 32, 24, 14, 9, 4]\n"
     ]
    }
   ],
   "source": [
    "numbers = [14, 32, 33, 24, 4, 9]\n",
    "numbers.sort(reverse=True)\n",
    "print(numbers)"
   ]
  },
  {
   "cell_type": "code",
   "execution_count": 82,
   "id": "c6de45d8-53ff-4e34-8778-80ae35fa7d7e",
   "metadata": {},
   "outputs": [
    {
     "name": "stdout",
     "output_type": "stream",
     "text": [
      "[210, 430, 550, 680, 700]\n"
     ]
    }
   ],
   "source": [
    "list = [21, 43, 55, 68, 70]\n",
    "new_list = []\n",
    "\n",
    "for x in list:\n",
    "    new_list.append(x*10)\n",
    "print(new_list)"
   ]
  },
  {
   "cell_type": "markdown",
   "id": "96a0068c-4928-4b91-ae72-6425c4704a90",
   "metadata": {},
   "source": [
    "## Lambda Function"
   ]
  },
  {
   "cell_type": "code",
   "execution_count": 73,
   "id": "3eb31de1-79ac-4634-b2e9-aa870af60eb6",
   "metadata": {},
   "outputs": [
    {
     "name": "stdout",
     "output_type": "stream",
     "text": [
      "30\n"
     ]
    }
   ],
   "source": [
    "result = lambda x : x + 20\n",
    "print(result(10))"
   ]
  },
  {
   "cell_type": "code",
   "execution_count": 74,
   "id": "54893913-2802-47ab-97ac-e00b1807c246",
   "metadata": {},
   "outputs": [
    {
     "name": "stdout",
     "output_type": "stream",
     "text": [
      "100\n"
     ]
    }
   ],
   "source": [
    "result = lambda x : x ** 2\n",
    "print(result(10))"
   ]
  },
  {
   "cell_type": "code",
   "execution_count": 75,
   "id": "1aa95884-e7df-44df-a72a-882831c3d45b",
   "metadata": {},
   "outputs": [
    {
     "name": "stdout",
     "output_type": "stream",
     "text": [
      "25\n"
     ]
    }
   ],
   "source": [
    "result = lambda x,y : x + y\n",
    "print(result(10,15))"
   ]
  },
  {
   "cell_type": "markdown",
   "id": "d3c06f60-05a2-4e88-8550-282dc284da8b",
   "metadata": {},
   "source": [
    "## Closure"
   ]
  },
  {
   "cell_type": "code",
   "execution_count": 76,
   "id": "10f6c044-1f29-477c-aefe-e80fdc1e47cc",
   "metadata": {},
   "outputs": [
    {
     "name": "stdout",
     "output_type": "stream",
     "text": [
      "100\n"
     ]
    }
   ],
   "source": [
    "def multiply (val):\n",
    "    return lambda pow : val ** pow\n",
    "\n",
    "result = multiply(10)\n",
    "print(result(2))"
   ]
  },
  {
   "cell_type": "markdown",
   "id": "97c86b6e-5e71-4958-893b-9f4d09abeb5b",
   "metadata": {},
   "source": [
    "## Functional methods"
   ]
  },
  {
   "cell_type": "code",
   "execution_count": 6,
   "id": "8790ab49-d31e-41e1-b5fb-4129488a1681",
   "metadata": {},
   "outputs": [
    {
     "name": "stdout",
     "output_type": "stream",
     "text": [
      "[441, 1849, 3025, 4624, 4900]\n"
     ]
    }
   ],
   "source": [
    "numbers = [21, 43, 55, 68, 70]\n",
    "\n",
    "new_list = list(map(lambda x : x**2, numbers))\n",
    "print(new_list)"
   ]
  },
  {
   "cell_type": "markdown",
   "id": "db97a00d-17c6-4aac-82b8-df3ac72271de",
   "metadata": {},
   "source": [
    "## Tuples"
   ]
  },
  {
   "cell_type": "code",
   "execution_count": 7,
   "id": "e28c1f9d-7667-4863-8262-d200d9bd283f",
   "metadata": {},
   "outputs": [],
   "source": [
    "## Tuples can also have elements with different data types"
   ]
  },
  {
   "cell_type": "code",
   "execution_count": 8,
   "id": "aaf10cbe-699c-4ea5-a822-d947bd1daba1",
   "metadata": {},
   "outputs": [
    {
     "name": "stdout",
     "output_type": "stream",
     "text": [
      "(21, 32, 44, 56, 12)\n"
     ]
    }
   ],
   "source": [
    "my_tuple = (21, 32, 44, 56, 12)\n",
    "print(my_tuple)"
   ]
  },
  {
   "cell_type": "code",
   "execution_count": 9,
   "id": "34bd7006-3045-4324-bc5a-26f345087874",
   "metadata": {},
   "outputs": [
    {
     "name": "stdout",
     "output_type": "stream",
     "text": [
      "32\n"
     ]
    }
   ],
   "source": [
    "print(my_tuple[1])"
   ]
  },
  {
   "cell_type": "code",
   "execution_count": 10,
   "id": "390ebc00-391a-4af6-9b29-e62d856b2be7",
   "metadata": {},
   "outputs": [
    {
     "name": "stdout",
     "output_type": "stream",
     "text": [
      "(32, 44)\n"
     ]
    }
   ],
   "source": [
    "print(my_tuple[1:3])"
   ]
  },
  {
   "cell_type": "code",
   "execution_count": 11,
   "id": "8fdfcef0-a69f-46ab-a825-7887ac07edf6",
   "metadata": {},
   "outputs": [
    {
     "name": "stdout",
     "output_type": "stream",
     "text": [
      "(52, 66, 73, 81, 90)\n"
     ]
    }
   ],
   "source": [
    "my_tuple2 = (52, 66, 73, 81, 90)\n",
    "print(my_tuple2)"
   ]
  },
  {
   "cell_type": "markdown",
   "id": "510f2c31-1c6f-4fa8-bf5e-bd14233c66c4",
   "metadata": {},
   "source": [
    "### Tuple Operations"
   ]
  },
  {
   "cell_type": "markdown",
   "id": "b2bb10b9-6b75-417a-834d-526d610ebd8a",
   "metadata": {},
   "source": [
    "#### Concatination"
   ]
  },
  {
   "cell_type": "code",
   "execution_count": 12,
   "id": "ee8d1132-d477-40b5-bff5-8de17300a546",
   "metadata": {},
   "outputs": [
    {
     "name": "stdout",
     "output_type": "stream",
     "text": [
      "(21, 32, 44, 56, 12, 52, 66, 73, 81, 90)\n"
     ]
    }
   ],
   "source": [
    "result = my_tuple + my_tuple2\n",
    "print(result)"
   ]
  },
  {
   "cell_type": "markdown",
   "id": "61312561-c7f9-4e07-9e07-d6980aba90d6",
   "metadata": {},
   "source": [
    "#### Repetition"
   ]
  },
  {
   "cell_type": "code",
   "execution_count": 13,
   "id": "053bc833-44c4-4f19-8bb8-1e89e4f726c7",
   "metadata": {},
   "outputs": [
    {
     "name": "stdout",
     "output_type": "stream",
     "text": [
      "(21, 32, 44, 56, 12, 21, 32, 44, 56, 12)\n"
     ]
    }
   ],
   "source": [
    "print(my_tuple * 2)"
   ]
  },
  {
   "cell_type": "markdown",
   "id": "8770cebd-648a-4bb8-b144-0066adb3cd73",
   "metadata": {},
   "source": [
    "#### Membership (in)"
   ]
  },
  {
   "cell_type": "code",
   "execution_count": 15,
   "id": "7fc3868c-5362-4939-a161-256bb68e4d0a",
   "metadata": {},
   "outputs": [
    {
     "name": "stdout",
     "output_type": "stream",
     "text": [
      "True\n",
      "False\n"
     ]
    }
   ],
   "source": [
    "print(32 in my_tuple)\n",
    "print(30 in my_tuple)"
   ]
  },
  {
   "cell_type": "markdown",
   "id": "1b35db67-1944-4469-ac28-188aec73e6d0",
   "metadata": {},
   "source": [
    "#### Iterating through a tuple"
   ]
  },
  {
   "cell_type": "code",
   "execution_count": 17,
   "id": "bc047000-16b4-45d3-b2e6-c8447b98222c",
   "metadata": {},
   "outputs": [
    {
     "name": "stdout",
     "output_type": "stream",
     "text": [
      "21\n",
      "32\n",
      "44\n",
      "56\n",
      "12\n"
     ]
    }
   ],
   "source": [
    "for item in my_tuple:\n",
    "    print(item)"
   ]
  },
  {
   "cell_type": "markdown",
   "id": "2c8895af-b157-4da3-83ec-e62ff4c97627",
   "metadata": {},
   "source": [
    "### Tuple Methods"
   ]
  },
  {
   "cell_type": "code",
   "execution_count": 22,
   "id": "c70e0ddd-8e1b-48be-a2f0-163e2f628cdb",
   "metadata": {},
   "outputs": [
    {
     "name": "stdout",
     "output_type": "stream",
     "text": [
      "1\n"
     ]
    }
   ],
   "source": [
    "print(my_tuple.count(32))\n",
    "\n",
    "# It counts the number of times an element is repeated in a tuple"
   ]
  },
  {
   "cell_type": "code",
   "execution_count": 24,
   "id": "5d9eb243-bd73-4c77-8b08-5943a7e38880",
   "metadata": {},
   "outputs": [
    {
     "name": "stdout",
     "output_type": "stream",
     "text": [
      "2\n"
     ]
    }
   ],
   "source": [
    "print(my_tuple.index(44))\n",
    "\n",
    "# Returns the index in which the element is residing"
   ]
  },
  {
   "cell_type": "markdown",
   "id": "a904c7f2-d303-46a6-8788-47a3c660f324",
   "metadata": {},
   "source": [
    "#### Functions"
   ]
  },
  {
   "cell_type": "code",
   "execution_count": 25,
   "id": "692939f9-3ac2-4d74-8cd0-1199a77b11c6",
   "metadata": {},
   "outputs": [
    {
     "name": "stdout",
     "output_type": "stream",
     "text": [
      "5\n",
      "165\n",
      "56\n",
      "[12, 21, 32, 44, 56]\n"
     ]
    }
   ],
   "source": [
    "print(len(my_tuple))\n",
    "print(sum(my_tuple))\n",
    "print(max(my_tuple))\n",
    "print(sorted(my_tuple))"
   ]
  },
  {
   "cell_type": "code",
   "execution_count": 28,
   "id": "51757720-8c77-42a1-8a84-6f8f56c8b33d",
   "metadata": {},
   "outputs": [
    {
     "name": "stdout",
     "output_type": "stream",
     "text": [
      "('Apple', 'Banana', 'apple', 'Mango')\n"
     ]
    }
   ],
   "source": [
    "print(tuple(fruits))"
   ]
  },
  {
   "cell_type": "markdown",
   "id": "1644ffb8-6723-46bb-9f9e-541f51005372",
   "metadata": {},
   "source": [
    "## Sets"
   ]
  },
  {
   "cell_type": "code",
   "execution_count": 30,
   "id": "55746cf6-629f-425d-ab15-34f8b150d9bc",
   "metadata": {},
   "outputs": [
    {
     "name": "stdout",
     "output_type": "stream",
     "text": [
      "{1, 2, 3, 4, 5}\n"
     ]
    }
   ],
   "source": [
    "my_set = {1, 2, 3, 4, 5}\n",
    "print(my_set)"
   ]
  },
  {
   "cell_type": "code",
   "execution_count": 31,
   "id": "3cffde19-16d2-421d-aba2-947376ecd6e2",
   "metadata": {},
   "outputs": [
    {
     "name": "stdout",
     "output_type": "stream",
     "text": [
      "{1, 2, 3, 4, 5}\n"
     ]
    }
   ],
   "source": [
    "#duplicates are automatically removed\n",
    "\n",
    "duplicate_set = {1, 2, 2, 3, 4, 4, 5}\n",
    "print(duplicate_set)"
   ]
  },
  {
   "cell_type": "code",
   "execution_count": 32,
   "id": "37f80a46-6486-4bbe-b6da-7cd75a480de7",
   "metadata": {},
   "outputs": [],
   "source": [
    "# Since sets are unordered, they do not support indexing or slicing like lists or tuples."
   ]
  },
  {
   "cell_type": "code",
   "execution_count": 33,
   "id": "a43b7fb6-950e-49ab-9291-db1d5798734a",
   "metadata": {},
   "outputs": [
    {
     "name": "stdout",
     "output_type": "stream",
     "text": [
      "1\n",
      "2\n",
      "3\n",
      "4\n",
      "5\n"
     ]
    }
   ],
   "source": [
    "for item in my_set:\n",
    "    print(item)"
   ]
  },
  {
   "cell_type": "code",
   "execution_count": 5,
   "id": "f3c40515-c82f-4af5-b7f6-163dfe7bd2ee",
   "metadata": {},
   "outputs": [
    {
     "name": "stdout",
     "output_type": "stream",
     "text": [
      "{1, 2, 3, 4, 'Danish'}\n"
     ]
    }
   ],
   "source": [
    "my_set = {1, 2, 3, 'Danish'}\n",
    "my_set.add(4)\n",
    "print(my_set)"
   ]
  },
  {
   "cell_type": "code",
   "execution_count": 6,
   "id": "951722af-3a6a-4257-8314-eb0909745350",
   "metadata": {},
   "outputs": [
    {
     "name": "stdout",
     "output_type": "stream",
     "text": [
      "{1, 2, 3, 4}\n"
     ]
    }
   ],
   "source": [
    "my_set.remove('Danish')\n",
    "print(my_set)"
   ]
  },
  {
   "cell_type": "code",
   "execution_count": 35,
   "id": "d2f65cc1-7b96-4303-bc49-eee9c1d3de5b",
   "metadata": {},
   "outputs": [
    {
     "name": "stdout",
     "output_type": "stream",
     "text": [
      "{1, 2, 4}\n",
      "1\n",
      "{2, 4}\n"
     ]
    }
   ],
   "source": [
    "my_set.remove(3)\n",
    "print(my_set)\n",
    "\n",
    "my_set.discard(10)  # Does nothing (no error)\n",
    "\n",
    "removed_item = my_set.pop()  # Removes a random element\n",
    "print(removed_item)\n",
    "print(my_set)"
   ]
  },
  {
   "cell_type": "code",
   "execution_count": 36,
   "id": "fe88fe90-015f-44f8-9cf5-d5bf473bb635",
   "metadata": {},
   "outputs": [
    {
     "name": "stdout",
     "output_type": "stream",
     "text": [
      "set()\n"
     ]
    }
   ],
   "source": [
    "my_set.clear()\n",
    "print(my_set)"
   ]
  },
  {
   "cell_type": "code",
   "execution_count": 37,
   "id": "74d043c6-c936-4123-a8f4-1df40ff82dcc",
   "metadata": {},
   "outputs": [],
   "source": [
    "del my_set"
   ]
  },
  {
   "cell_type": "code",
   "execution_count": 38,
   "id": "e77eeb8f-13b8-422e-8573-88a2e6f79dd5",
   "metadata": {},
   "outputs": [
    {
     "name": "stdout",
     "output_type": "stream",
     "text": [
      "{1, 2, 3, 4, 5}\n",
      "{1, 2, 3, 4, 5}\n"
     ]
    }
   ],
   "source": [
    "set1 = {1, 2, 3}\n",
    "set2 = {3, 4, 5}\n",
    "\n",
    "print(set1 | set2)  \n",
    "print(set1.union(set2))  "
   ]
  },
  {
   "cell_type": "code",
   "execution_count": 39,
   "id": "f51b093c-806c-438e-8910-35539a6411d5",
   "metadata": {},
   "outputs": [
    {
     "name": "stdout",
     "output_type": "stream",
     "text": [
      "{3}\n",
      "{3}\n"
     ]
    }
   ],
   "source": [
    "print(set1 & set2)  \n",
    "print(set1.intersection(set2))"
   ]
  },
  {
   "cell_type": "code",
   "execution_count": 40,
   "id": "e770049f-4591-45b6-9b90-986659839fd3",
   "metadata": {},
   "outputs": [
    {
     "name": "stdout",
     "output_type": "stream",
     "text": [
      "{1, 2}\n",
      "{1, 2}\n"
     ]
    }
   ],
   "source": [
    "print(set1 - set2)\n",
    "print(set1.difference(set2))"
   ]
  },
  {
   "cell_type": "code",
   "execution_count": 41,
   "id": "7228c918-e16b-444e-8470-5b49a09331cc",
   "metadata": {},
   "outputs": [
    {
     "name": "stdout",
     "output_type": "stream",
     "text": [
      "{1, 2, 4, 5}\n",
      "{1, 2, 4, 5}\n"
     ]
    }
   ],
   "source": [
    "print(set1 ^ set2)  \n",
    "print(set1.symmetric_difference(set2))\n",
    "\n",
    "# Finds elements that are in one set but not in both."
   ]
  },
  {
   "cell_type": "code",
   "execution_count": 42,
   "id": "d818e249-f413-425e-a0de-6c7b5f9a7d06",
   "metadata": {},
   "outputs": [
    {
     "name": "stdout",
     "output_type": "stream",
     "text": [
      "False\n",
      "False\n",
      "False\n"
     ]
    }
   ],
   "source": [
    "A = {1, 2, 3, 4, 5}\n",
    "B = {4, 5, 6, 7, 8}\n",
    "\n",
    "print(A.issubset(B))  \n",
    "print(A.issuperset(B))  \n",
    "print(A.isdisjoint(B))"
   ]
  },
  {
   "cell_type": "code",
   "execution_count": 43,
   "id": "aa71cd39-55ad-4014-a935-f8c4997f769f",
   "metadata": {},
   "outputs": [],
   "source": [
    "# Same functions like len, max, min, sum, sorted apply in sets as well"
   ]
  },
  {
   "cell_type": "code",
   "execution_count": 8,
   "id": "6483f2ec-7a16-4c65-b953-f28df5c45b66",
   "metadata": {},
   "outputs": [
    {
     "name": "stdout",
     "output_type": "stream",
     "text": [
      "{'Hindi', 'Marathi', 'English'}\n"
     ]
    }
   ],
   "source": [
    "language = {'English', 'Hindi', 'Marathi', 'Hindi'}\n",
    "print(language)"
   ]
  },
  {
   "cell_type": "code",
   "execution_count": 9,
   "id": "43453ad9-3638-4331-b532-799f45174df9",
   "metadata": {},
   "outputs": [],
   "source": [
    "# len(language)\n",
    "language.remove('English')"
   ]
  },
  {
   "cell_type": "code",
   "execution_count": 10,
   "id": "9741202b-15f8-4d34-adc7-304ecc6ae761",
   "metadata": {},
   "outputs": [
    {
     "name": "stdout",
     "output_type": "stream",
     "text": [
      "{'Hindi', 'Marathi'}\n"
     ]
    }
   ],
   "source": [
    "print(language)"
   ]
  },
  {
   "cell_type": "code",
   "execution_count": 16,
   "id": "30614bac-3701-44bb-8c36-68ffb25ef2ee",
   "metadata": {},
   "outputs": [],
   "source": [
    "language = {'English', 'Hindi', 'Marathi', 'hindi'}"
   ]
  },
  {
   "cell_type": "code",
   "execution_count": 4,
   "id": "b5689328-e509-42ae-8b9d-fc2f65b13b29",
   "metadata": {},
   "outputs": [
    {
     "name": "stdout",
     "output_type": "stream",
     "text": [
      "{'Marathi', 'English', 'Hindi', 'hindi'}\n"
     ]
    }
   ],
   "source": [
    "print(language)"
   ]
  },
  {
   "cell_type": "code",
   "execution_count": 6,
   "id": "66437317-faee-4f2c-b184-9d39d9616219",
   "metadata": {},
   "outputs": [],
   "source": [
    "language.remove('hindi')"
   ]
  },
  {
   "cell_type": "code",
   "execution_count": 7,
   "id": "2531a6ce-79c1-4709-a7c0-314b8fb7467c",
   "metadata": {},
   "outputs": [
    {
     "name": "stdout",
     "output_type": "stream",
     "text": [
      "{'Marathi', 'English', 'Hindi'}\n"
     ]
    }
   ],
   "source": [
    "print(language)"
   ]
  },
  {
   "cell_type": "code",
   "execution_count": 14,
   "id": "0ecf0dab-aef2-4d9c-8b61-05002d49c543",
   "metadata": {},
   "outputs": [],
   "source": [
    "del language"
   ]
  },
  {
   "cell_type": "code",
   "execution_count": 11,
   "id": "d2867154-a5e6-4def-b23a-526fb53a1577",
   "metadata": {},
   "outputs": [],
   "source": [
    "language.clear()"
   ]
  },
  {
   "cell_type": "code",
   "execution_count": 15,
   "id": "4f1a2cdc-659e-4d9e-be6b-1ce6697f73cf",
   "metadata": {},
   "outputs": [
    {
     "ename": "NameError",
     "evalue": "name 'language' is not defined",
     "output_type": "error",
     "traceback": [
      "\u001b[1;31m---------------------------------------------------------------------------\u001b[0m",
      "\u001b[1;31mNameError\u001b[0m                                 Traceback (most recent call last)",
      "Cell \u001b[1;32mIn[15], line 1\u001b[0m\n\u001b[1;32m----> 1\u001b[0m \u001b[38;5;28mprint\u001b[39m(language)\n",
      "\u001b[1;31mNameError\u001b[0m: name 'language' is not defined"
     ]
    }
   ],
   "source": [
    "print(language)"
   ]
  },
  {
   "cell_type": "code",
   "execution_count": 17,
   "id": "0b4053b4-cea3-4789-ab32-d10e6ecb9006",
   "metadata": {},
   "outputs": [
    {
     "data": {
      "text/plain": [
       "'Marathi'"
      ]
     },
     "execution_count": 17,
     "metadata": {},
     "output_type": "execute_result"
    }
   ],
   "source": [
    "language.pop()"
   ]
  },
  {
   "cell_type": "code",
   "execution_count": 18,
   "id": "2e926615-95f1-4c9d-894a-61a93079c495",
   "metadata": {},
   "outputs": [
    {
     "name": "stdout",
     "output_type": "stream",
     "text": [
      "{'English', 'Hindi', 'hindi'}\n"
     ]
    }
   ],
   "source": [
    "print(language)"
   ]
  },
  {
   "cell_type": "markdown",
   "id": "8a129e5e-f357-4453-866f-283a55f1c42f",
   "metadata": {},
   "source": [
    "## Dictionaries"
   ]
  },
  {
   "cell_type": "code",
   "execution_count": 21,
   "id": "d9d69586-02b9-44ca-b1b7-75bb1ce02f94",
   "metadata": {},
   "outputs": [
    {
     "name": "stdout",
     "output_type": "stream",
     "text": [
      "{'Name': 'Danish', 'RollNo': 1310, 'Grades': 8.2, 'Gender': 'M'}\n"
     ]
    }
   ],
   "source": [
    "dictionary1 = {'Name':'Danish', 'RollNo':1310, 'Grades':8.2, 'Gender':'M'}\n",
    "print(dictionary1)"
   ]
  },
  {
   "cell_type": "code",
   "execution_count": 22,
   "id": "889b93b5-28dd-41f4-961d-701e0ebe50fa",
   "metadata": {},
   "outputs": [
    {
     "data": {
      "text/plain": [
       "4"
      ]
     },
     "execution_count": 22,
     "metadata": {},
     "output_type": "execute_result"
    }
   ],
   "source": [
    "len(dictionary1)"
   ]
  },
  {
   "cell_type": "code",
   "execution_count": 23,
   "id": "73998342-d7d7-4581-bc46-71a469fcc72a",
   "metadata": {},
   "outputs": [
    {
     "name": "stdout",
     "output_type": "stream",
     "text": [
      "dict_keys(['Name', 'RollNo', 'Grades', 'Gender'])\n"
     ]
    }
   ],
   "source": [
    "result = dictionary1.keys()\n",
    "print(result)"
   ]
  },
  {
   "cell_type": "code",
   "execution_count": 26,
   "id": "648da4f5-5a80-4b7a-986e-f953795b4aba",
   "metadata": {},
   "outputs": [
    {
     "name": "stdout",
     "output_type": "stream",
     "text": [
      "dict_values(['Danish', 1310, 8.2, 'M'])\n"
     ]
    }
   ],
   "source": [
    "result = dictionary1.values()\n",
    "print(result)"
   ]
  },
  {
   "cell_type": "code",
   "execution_count": 27,
   "id": "dc40f26b-e147-4b4a-a536-644483c244d1",
   "metadata": {},
   "outputs": [
    {
     "name": "stdout",
     "output_type": "stream",
     "text": [
      "Name\n",
      "RollNo\n",
      "Grades\n",
      "Gender\n"
     ]
    }
   ],
   "source": [
    "for item in dictionary1:\n",
    "    print(item)"
   ]
  },
  {
   "cell_type": "code",
   "execution_count": 30,
   "id": "a53ca14e-bb24-4680-82eb-be014f47f9ed",
   "metadata": {},
   "outputs": [
    {
     "name": "stdout",
     "output_type": "stream",
     "text": [
      "Name\n",
      "RollNo\n",
      "Grades\n",
      "Gender\n"
     ]
    }
   ],
   "source": [
    "for item in dictionary1.keys():\n",
    "    print(item)\n",
    "    "
   ]
  },
  {
   "cell_type": "code",
   "execution_count": 38,
   "id": "d69eae53-68e5-4d8e-ac46-db2fe34b91f1",
   "metadata": {},
   "outputs": [],
   "source": [
    "dictionary2 = dict(Name='Danish')"
   ]
  },
  {
   "cell_type": "code",
   "execution_count": null,
   "id": "4f9864bf-e8c0-45c5-b618-11955b48a048",
   "metadata": {},
   "outputs": [],
   "source": [
    "dictionary2"
   ]
  },
  {
   "cell_type": "markdown",
   "id": "41c4a8ee-1692-4f54-87a0-a8aad8c59d78",
   "metadata": {},
   "source": [
    "#### Accessing Dictionary Elements"
   ]
  },
  {
   "cell_type": "code",
   "execution_count": 60,
   "id": "0159f280-814b-4357-8a29-708de2fd555d",
   "metadata": {},
   "outputs": [
    {
     "name": "stdout",
     "output_type": "stream",
     "text": [
      "Danish\n",
      "21\n"
     ]
    }
   ],
   "source": [
    "student = {\n",
    "    \"name\": \"Danish\",\n",
    "    \"age\": 21,\n",
    "    \"city\": \"Mumbai\"\n",
    "}\n",
    "\n",
    "print(student[\"name\"])\n",
    "print(student.get(\"age\"))"
   ]
  },
  {
   "cell_type": "markdown",
   "id": "0406541e-e272-4c50-8ea2-490930582b84",
   "metadata": {},
   "source": [
    "#### Modifying a Dictionary"
   ]
  },
  {
   "cell_type": "code",
   "execution_count": 61,
   "id": "5993885b-742a-4c35-83ff-b820ef29d4ca",
   "metadata": {},
   "outputs": [
    {
     "name": "stdout",
     "output_type": "stream",
     "text": [
      "{'name': 'Danish', 'age': 23, 'city': 'Mumbai', 'grade': 'A'}\n"
     ]
    }
   ],
   "source": [
    "student[\"age\"] = 23  # Modifies existing value\n",
    "student[\"grade\"] = \"A\"  # Adds a new key-value pair\n",
    "print(student)"
   ]
  },
  {
   "cell_type": "markdown",
   "id": "4efe3e9a-8f24-44f6-a42c-44bd8344f2d5",
   "metadata": {},
   "source": [
    "#### Removing Elements"
   ]
  },
  {
   "cell_type": "code",
   "execution_count": 46,
   "id": "75b31906-8dc2-40c7-ba0b-c257370ef54e",
   "metadata": {},
   "outputs": [
    {
     "name": "stdout",
     "output_type": "stream",
     "text": [
      "{'name': 'Danish', 'age': 23}\n"
     ]
    }
   ],
   "source": [
    "student.pop(\"city\")  # Removes 'city' key\n",
    "del student[\"grade\"]  # Deletes 'grade' key\n",
    "\n",
    "print(student)"
   ]
  },
  {
   "cell_type": "code",
   "execution_count": 47,
   "id": "f81e1388-eae1-40f0-8385-e98379c5e4e2",
   "metadata": {},
   "outputs": [
    {
     "name": "stdout",
     "output_type": "stream",
     "text": [
      "{}\n"
     ]
    }
   ],
   "source": [
    "student.clear()  # Removes all items\n",
    "print(student)"
   ]
  },
  {
   "cell_type": "markdown",
   "id": "32319b2c-7f32-46ca-8ea0-ad9f701ff5cb",
   "metadata": {},
   "source": [
    "#### Dictionary Methods"
   ]
  },
  {
   "cell_type": "code",
   "execution_count": 50,
   "id": "145cc1d1-428b-4ef0-82cf-b38a0fe6ae23",
   "metadata": {},
   "outputs": [
    {
     "name": "stdout",
     "output_type": "stream",
     "text": [
      "dict_keys(['name', 'age', 'city', 'grade'])\n"
     ]
    }
   ],
   "source": [
    "print(student.keys())"
   ]
  },
  {
   "cell_type": "code",
   "execution_count": 51,
   "id": "3f281969-aabd-4639-a240-d0f1e14425ab",
   "metadata": {},
   "outputs": [
    {
     "name": "stdout",
     "output_type": "stream",
     "text": [
      "dict_values(['Danish', 23, 'Mumbai', 'A'])\n"
     ]
    }
   ],
   "source": [
    "print(student.values())"
   ]
  },
  {
   "cell_type": "code",
   "execution_count": 52,
   "id": "79394e85-3600-4653-bc66-baa0183d3dd0",
   "metadata": {},
   "outputs": [
    {
     "name": "stdout",
     "output_type": "stream",
     "text": [
      "dict_items([('name', 'Danish'), ('age', 23), ('city', 'Mumbai'), ('grade', 'A')])\n"
     ]
    }
   ],
   "source": [
    "print(student.items())"
   ]
  },
  {
   "cell_type": "code",
   "execution_count": 53,
   "id": "87c2c0a0-a048-49a6-bf42-ebedb2d091e9",
   "metadata": {},
   "outputs": [
    {
     "name": "stdout",
     "output_type": "stream",
     "text": [
      "Danish\n"
     ]
    }
   ],
   "source": [
    "print(student.get(\"name\"))"
   ]
  },
  {
   "cell_type": "code",
   "execution_count": 54,
   "id": "02145fc6-fd2c-4867-8615-2b44c159620b",
   "metadata": {},
   "outputs": [
    {
     "name": "stdout",
     "output_type": "stream",
     "text": [
      "{'name': 'Danish', 'age': 23, 'city': 'Mumbai', 'grade': 'A'}\n"
     ]
    }
   ],
   "source": [
    "student.update({\"age\": 23, \"grade\": \"A\"})\n",
    "print(student)"
   ]
  },
  {
   "cell_type": "code",
   "execution_count": 55,
   "id": "033accfd-1757-42d9-a7e0-77b7de52b72c",
   "metadata": {},
   "outputs": [
    {
     "name": "stdout",
     "output_type": "stream",
     "text": [
      "23\n"
     ]
    }
   ],
   "source": [
    "# Removes a key and returns its value.\n",
    "age = student.pop(\"age\")\n",
    "print(age)"
   ]
  },
  {
   "cell_type": "code",
   "execution_count": 56,
   "id": "a6b6c15b-c5e6-44bc-9974-f64a8c946c7b",
   "metadata": {},
   "outputs": [
    {
     "name": "stdout",
     "output_type": "stream",
     "text": [
      "('grade', 'A')\n"
     ]
    }
   ],
   "source": [
    "# Removes and returns the last inserted key-value pair\n",
    "print(student.popitem())"
   ]
  },
  {
   "cell_type": "code",
   "execution_count": 57,
   "id": "b4d0ca53-4777-49ff-8a76-d6fde564cfb1",
   "metadata": {},
   "outputs": [
    {
     "name": "stdout",
     "output_type": "stream",
     "text": [
      "{'name': 'Danish', 'city': 'Mumbai'}\n"
     ]
    }
   ],
   "source": [
    "# Creates a shallow copy of the dictionary.\n",
    "new_student = student.copy()\n",
    "print(new_student)"
   ]
  },
  {
   "cell_type": "code",
   "execution_count": 58,
   "id": "12262bf5-4ea2-4b0b-8311-a489712b8c4b",
   "metadata": {},
   "outputs": [
    {
     "name": "stdout",
     "output_type": "stream",
     "text": [
      "{}\n"
     ]
    }
   ],
   "source": [
    "student.clear()\n",
    "print(student)"
   ]
  },
  {
   "cell_type": "code",
   "execution_count": 59,
   "id": "cbfd7955-848f-4495-83fe-82cf27d6acae",
   "metadata": {},
   "outputs": [],
   "source": [
    "# Same functions like len, max, min, sum, sorted apply in sets as well"
   ]
  },
  {
   "cell_type": "code",
   "execution_count": 63,
   "id": "87535db0-e09d-4486-8f00-071fe3db7f1c",
   "metadata": {},
   "outputs": [],
   "source": [
    "student.update({'subject': ['English', 'Geography']})"
   ]
  },
  {
   "cell_type": "code",
   "execution_count": 64,
   "id": "c35545cc-9dd3-4ea6-9f96-de7b878bf3a1",
   "metadata": {},
   "outputs": [
    {
     "name": "stdout",
     "output_type": "stream",
     "text": [
      "{'name': 'Danish', 'age': 23, 'city': 'Mumbai', 'grade': 'A', 'subject': ['English', 'Geography']}\n"
     ]
    }
   ],
   "source": [
    "print(student)"
   ]
  },
  {
   "cell_type": "code",
   "execution_count": 65,
   "id": "f9e3fd86-97bf-4b5d-81c9-a962163fedec",
   "metadata": {},
   "outputs": [
    {
     "data": {
      "text/plain": [
       "['English', 'Geography']"
      ]
     },
     "execution_count": 65,
     "metadata": {},
     "output_type": "execute_result"
    }
   ],
   "source": [
    "student.get('subject')"
   ]
  },
  {
   "cell_type": "markdown",
   "id": "f4301340-c3f7-4b66-979d-b56ee2cf5fa8",
   "metadata": {},
   "source": [
    "#### Using a Dictionary Inside a Dictionary"
   ]
  },
  {
   "cell_type": "code",
   "execution_count": 68,
   "id": "17eb6a36-f87d-45db-9f61-5439b0af0999",
   "metadata": {},
   "outputs": [
    {
     "name": "stdout",
     "output_type": "stream",
     "text": [
      "{'Math': 90, 'Science': 94}\n",
      "90\n"
     ]
    }
   ],
   "source": [
    "student_scores = {'Danish':{'Math':90, 'Science':94}, 'Prathamesh':{'Math':92, 'Science':90}}\n",
    "\n",
    "print(student_scores['Danish'])\n",
    "print(student_scores['Danish'] ['Math'])"
   ]
  },
  {
   "cell_type": "markdown",
   "id": "43110203-a114-4537-bbe0-f989326eaa00",
   "metadata": {},
   "source": [
    "#### Merging Dictionaries"
   ]
  },
  {
   "cell_type": "code",
   "execution_count": 72,
   "id": "4e79270d-a232-404b-9cc7-9ab1c99cfa2f",
   "metadata": {},
   "outputs": [
    {
     "name": "stdout",
     "output_type": "stream",
     "text": [
      "{'a': 1, 'b': 2}\n",
      "{'c': 3, 'd': 4}\n"
     ]
    }
   ],
   "source": [
    "dict1 = {\"a\": 1, \"b\": 2}\n",
    "dict2 = {\"c\": 3, \"d\": 4}\n",
    "\n",
    "print(dict1)\n",
    "print(dict2)"
   ]
  },
  {
   "cell_type": "code",
   "execution_count": 73,
   "id": "0296a13b-4808-4f55-a105-c8551c62817f",
   "metadata": {},
   "outputs": [
    {
     "name": "stdout",
     "output_type": "stream",
     "text": [
      "{'a': 1, 'b': 2, 'c': 3, 'd': 4}\n"
     ]
    }
   ],
   "source": [
    "merged_dict = dict1 | dict2\n",
    "print(merged_dict)"
   ]
  },
  {
   "cell_type": "code",
   "execution_count": null,
   "id": "2a2e87dd-66ad-4957-9f1d-9ea22f66ced2",
   "metadata": {},
   "outputs": [],
   "source": []
  }
 ],
 "metadata": {
  "kernelspec": {
   "display_name": "Python 3 (ipykernel)",
   "language": "python",
   "name": "python3"
  },
  "language_info": {
   "codemirror_mode": {
    "name": "ipython",
    "version": 3
   },
   "file_extension": ".py",
   "mimetype": "text/x-python",
   "name": "python",
   "nbconvert_exporter": "python",
   "pygments_lexer": "ipython3",
   "version": "3.12.7"
  }
 },
 "nbformat": 4,
 "nbformat_minor": 5
}
