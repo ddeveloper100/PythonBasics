{
 "cells": [
  {
   "cell_type": "code",
   "execution_count": 20,
   "id": "8c050769-6b11-4434-8ea3-47345f433fb5",
   "metadata": {},
   "outputs": [],
   "source": [
    "import pandas as pd\n",
    "import numpy as np"
   ]
  },
  {
   "cell_type": "code",
   "execution_count": 3,
   "id": "d7b8a3bd-5c20-4630-8646-1a4920d4e818",
   "metadata": {},
   "outputs": [
    {
     "data": {
      "text/plain": [
       "list"
      ]
     },
     "execution_count": 3,
     "metadata": {},
     "output_type": "execute_result"
    }
   ],
   "source": [
    "list = [1.0, 2.0, 0.3, 0.4, 0.5]\n",
    "type(list)"
   ]
  },
  {
   "cell_type": "code",
   "execution_count": 4,
   "id": "4dc9139d-cd5b-4c30-b6a8-3a9c567e1cb6",
   "metadata": {},
   "outputs": [],
   "source": [
    "ser_list = pd.Series(list)"
   ]
  },
  {
   "cell_type": "code",
   "execution_count": 7,
   "id": "d00ed34f-8011-495a-bd58-151d0596576c",
   "metadata": {},
   "outputs": [
    {
     "data": {
      "text/plain": [
       "pandas.core.series.Series"
      ]
     },
     "execution_count": 7,
     "metadata": {},
     "output_type": "execute_result"
    }
   ],
   "source": [
    "type(ser_list)"
   ]
  },
  {
   "cell_type": "code",
   "execution_count": 8,
   "id": "2913b3d3-2d06-4f3a-a155-dd77f11613e7",
   "metadata": {},
   "outputs": [
    {
     "data": {
      "text/plain": [
       "0    1.0\n",
       "1    2.0\n",
       "2    0.3\n",
       "3    0.4\n",
       "4    0.5\n",
       "dtype: float64"
      ]
     },
     "execution_count": 8,
     "metadata": {},
     "output_type": "execute_result"
    }
   ],
   "source": [
    "ser_list"
   ]
  },
  {
   "cell_type": "code",
   "execution_count": 9,
   "id": "a062955c-b8ce-41f2-a1e6-8105737ebd65",
   "metadata": {},
   "outputs": [],
   "source": [
    "test_ser = pd.Series([1.0, 2.0, 0.3, 0.4, 0.5])"
   ]
  },
  {
   "cell_type": "code",
   "execution_count": 10,
   "id": "c65cb4a5-b485-46e6-aeb0-43226ac62bff",
   "metadata": {},
   "outputs": [
    {
     "data": {
      "text/plain": [
       "0    1.0\n",
       "1    2.0\n",
       "2    0.3\n",
       "3    0.4\n",
       "4    0.5\n",
       "dtype: float64"
      ]
     },
     "execution_count": 10,
     "metadata": {},
     "output_type": "execute_result"
    }
   ],
   "source": [
    "test_ser"
   ]
  },
  {
   "cell_type": "code",
   "execution_count": 11,
   "id": "c162a781-4165-445e-8256-1e77ce3fea91",
   "metadata": {},
   "outputs": [],
   "source": [
    "dict = {'10': 'A', '20': 'B', '30': 'C'}"
   ]
  },
  {
   "cell_type": "code",
   "execution_count": 12,
   "id": "c7f80fdf-30a7-4a37-a12e-ee1b0941fab5",
   "metadata": {},
   "outputs": [
    {
     "data": {
      "text/plain": [
       "{'10': 'A', '20': 'B', '30': 'C'}"
      ]
     },
     "execution_count": 12,
     "metadata": {},
     "output_type": "execute_result"
    }
   ],
   "source": [
    "dict"
   ]
  },
  {
   "cell_type": "code",
   "execution_count": 14,
   "id": "62fdfe0b-a96e-4635-95db-d96c8a62c079",
   "metadata": {},
   "outputs": [],
   "source": [
    "pd_ser = pd.Series(dict)"
   ]
  },
  {
   "cell_type": "code",
   "execution_count": 15,
   "id": "b44f57a3-56f6-4ea6-ac5c-d217d472ad8a",
   "metadata": {},
   "outputs": [
    {
     "data": {
      "text/plain": [
       "10    A\n",
       "20    B\n",
       "30    C\n",
       "dtype: object"
      ]
     },
     "execution_count": 15,
     "metadata": {},
     "output_type": "execute_result"
    }
   ],
   "source": [
    "pd_ser"
   ]
  },
  {
   "cell_type": "code",
   "execution_count": 18,
   "id": "445ef209-9208-46cc-af99-b8425ff63ed8",
   "metadata": {},
   "outputs": [
    {
     "data": {
      "text/plain": [
       "'A'"
      ]
     },
     "execution_count": 18,
     "metadata": {},
     "output_type": "execute_result"
    }
   ],
   "source": [
    "pd_ser['10']"
   ]
  },
  {
   "cell_type": "code",
   "execution_count": 21,
   "id": "dbbaa816-c308-48a7-a7f1-732c29b3d7d2",
   "metadata": {},
   "outputs": [
    {
     "data": {
      "text/plain": [
       "1    0\n",
       "2    1\n",
       "3    2\n",
       "4    3\n",
       "5    4\n",
       "dtype: int32"
      ]
     },
     "execution_count": 21,
     "metadata": {},
     "output_type": "execute_result"
    }
   ],
   "source": [
    "ser_scaler = pd.Series(np.arange(5), index = [1,2,3,4,5])\n",
    "ser_scaler"
   ]
  },
  {
   "cell_type": "code",
   "execution_count": 23,
   "id": "53d99dce-e494-4c85-82fe-a30cf0af9942",
   "metadata": {},
   "outputs": [
    {
     "data": {
      "text/plain": [
       "1    D\n",
       "2    B\n",
       "3    C\n",
       "dtype: object"
      ]
     },
     "execution_count": 23,
     "metadata": {},
     "output_type": "execute_result"
    }
   ],
   "source": [
    "ser_index = pd.Series({1:'A', 2:'B', 3:'C', 1:'D', 4:'E', 6:'F'}, index=[1,2,3])\n",
    "ser_index"
   ]
  },
  {
   "cell_type": "code",
   "execution_count": 24,
   "id": "eced53dd-6125-4864-a3d3-a935b0fd0599",
   "metadata": {},
   "outputs": [
    {
     "name": "stdout",
     "output_type": "stream",
     "text": [
      "1    A\n",
      "3    C\n",
      "5    E\n",
      "dtype: object\n"
     ]
    }
   ],
   "source": [
    "ser = pd.Series({1:'A', 2:'B', 3:'C', 4:'D', 5:'E'})\n",
    "print(ser.loc[[1,3,5]])"
   ]
  },
  {
   "cell_type": "code",
   "execution_count": 26,
   "id": "9ebfb8d9-a5f4-44fe-997d-81d563a4dc22",
   "metadata": {},
   "outputs": [],
   "source": [
    "states_capitals = {'Karnataka': 'Banglore', 'Andrapradesh': 'Hyderabad', 'Tamilnadu': 'Chennai', \n",
    "                  'Kerala':'Thiruvanathapuram', 'Maharashtra': 'Mumbai'}"
   ]
  },
  {
   "cell_type": "code",
   "execution_count": 27,
   "id": "9ffadb62-f7e5-4902-8382-611d8fcebb81",
   "metadata": {},
   "outputs": [],
   "source": [
    "states_lang = {'Karnataka': 'Kannada', 'Andrapradesh': 'Telugu', 'Tamilnadu': 'Tamil',\n",
    "                 'Maharashtra': 'Marathi', 'Kerala':'Malyalam'}"
   ]
  },
  {
   "cell_type": "code",
   "execution_count": 28,
   "id": "0cc7f5f8-6a4b-4cf7-a194-ec952f4747d1",
   "metadata": {},
   "outputs": [],
   "source": [
    "states_population = {'Karnataka': 3500000, 'Andrapradesh': 1230000, 'Tamilnadu': 5500000,\n",
    "                 'Maharashtra': 900000, 'Kerala': 1700000}"
   ]
  },
  {
   "cell_type": "code",
   "execution_count": 29,
   "id": "d411fbd6-31dc-4661-9f88-b733dc760214",
   "metadata": {},
   "outputs": [
    {
     "data": {
      "text/plain": [
       "{'Karnataka': 3500000,\n",
       " 'Andrapradesh': 1230000,\n",
       " 'Tamilnadu': 5500000,\n",
       " 'Maharashtra': 900000,\n",
       " 'Kerala': 1700000}"
      ]
     },
     "execution_count": 29,
     "metadata": {},
     "output_type": "execute_result"
    }
   ],
   "source": [
    "states_population"
   ]
  },
  {
   "cell_type": "code",
   "execution_count": 30,
   "id": "279f3c30-7bf1-4032-8719-98a11eab2ffc",
   "metadata": {},
   "outputs": [
    {
     "data": {
      "text/html": [
       "<div>\n",
       "<style scoped>\n",
       "    .dataframe tbody tr th:only-of-type {\n",
       "        vertical-align: middle;\n",
       "    }\n",
       "\n",
       "    .dataframe tbody tr th {\n",
       "        vertical-align: top;\n",
       "    }\n",
       "\n",
       "    .dataframe thead th {\n",
       "        text-align: right;\n",
       "    }\n",
       "</style>\n",
       "<table border=\"1\" class=\"dataframe\">\n",
       "  <thead>\n",
       "    <tr style=\"text-align: right;\">\n",
       "      <th></th>\n",
       "      <th>Capitals</th>\n",
       "      <th>Language</th>\n",
       "    </tr>\n",
       "  </thead>\n",
       "  <tbody>\n",
       "    <tr>\n",
       "      <th>Karnataka</th>\n",
       "      <td>Banglore</td>\n",
       "      <td>Kannada</td>\n",
       "    </tr>\n",
       "    <tr>\n",
       "      <th>Andrapradesh</th>\n",
       "      <td>Hyderabad</td>\n",
       "      <td>Telugu</td>\n",
       "    </tr>\n",
       "    <tr>\n",
       "      <th>Tamilnadu</th>\n",
       "      <td>Chennai</td>\n",
       "      <td>Tamil</td>\n",
       "    </tr>\n",
       "    <tr>\n",
       "      <th>Kerala</th>\n",
       "      <td>Thiruvanathapuram</td>\n",
       "      <td>Malyalam</td>\n",
       "    </tr>\n",
       "    <tr>\n",
       "      <th>Maharashtra</th>\n",
       "      <td>Mumbai</td>\n",
       "      <td>Marathi</td>\n",
       "    </tr>\n",
       "  </tbody>\n",
       "</table>\n",
       "</div>"
      ],
      "text/plain": [
       "                       Capitals  Language\n",
       "Karnataka              Banglore   Kannada\n",
       "Andrapradesh          Hyderabad    Telugu\n",
       "Tamilnadu               Chennai     Tamil\n",
       "Kerala        Thiruvanathapuram  Malyalam\n",
       "Maharashtra              Mumbai   Marathi"
      ]
     },
     "execution_count": 30,
     "metadata": {},
     "output_type": "execute_result"
    }
   ],
   "source": [
    "states_CL = pd.DataFrame({'Capitals': states_capitals, 'Language': states_lang})\n",
    "states_CL"
   ]
  },
  {
   "cell_type": "code",
   "execution_count": 31,
   "id": "ee7eca19-1abf-4683-b3e9-cb5a12e79b2b",
   "metadata": {},
   "outputs": [
    {
     "data": {
      "text/html": [
       "<div>\n",
       "<style scoped>\n",
       "    .dataframe tbody tr th:only-of-type {\n",
       "        vertical-align: middle;\n",
       "    }\n",
       "\n",
       "    .dataframe tbody tr th {\n",
       "        vertical-align: top;\n",
       "    }\n",
       "\n",
       "    .dataframe thead th {\n",
       "        text-align: right;\n",
       "    }\n",
       "</style>\n",
       "<table border=\"1\" class=\"dataframe\">\n",
       "  <thead>\n",
       "    <tr style=\"text-align: right;\">\n",
       "      <th></th>\n",
       "      <th>Capitals</th>\n",
       "      <th>Language</th>\n",
       "      <th>Population</th>\n",
       "    </tr>\n",
       "  </thead>\n",
       "  <tbody>\n",
       "    <tr>\n",
       "      <th>Karnataka</th>\n",
       "      <td>Banglore</td>\n",
       "      <td>Kannada</td>\n",
       "      <td>3500000</td>\n",
       "    </tr>\n",
       "    <tr>\n",
       "      <th>Andrapradesh</th>\n",
       "      <td>Hyderabad</td>\n",
       "      <td>Telugu</td>\n",
       "      <td>1230000</td>\n",
       "    </tr>\n",
       "    <tr>\n",
       "      <th>Tamilnadu</th>\n",
       "      <td>Chennai</td>\n",
       "      <td>Tamil</td>\n",
       "      <td>5500000</td>\n",
       "    </tr>\n",
       "    <tr>\n",
       "      <th>Kerala</th>\n",
       "      <td>Thiruvanathapuram</td>\n",
       "      <td>Malyalam</td>\n",
       "      <td>1700000</td>\n",
       "    </tr>\n",
       "    <tr>\n",
       "      <th>Maharashtra</th>\n",
       "      <td>Mumbai</td>\n",
       "      <td>Marathi</td>\n",
       "      <td>900000</td>\n",
       "    </tr>\n",
       "  </tbody>\n",
       "</table>\n",
       "</div>"
      ],
      "text/plain": [
       "                       Capitals  Language  Population\n",
       "Karnataka              Banglore   Kannada     3500000\n",
       "Andrapradesh          Hyderabad    Telugu     1230000\n",
       "Tamilnadu               Chennai     Tamil     5500000\n",
       "Kerala        Thiruvanathapuram  Malyalam     1700000\n",
       "Maharashtra              Mumbai   Marathi      900000"
      ]
     },
     "execution_count": 31,
     "metadata": {},
     "output_type": "execute_result"
    }
   ],
   "source": [
    "states_CL['Population'] = states_CL.index.map(states_population)\n",
    "\n",
    "states_CL"
   ]
  },
  {
   "cell_type": "code",
   "execution_count": 32,
   "id": "dc455da2-45ed-4e13-84c3-bc39be41c763",
   "metadata": {},
   "outputs": [
    {
     "data": {
      "text/html": [
       "<div>\n",
       "<style scoped>\n",
       "    .dataframe tbody tr th:only-of-type {\n",
       "        vertical-align: middle;\n",
       "    }\n",
       "\n",
       "    .dataframe tbody tr th {\n",
       "        vertical-align: top;\n",
       "    }\n",
       "\n",
       "    .dataframe thead th {\n",
       "        text-align: right;\n",
       "    }\n",
       "</style>\n",
       "<table border=\"1\" class=\"dataframe\">\n",
       "  <thead>\n",
       "    <tr style=\"text-align: right;\">\n",
       "      <th></th>\n",
       "      <th>a</th>\n",
       "      <th>b</th>\n",
       "      <th>c</th>\n",
       "    </tr>\n",
       "  </thead>\n",
       "  <tbody>\n",
       "    <tr>\n",
       "      <th>0</th>\n",
       "      <td>0</td>\n",
       "      <td>2</td>\n",
       "      <td>3</td>\n",
       "    </tr>\n",
       "    <tr>\n",
       "      <th>1</th>\n",
       "      <td>1</td>\n",
       "      <td>4</td>\n",
       "      <td>6</td>\n",
       "    </tr>\n",
       "    <tr>\n",
       "      <th>2</th>\n",
       "      <td>2</td>\n",
       "      <td>6</td>\n",
       "      <td>9</td>\n",
       "    </tr>\n",
       "    <tr>\n",
       "      <th>3</th>\n",
       "      <td>3</td>\n",
       "      <td>8</td>\n",
       "      <td>12</td>\n",
       "    </tr>\n",
       "    <tr>\n",
       "      <th>4</th>\n",
       "      <td>4</td>\n",
       "      <td>10</td>\n",
       "      <td>15</td>\n",
       "    </tr>\n",
       "  </tbody>\n",
       "</table>\n",
       "</div>"
      ],
      "text/plain": [
       "   a   b   c\n",
       "0  0   2   3\n",
       "1  1   4   6\n",
       "2  2   6   9\n",
       "3  3   8  12\n",
       "4  4  10  15"
      ]
     },
     "execution_count": 32,
     "metadata": {},
     "output_type": "execute_result"
    }
   ],
   "source": [
    "df_list = pd.DataFrame({'a':[0,1,2,3,4], 'b':[2,4,6,8,10], 'c':[3,6,9,12,15]})\n",
    "df_list"
   ]
  },
  {
   "cell_type": "code",
   "execution_count": 33,
   "id": "ec90249e-6eb7-4c14-8d54-d8024ea23687",
   "metadata": {},
   "outputs": [
    {
     "data": {
      "text/plain": [
       "[{'a': 0, 'b': 0, 'c': 0},\n",
       " {'a': 1, 'b': 2, 'c': 3},\n",
       " {'a': 2, 'b': 4, 'c': 6},\n",
       " {'a': 3, 'b': 6, 'c': 9},\n",
       " {'a': 4, 'b': 8, 'c': 12}]"
      ]
     },
     "execution_count": 33,
     "metadata": {},
     "output_type": "execute_result"
    }
   ],
   "source": [
    "data = [{'a': i, 'b': 2*i, 'c': 3*i} for i in range(5)]\n",
    "data"
   ]
  },
  {
   "cell_type": "code",
   "execution_count": 34,
   "id": "3afe627e-04b9-4a71-9f17-5646c7828074",
   "metadata": {},
   "outputs": [
    {
     "data": {
      "text/html": [
       "<div>\n",
       "<style scoped>\n",
       "    .dataframe tbody tr th:only-of-type {\n",
       "        vertical-align: middle;\n",
       "    }\n",
       "\n",
       "    .dataframe tbody tr th {\n",
       "        vertical-align: top;\n",
       "    }\n",
       "\n",
       "    .dataframe thead th {\n",
       "        text-align: right;\n",
       "    }\n",
       "</style>\n",
       "<table border=\"1\" class=\"dataframe\">\n",
       "  <thead>\n",
       "    <tr style=\"text-align: right;\">\n",
       "      <th></th>\n",
       "      <th>a</th>\n",
       "      <th>b</th>\n",
       "      <th>c</th>\n",
       "    </tr>\n",
       "  </thead>\n",
       "  <tbody>\n",
       "    <tr>\n",
       "      <th>0</th>\n",
       "      <td>0</td>\n",
       "      <td>0</td>\n",
       "      <td>0</td>\n",
       "    </tr>\n",
       "    <tr>\n",
       "      <th>1</th>\n",
       "      <td>1</td>\n",
       "      <td>2</td>\n",
       "      <td>3</td>\n",
       "    </tr>\n",
       "    <tr>\n",
       "      <th>2</th>\n",
       "      <td>2</td>\n",
       "      <td>4</td>\n",
       "      <td>6</td>\n",
       "    </tr>\n",
       "    <tr>\n",
       "      <th>3</th>\n",
       "      <td>3</td>\n",
       "      <td>6</td>\n",
       "      <td>9</td>\n",
       "    </tr>\n",
       "    <tr>\n",
       "      <th>4</th>\n",
       "      <td>4</td>\n",
       "      <td>8</td>\n",
       "      <td>12</td>\n",
       "    </tr>\n",
       "  </tbody>\n",
       "</table>\n",
       "</div>"
      ],
      "text/plain": [
       "   a  b   c\n",
       "0  0  0   0\n",
       "1  1  2   3\n",
       "2  2  4   6\n",
       "3  3  6   9\n",
       "4  4  8  12"
      ]
     },
     "execution_count": 34,
     "metadata": {},
     "output_type": "execute_result"
    }
   ],
   "source": [
    "data_df = pd.DataFrame(data)\n",
    "data_df"
   ]
  },
  {
   "cell_type": "code",
   "execution_count": 36,
   "id": "3ceaf8d3-8c5e-4caf-998b-9e2b020a575c",
   "metadata": {},
   "outputs": [
    {
     "data": {
      "text/html": [
       "<div>\n",
       "<style scoped>\n",
       "    .dataframe tbody tr th:only-of-type {\n",
       "        vertical-align: middle;\n",
       "    }\n",
       "\n",
       "    .dataframe tbody tr th {\n",
       "        vertical-align: top;\n",
       "    }\n",
       "\n",
       "    .dataframe thead th {\n",
       "        text-align: right;\n",
       "    }\n",
       "</style>\n",
       "<table border=\"1\" class=\"dataframe\">\n",
       "  <thead>\n",
       "    <tr style=\"text-align: right;\">\n",
       "      <th></th>\n",
       "      <th>one</th>\n",
       "      <th>two</th>\n",
       "      <th>three</th>\n",
       "    </tr>\n",
       "  </thead>\n",
       "  <tbody>\n",
       "    <tr>\n",
       "      <th>A</th>\n",
       "      <td>9</td>\n",
       "      <td>3</td>\n",
       "      <td>3</td>\n",
       "    </tr>\n",
       "    <tr>\n",
       "      <th>B</th>\n",
       "      <td>6</td>\n",
       "      <td>9</td>\n",
       "      <td>3</td>\n",
       "    </tr>\n",
       "    <tr>\n",
       "      <th>C</th>\n",
       "      <td>8</td>\n",
       "      <td>1</td>\n",
       "      <td>9</td>\n",
       "    </tr>\n",
       "    <tr>\n",
       "      <th>D</th>\n",
       "      <td>9</td>\n",
       "      <td>2</td>\n",
       "      <td>3</td>\n",
       "    </tr>\n",
       "    <tr>\n",
       "      <th>E</th>\n",
       "      <td>3</td>\n",
       "      <td>9</td>\n",
       "      <td>8</td>\n",
       "    </tr>\n",
       "    <tr>\n",
       "      <th>F</th>\n",
       "      <td>3</td>\n",
       "      <td>8</td>\n",
       "      <td>1</td>\n",
       "    </tr>\n",
       "  </tbody>\n",
       "</table>\n",
       "</div>"
      ],
      "text/plain": [
       "   one  two  three\n",
       "A    9    3      3\n",
       "B    6    9      3\n",
       "C    8    1      9\n",
       "D    9    2      3\n",
       "E    3    9      8\n",
       "F    3    8      1"
      ]
     },
     "execution_count": 36,
     "metadata": {},
     "output_type": "execute_result"
    }
   ],
   "source": [
    "df_np = pd.DataFrame(np.random.randint(1,10,(6,3)), index=['A','B','C','D','E','F'], columns=['one', 'two', 'three'])\n",
    "df_np"
   ]
  },
  {
   "cell_type": "code",
   "execution_count": null,
   "id": "6f0d0a90-ac90-453a-8a76-b4b5f45162d7",
   "metadata": {},
   "outputs": [],
   "source": []
  }
 ],
 "metadata": {
  "kernelspec": {
   "display_name": "Python 3 (ipykernel)",
   "language": "python",
   "name": "python3"
  },
  "language_info": {
   "codemirror_mode": {
    "name": "ipython",
    "version": 3
   },
   "file_extension": ".py",
   "mimetype": "text/x-python",
   "name": "python",
   "nbconvert_exporter": "python",
   "pygments_lexer": "ipython3",
   "version": "3.12.7"
  }
 },
 "nbformat": 4,
 "nbformat_minor": 5
}
