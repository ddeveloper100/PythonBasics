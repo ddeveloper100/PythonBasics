{
 "cells": [
  {
   "cell_type": "markdown",
   "id": "255229a4-50d5-4556-871e-3b7f1c5f126d",
   "metadata": {},
   "source": [
    "### Python Basics"
   ]
  },
  {
   "cell_type": "code",
   "execution_count": 1,
   "id": "f5f1ccc3-7353-40ac-827f-12329a94422a",
   "metadata": {},
   "outputs": [
    {
     "name": "stdout",
     "output_type": "stream",
     "text": [
      "Hello world\n"
     ]
    }
   ],
   "source": [
    "print('Hello world')"
   ]
  },
  {
   "cell_type": "code",
   "execution_count": 9,
   "id": "65a650c7-27fc-440f-9636-91a2934e4964",
   "metadata": {},
   "outputs": [],
   "source": [
    "age = 20.5"
   ]
  },
  {
   "cell_type": "code",
   "execution_count": 10,
   "id": "4376adef-58c2-4cfb-b617-4610679528e1",
   "metadata": {},
   "outputs": [
    {
     "name": "stdout",
     "output_type": "stream",
     "text": [
      "<class 'float'>\n"
     ]
    }
   ],
   "source": [
    "print(type(age))"
   ]
  },
  {
   "cell_type": "code",
   "execution_count": 3,
   "id": "3998e118-eb90-46dd-a500-765bba06da87",
   "metadata": {},
   "outputs": [
    {
     "name": "stdin",
     "output_type": "stream",
     "text": [
      "Enter First number 12\n",
      " 14\n",
      " 16\n"
     ]
    },
    {
     "name": "stdout",
     "output_type": "stream",
     "text": [
      "12\n",
      "14\n",
      "16\n",
      "<class 'int'>\n",
      "<class 'int'>\n",
      "<class 'str'>\n"
     ]
    }
   ],
   "source": [
    "number1 = int(input('Enter First number'))\n",
    "number2 = int(input())\n",
    "number3 = input() ##When you don't define the type in the input it takes it as a string\n",
    "print(number1)\n",
    "print(number2)\n",
    "print(number3)\n",
    "print(type(number1))\n",
    "print(type(number2))\n",
    "print(type(number3))"
   ]
  },
  {
   "cell_type": "code",
   "execution_count": 21,
   "id": "abc48339-76a9-412f-bb76-3a708c75752c",
   "metadata": {},
   "outputs": [
    {
     "name": "stdin",
     "output_type": "stream",
     "text": [
      "Enter the first number 10\n",
      "Enter the second number 20\n"
     ]
    },
    {
     "name": "stdout",
     "output_type": "stream",
     "text": [
      "30\n",
      "Addition of 10 and 20 is 30\n"
     ]
    }
   ],
   "source": [
    "number1 = int(input('Enter the first number'))\n",
    "number2 = int(input('Enter the second number'))\n",
    "\n",
    "result = number1 + number2\n",
    "print(result)\n",
    "\n",
    "print(f'Addition of {number1} and {number2} is {result}')\n",
    "#Addition of 10 and 20 is 30"
   ]
  },
  {
   "cell_type": "markdown",
   "id": "2cc79870-5361-416e-979a-854d7017611b",
   "metadata": {},
   "source": [
    "Accept temperature from the user\n",
    "temperature >35 display Hot\n",
    "temperature >25 and temperature<=35 Moderate\n",
    "temperature <25 Cold"
   ]
  },
  {
   "cell_type": "markdown",
   "id": "ee1718bd-dcf2-4259-a0b3-47fb1cef6a24",
   "metadata": {},
   "source": [
    "## if else loop"
   ]
  },
  {
   "cell_type": "code",
   "execution_count": 36,
   "id": "40606d7b-2305-4fc3-91d5-3a25cc72c3ad",
   "metadata": {},
   "outputs": [
    {
     "name": "stdin",
     "output_type": "stream",
     "text": [
      "Enter the temperature 12\n"
     ]
    },
    {
     "name": "stdout",
     "output_type": "stream",
     "text": [
      "Cold\n"
     ]
    }
   ],
   "source": [
    "temperature = int(input('Enter the temperature'))\n",
    "\n",
    "if temperature > 35:\n",
    "    print('Hot')\n",
    "elif (temperature > 25 and  temperature <= 35):\n",
    "    print('Moderate')\n",
    "else:\n",
    "    print('Cold')"
   ]
  },
  {
   "cell_type": "code",
   "execution_count": 78,
   "id": "4e73d041-ee7a-4cb2-9b94-b6bc9131cb03",
   "metadata": {},
   "outputs": [
    {
     "name": "stdin",
     "output_type": "stream",
     "text": [
      "Enter the number of units 200\n"
     ]
    },
    {
     "name": "stdout",
     "output_type": "stream",
     "text": [
      "2075\n"
     ]
    }
   ],
   "source": [
    "def total_water_bill (no_of_units):\n",
    "    metercharge = 75\n",
    "    if no_of_units < 100:\n",
    "        charge = no_of_units * 5\n",
    "    else:\n",
    "        if no_of_units <= 250:\n",
    "            charge = no_of_units * 10\n",
    "        else:\n",
    "            charge = no_of_units * 20\n",
    "    total = charge + metercharge\n",
    "    return total\n",
    "\n",
    "no_of_units =  int(input('Enter the number of units'))\n",
    "print(total_water_bill(no_of_units))\n",
    "\n",
    "# if no_of_units < 100:\n",
    "#     charge = no_of_units * 5\n",
    "# else:\n",
    "#     if no_of_units <= 250:\n",
    "#         charge = no_of_units * 10\n",
    "#     else:\n",
    "#         charge = no_of_units * 20\n",
    "\n",
    "# total_water_bill = charge + metercharge\n",
    "\n",
    "# print(f'The total water bill is {total_water_bill}')"
   ]
  },
  {
   "cell_type": "code",
   "execution_count": 68,
   "id": "32527598-511e-4290-a1c5-5b92be7451d9",
   "metadata": {},
   "outputs": [
    {
     "name": "stdout",
     "output_type": "stream",
     "text": [
      "2\n"
     ]
    }
   ],
   "source": [
    "import random\n",
    "num = random.randrange(9)\n",
    "print(num)"
   ]
  },
  {
   "cell_type": "markdown",
   "id": "d7d87ff7-f186-465e-8ec8-ab745cdc46b4",
   "metadata": {},
   "source": [
    "## Defining methods"
   ]
  },
  {
   "cell_type": "code",
   "execution_count": 70,
   "id": "f0dcab17-83fa-4771-bdf2-9a13185ae49c",
   "metadata": {},
   "outputs": [],
   "source": [
    "def addNumber(num1, num2):\n",
    "    return num1+num2"
   ]
  },
  {
   "cell_type": "code",
   "execution_count": 71,
   "id": "2362be93-2d1e-4f4a-b7cd-280a6e790b10",
   "metadata": {},
   "outputs": [
    {
     "name": "stdout",
     "output_type": "stream",
     "text": [
      "30\n"
     ]
    }
   ],
   "source": [
    "print(addNumber(10,20))"
   ]
  },
  {
   "cell_type": "markdown",
   "id": "ba204387-0a24-4734-ad51-0ee1271a4632",
   "metadata": {},
   "source": [
    "## For Loop"
   ]
  },
  {
   "cell_type": "code",
   "execution_count": 4,
   "id": "af5a3334-146d-4904-a398-9257dd52de95",
   "metadata": {},
   "outputs": [
    {
     "name": "stdout",
     "output_type": "stream",
     "text": [
      "Squares of 1-10\n",
      "1\n",
      "4\n",
      "9\n",
      "16\n",
      "25\n",
      "36\n",
      "49\n",
      "64\n",
      "81\n",
      "100\n",
      "Squares of even number from 1-10\n",
      "4\n",
      "16\n",
      "36\n",
      "64\n",
      "100\n",
      "Squares of odd number from 1-10\n",
      "1\n",
      "9\n",
      "25\n",
      "49\n",
      "81\n"
     ]
    }
   ],
   "source": [
    "print('Squares of 1-10')\n",
    "for i in range(1,11):\n",
    "    j = i ** 2\n",
    "    print(j)\n",
    "\n",
    "print('Squares of even number from 1-10')\n",
    "for i in range(1,11):\n",
    "    if (i % 2 == 0):\n",
    "        j = i ** 2\n",
    "        print(j)\n",
    "\n",
    "print('Squares of odd number from 1-10')\n",
    "for i in range(1,11):\n",
    "    if (i % 2 !=  0):\n",
    "        j = i ** 2\n",
    "        print(j)"
   ]
  },
  {
   "cell_type": "code",
   "execution_count": 95,
   "id": "007739b4-0b47-459d-be04-22605344b3d0",
   "metadata": {},
   "outputs": [
    {
     "name": "stdin",
     "output_type": "stream",
     "text": [
      "Enter a number 12\n"
     ]
    },
    {
     "name": "stdout",
     "output_type": "stream",
     "text": [
      "It is not a prime number\n"
     ]
    }
   ],
   "source": [
    "num = int(input('Enter a number'))\n",
    "count = 0\n",
    "\n",
    "for i in range (1,num+1):\n",
    "    if(num%i == 0):\n",
    "        count+=1\n",
    "\n",
    "if(count == 2):\n",
    "    print('It is a prime number')\n",
    "else:\n",
    "    print('It is not a prime number')"
   ]
  },
  {
   "cell_type": "code",
   "execution_count": 5,
   "id": "d6a1b486-9cbc-431a-a788-8bbfd26e83ee",
   "metadata": {},
   "outputs": [
    {
     "name": "stdin",
     "output_type": "stream",
     "text": [
      "Enter a number 101\n"
     ]
    },
    {
     "name": "stdout",
     "output_type": "stream",
     "text": [
      "101\n",
      "It is a prime number\n"
     ]
    }
   ],
   "source": [
    "num = int(input('Enter a number'))\n",
    "# count = 0\n",
    "\n",
    "for i in range (2,num):\n",
    "    if i == num-1:\n",
    "        i+=1\n",
    "    if(num%i == 0):\n",
    "        break\n",
    "print(i)\n",
    "\n",
    "if(i == num):\n",
    "    print('It is a prime number')\n",
    "else:\n",
    "    print('It is not a prime number')"
   ]
  },
  {
   "cell_type": "code",
   "execution_count": 111,
   "id": "598b8860-766e-4506-8cdf-092baa938c17",
   "metadata": {},
   "outputs": [
    {
     "name": "stdin",
     "output_type": "stream",
     "text": [
      "Enter a number 101\n"
     ]
    },
    {
     "name": "stdout",
     "output_type": "stream",
     "text": [
      "10\n",
      "It is a prime number\n"
     ]
    }
   ],
   "source": [
    "num = int(input('Enter a number'))\n",
    "import math\n",
    "\n",
    "is_prime = True\n",
    "for i in range (2,int(math.sqrt(num))+1):\n",
    "    if(num%i == 0):\n",
    "        is_prime = False\n",
    "        break\n",
    "print(i)\n",
    "\n",
    "if(is_prime):\n",
    "    print('It is a prime number')\n",
    "else:\n",
    "    print('It is not a prime number')"
   ]
  },
  {
   "cell_type": "code",
   "execution_count": 115,
   "id": "2e3a68d2-4ecb-4eac-a2c7-7c0a911913ac",
   "metadata": {},
   "outputs": [
    {
     "name": "stdin",
     "output_type": "stream",
     "text": [
      "Enter your guess 50\n"
     ]
    },
    {
     "name": "stdout",
     "output_type": "stream",
     "text": [
      "The guessed number is too high\n"
     ]
    },
    {
     "name": "stdin",
     "output_type": "stream",
     "text": [
      "Enter your guess 25\n"
     ]
    },
    {
     "name": "stdout",
     "output_type": "stream",
     "text": [
      "The guessed number is too low\n"
     ]
    },
    {
     "name": "stdin",
     "output_type": "stream",
     "text": [
      "Enter your guess 40\n"
     ]
    },
    {
     "name": "stdout",
     "output_type": "stream",
     "text": [
      "The guessed number is too high\n"
     ]
    },
    {
     "name": "stdin",
     "output_type": "stream",
     "text": [
      "Enter your guess 35\n"
     ]
    },
    {
     "name": "stdout",
     "output_type": "stream",
     "text": [
      "The guessed number is too high\n"
     ]
    },
    {
     "name": "stdin",
     "output_type": "stream",
     "text": [
      "Enter your guess 30\n"
     ]
    },
    {
     "name": "stdout",
     "output_type": "stream",
     "text": [
      "The guessed number is too low\n"
     ]
    },
    {
     "name": "stdin",
     "output_type": "stream",
     "text": [
      "Enter your guess 33\n"
     ]
    },
    {
     "name": "stdout",
     "output_type": "stream",
     "text": [
      "The guessed number is too high\n"
     ]
    },
    {
     "name": "stdin",
     "output_type": "stream",
     "text": [
      "Enter your guess 31\n"
     ]
    },
    {
     "name": "stdout",
     "output_type": "stream",
     "text": [
      "You have guessed the right number\n",
      "Total attempts 7\n"
     ]
    }
   ],
   "source": [
    "import random\n",
    "random_number = random.randrange(100)\n",
    "temp = True\n",
    "attempt_count=0\n",
    "\n",
    "while(temp):\n",
    "    attempt_count+=1\n",
    "    guess = int(input('Enter your guess'))\n",
    "    if(guess == random_number):\n",
    "        print('You have guessed the right number')\n",
    "        print(f'Total attempts {attempt_count}')\n",
    "        temp = False\n",
    "    else:\n",
    "        if guess > random_number:\n",
    "            print('The guessed number is too high')\n",
    "        elif guess < random_number:\n",
    "            print('The guessed number is too low')"
   ]
  },
  {
   "cell_type": "markdown",
   "id": "da1ec785-e083-4c42-ae9d-9bb64d10b3d6",
   "metadata": {},
   "source": [
    "## Fibonacci Series"
   ]
  },
  {
   "cell_type": "code",
   "execution_count": 121,
   "id": "b06e5655-820f-4f62-a5b0-d3fd8ec9c4cf",
   "metadata": {},
   "outputs": [
    {
     "name": "stdin",
     "output_type": "stream",
     "text": [
      "Enter a number 8\n"
     ]
    },
    {
     "name": "stdout",
     "output_type": "stream",
     "text": [
      "0\n",
      "1\n",
      "1\n",
      "2\n",
      "3\n",
      "5\n",
      "8\n",
      "13\n"
     ]
    }
   ],
   "source": [
    "num = int(input('Enter a number'))\n",
    "\n",
    "temp1 = 0\n",
    "temp2 = 1\n",
    "# print('0')\n",
    "# print('1')\n",
    "for i in range (1,num+1):\n",
    "    print(temp1)\n",
    "    res = temp1 +temp2\n",
    "    temp1 = temp2\n",
    "    temp2 = res\n",
    "    "
   ]
  },
  {
   "cell_type": "markdown",
   "id": "103a67fb-0232-457c-9607-a40589b51e1e",
   "metadata": {},
   "source": [
    "## Nested loops"
   ]
  },
  {
   "cell_type": "code",
   "execution_count": 10,
   "id": "600ef54e-6f1f-4426-807d-60ca004d78be",
   "metadata": {},
   "outputs": [
    {
     "name": "stdin",
     "output_type": "stream",
     "text": [
      "Enter the number of rows 5\n"
     ]
    },
    {
     "name": "stdout",
     "output_type": "stream",
     "text": [
      "*****\n",
      "*****\n",
      "*****\n",
      "*****\n",
      "*****\n"
     ]
    }
   ],
   "source": [
    "num = int(input('Enter the number of rows'))\n",
    "\n",
    "for i in range (0,num):\n",
    "    \n",
    "    for j in range (0,num):\n",
    "        print('*', end=\"\")\n",
    "    print()"
   ]
  },
  {
   "cell_type": "code",
   "execution_count": 38,
   "id": "c0cacad6-8e18-42ba-ae5f-5fd6f6ae1941",
   "metadata": {},
   "outputs": [
    {
     "name": "stdin",
     "output_type": "stream",
     "text": [
      "Enter the number of rows 5\n"
     ]
    },
    {
     "name": "stdout",
     "output_type": "stream",
     "text": [
      "*\n",
      "**\n",
      "***\n",
      "****\n"
     ]
    }
   ],
   "source": [
    "num = int(input('Enter the number of rows'))\n",
    "\n",
    "for i in range (1,num):\n",
    "    for j in range (1,i+1):\n",
    "        print('*', end=\"\")\n",
    "    print()"
   ]
  },
  {
   "cell_type": "code",
   "execution_count": 50,
   "id": "b7c91f14-3c13-4aef-b7dc-a824d9a2c304",
   "metadata": {},
   "outputs": [
    {
     "name": "stdin",
     "output_type": "stream",
     "text": [
      "Enter the number of rows 5\n"
     ]
    },
    {
     "name": "stdout",
     "output_type": "stream",
     "text": [
      "*****\n",
      "****\n",
      "***\n",
      "**\n",
      "*\n"
     ]
    }
   ],
   "source": [
    "num = int(input('Enter the number of rows'))\n",
    "\n",
    "for i in range(num,0,-1):\n",
    "    for j in range (0,i):\n",
    "        print('*', end=\"\")\n",
    "    print()"
   ]
  },
  {
   "cell_type": "code",
   "execution_count": 67,
   "id": "f0951492-fcb4-4f8b-9c21-79351c6627af",
   "metadata": {},
   "outputs": [
    {
     "name": "stdin",
     "output_type": "stream",
     "text": [
      "Enter the number of rows 5\n"
     ]
    },
    {
     "name": "stdout",
     "output_type": "stream",
     "text": [
      "1 \n",
      "1 2 \n",
      "1 2 3 \n",
      "1 2 3 4 \n",
      "1 2 3 4 5 \n"
     ]
    }
   ],
   "source": [
    "num = int(input('Enter the number of rows'))\n",
    "\n",
    "for i in range(1,num+1):\n",
    "    # k = 1\n",
    "    for j in range (1,i+1):\n",
    "        print(j, end=\" \")\n",
    "        # k+=1\n",
    "    print()"
   ]
  },
  {
   "cell_type": "code",
   "execution_count": 62,
   "id": "d628f71f-48fd-4d97-a1fe-cd827c5f119b",
   "metadata": {},
   "outputs": [
    {
     "name": "stdin",
     "output_type": "stream",
     "text": [
      "Enter the number of rows 5\n"
     ]
    },
    {
     "name": "stdout",
     "output_type": "stream",
     "text": [
      "1 \n",
      "2 3 \n",
      "4 5 6 \n",
      "7 8 9 10 \n",
      "11 12 13 14 15 \n"
     ]
    }
   ],
   "source": [
    "num = int(input('Enter the number of rows'))\n",
    "k = 1\n",
    "\n",
    "for i in range(0,num):\n",
    "    for j in range (0,i+1):\n",
    "        print(k, end=\" \")\n",
    "        k+=1\n",
    "    print()"
   ]
  },
  {
   "cell_type": "code",
   "execution_count": 68,
   "id": "0fc7cae5-0ca2-465e-bd0b-ce0f59636f63",
   "metadata": {},
   "outputs": [
    {
     "name": "stdin",
     "output_type": "stream",
     "text": [
      "Enter the number of rows 5\n"
     ]
    },
    {
     "name": "stdout",
     "output_type": "stream",
     "text": [
      "ABCDE\n",
      "FGHIJ\n",
      "KLMNO\n",
      "PQRST\n",
      "UVWXY\n"
     ]
    }
   ],
   "source": [
    "num = int(input('Enter the number of rows'))\n",
    "ch = 'A'\n",
    "for i in range(0,num):\n",
    "    for j in range(0,num):\n",
    "        print(ch, end=\"\")\n",
    "        ch = chr(ord(ch)+1)\n",
    "    print()"
   ]
  },
  {
   "cell_type": "code",
   "execution_count": 71,
   "id": "6a35aebb-9f2e-45de-b54c-a2994613bf06",
   "metadata": {},
   "outputs": [
    {
     "name": "stdin",
     "output_type": "stream",
     "text": [
      "Enter the number of rows 5\n"
     ]
    },
    {
     "name": "stdout",
     "output_type": "stream",
     "text": [
      "* \n",
      "* * \n",
      "* * * \n",
      "* * * * \n",
      "* * * * * \n"
     ]
    }
   ],
   "source": [
    "num = int(input('Enter the number of rows'))\n",
    "\n",
    "for i in range(0,num):\n",
    "    for j in range(0,i+1):\n",
    "        print('*', end=\" \")\n",
    "    print()"
   ]
  },
  {
   "cell_type": "code",
   "execution_count": 93,
   "id": "8aac5cee-098e-4ec9-b06a-e67309ff978b",
   "metadata": {},
   "outputs": [
    {
     "name": "stdin",
     "output_type": "stream",
     "text": [
      "Enter the number of rows 10\n"
     ]
    },
    {
     "name": "stdout",
     "output_type": "stream",
     "text": [
      "         * \n",
      "        * * \n",
      "       * * * \n",
      "      * * * * \n",
      "     * * * * * \n",
      "    * * * * * * \n",
      "   * * * * * * * \n",
      "  * * * * * * * * \n",
      " * * * * * * * * * \n",
      "* * * * * * * * * * \n"
     ]
    }
   ],
   "source": [
    "n = int(input('Enter the number of rows'))\n",
    "m = n\n",
    "for i in range(0,n):\n",
    "    for j in range(m-1,0,-1):\n",
    "            print(\" \", end=\"\")\n",
    "    for k in range (0,i+1):\n",
    "        print('*', end=\" \")    \n",
    "    m-=1\n",
    "    print()\n",
    "        "
   ]
  },
  {
   "cell_type": "code",
   "execution_count": 97,
   "id": "4a609cf3-ab7c-4eeb-bf90-b84418d0a53c",
   "metadata": {},
   "outputs": [
    {
     "name": "stdin",
     "output_type": "stream",
     "text": [
      "Enter the number of rows 5\n"
     ]
    },
    {
     "name": "stdout",
     "output_type": "stream",
     "text": [
      "* * * * * \n",
      " * * * * \n",
      "  * * * \n",
      "   * * \n",
      "    * \n"
     ]
    }
   ],
   "source": [
    "n = int(input('Enter the number of rows'))\n",
    "m=0\n",
    "for i in range(n,0,-1):\n",
    "    for k in range(0,m):\n",
    "        print(' ', end=\"\")\n",
    "    for j in range(0,i):\n",
    "        print('*', end=\" \")\n",
    "    m+=1\n",
    "    print()"
   ]
  },
  {
   "cell_type": "markdown",
   "id": "b75b137c-cd23-4823-a7fb-a1aa532b9d30",
   "metadata": {},
   "source": [
    "## Armstrong Number"
   ]
  },
  {
   "cell_type": "code",
   "execution_count": 108,
   "id": "e30b6580-476d-4b46-a2b4-596712c86154",
   "metadata": {},
   "outputs": [
    {
     "name": "stdin",
     "output_type": "stream",
     "text": [
      "Enter the number 152\n"
     ]
    },
    {
     "name": "stdout",
     "output_type": "stream",
     "text": [
      "The number is not an armstrong number\n"
     ]
    }
   ],
   "source": [
    "n = int(input('Enter the number'))\n",
    "m = n\n",
    "j = n\n",
    "no_of_digits = 0\n",
    "sum = 0\n",
    "\n",
    "while m!=0:\n",
    "    m = m//10\n",
    "    no_of_digits += 1\n",
    "\n",
    "\n",
    "while j!=0:\n",
    "    temp = j % 10\n",
    "    sum = sum + temp ** no_of_digits\n",
    "    j = j//10\n",
    "\n",
    "\n",
    "if sum == n:\n",
    "    print('The number is an armstrong number')\n",
    "else:\n",
    "    print('The number is not an armstrong number')"
   ]
  },
  {
   "cell_type": "markdown",
   "id": "948934e4-e844-4bb0-a12a-7bad263d4571",
   "metadata": {},
   "source": []
  }
 ],
 "metadata": {
  "kernelspec": {
   "display_name": "Python 3 (ipykernel)",
   "language": "python",
   "name": "python3"
  },
  "language_info": {
   "codemirror_mode": {
    "name": "ipython",
    "version": 3
   },
   "file_extension": ".py",
   "mimetype": "text/x-python",
   "name": "python",
   "nbconvert_exporter": "python",
   "pygments_lexer": "ipython3",
   "version": "3.12.7"
  }
 },
 "nbformat": 4,
 "nbformat_minor": 5
}
