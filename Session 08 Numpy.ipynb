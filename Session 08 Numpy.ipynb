{
 "cells": [
  {
   "cell_type": "markdown",
   "id": "08eb8d8d-3322-42a3-bd47-41bee83410c3",
   "metadata": {},
   "source": [
    "## Arrays"
   ]
  },
  {
   "cell_type": "code",
   "execution_count": 1,
   "id": "d7093364-57b1-4ce9-beed-e2577ed036ad",
   "metadata": {},
   "outputs": [],
   "source": [
    "import numpy as np"
   ]
  },
  {
   "cell_type": "markdown",
   "id": "72e07088-ee48-4974-bd7e-0cc68e69ca14",
   "metadata": {},
   "source": [
    "#### 1D Arrays"
   ]
  },
  {
   "cell_type": "code",
   "execution_count": 2,
   "id": "8545617f-8528-4999-aec5-55beaebeeecc",
   "metadata": {},
   "outputs": [],
   "source": [
    "a1 = np.array([1, 2, 3])\n",
    "a2 = np.array([4,5,6])"
   ]
  },
  {
   "cell_type": "code",
   "execution_count": 3,
   "id": "9fb6d35a-1ea5-4e30-95f8-d1f206941bd7",
   "metadata": {},
   "outputs": [
    {
     "data": {
      "text/plain": [
       "((3,), 1, dtype('int32'), 3, numpy.ndarray)"
      ]
     },
     "execution_count": 3,
     "metadata": {},
     "output_type": "execute_result"
    }
   ],
   "source": [
    "a1.shape, a1.ndim, a1.dtype, a1.size, type(a1)"
   ]
  },
  {
   "cell_type": "markdown",
   "id": "72e8b648-15a1-4ac6-9869-b059a1deb611",
   "metadata": {},
   "source": [
    "#### 2D Arrays"
   ]
  },
  {
   "cell_type": "code",
   "execution_count": 7,
   "id": "92dd1367-951e-4d9f-b09a-0d5c06778401",
   "metadata": {},
   "outputs": [
    {
     "data": {
      "text/plain": [
       "((3, 3), 2, dtype('int32'), 9, numpy.ndarray)"
      ]
     },
     "execution_count": 7,
     "metadata": {},
     "output_type": "execute_result"
    }
   ],
   "source": [
    "a3 = np.array([[1,2,3],\n",
    "             [4,5,6],\n",
    "             [3,7,9]])\n",
    "\n",
    "a3.shape, a3.ndim, a3.dtype, a3.size, type(a3)"
   ]
  },
  {
   "cell_type": "markdown",
   "id": "e34a02b9-5ff7-425e-b4a9-d3faa7e2756d",
   "metadata": {},
   "source": [
    "#### 3D Arrays"
   ]
  },
  {
   "cell_type": "code",
   "execution_count": 9,
   "id": "c33f1e40-5891-47b2-9f2e-9815ca44f2e7",
   "metadata": {},
   "outputs": [
    {
     "data": {
      "text/plain": [
       "((3, 2, 2), 3, dtype('int32'), 12, numpy.ndarray)"
      ]
     },
     "execution_count": 9,
     "metadata": {},
     "output_type": "execute_result"
    }
   ],
   "source": [
    "a4 = np.array([[[10, 20], [30, 40]],\n",
    "                 [[50, 50], [70, 80]],\n",
    "                 [[90, 100], [110, 120]]])\n",
    "\n",
    "a4.shape, a4.ndim, a4.dtype, a4.size, type(a4)"
   ]
  },
  {
   "cell_type": "markdown",
   "id": "e3fa26ef-77c9-4db4-8502-e185aa314914",
   "metadata": {},
   "source": [
    "#### Slicing"
   ]
  },
  {
   "cell_type": "code",
   "execution_count": 19,
   "id": "9cb59a2b-1d06-4a80-a0fb-30f5b48144d6",
   "metadata": {},
   "outputs": [
    {
     "name": "stdout",
     "output_type": "stream",
     "text": [
      "1\n",
      "[1 2 3]\n"
     ]
    }
   ],
   "source": [
    "a5 = np.array([1, 2, 3, 4, 5])\n",
    "print(a5[0])\n",
    "print(a5[:3])\n"
   ]
  },
  {
   "cell_type": "code",
   "execution_count": 20,
   "id": "352ebe88-eba2-4926-8928-8f93c0c172ab",
   "metadata": {},
   "outputs": [
    {
     "name": "stdout",
     "output_type": "stream",
     "text": [
      "[[1 2 3]\n",
      " [4 5 6]]\n"
     ]
    }
   ],
   "source": [
    "a6 = np.array([[1, 2, 3],\n",
    "              [4, 5, 6],\n",
    "              [7, 8, 9],\n",
    "              [10, 11, 12]])\n",
    "\n",
    "a6.shape\n",
    "a7 = a6[:2, :]\n",
    "print(a7)"
   ]
  },
  {
   "cell_type": "code",
   "execution_count": 23,
   "id": "a619ee52-0c45-4a71-bde7-cab5f0476f7d",
   "metadata": {},
   "outputs": [
    {
     "name": "stdout",
     "output_type": "stream",
     "text": [
      "[[1 2]\n",
      " [4 5]\n",
      " [7 8]]\n"
     ]
    }
   ],
   "source": [
    "a7 = a6[:3, :2]\n",
    "print(a7)"
   ]
  },
  {
   "cell_type": "code",
   "execution_count": 26,
   "id": "234bffad-6feb-4a83-a00a-162b2d3f33a3",
   "metadata": {},
   "outputs": [
    {
     "name": "stdout",
     "output_type": "stream",
     "text": [
      "[[[ 50  50]\n",
      "  [ 70  80]]\n",
      "\n",
      " [[ 90 100]\n",
      "  [110 120]]]\n"
     ]
    }
   ],
   "source": [
    "a8 = np.array([[[10, 20], [30, 40]],\n",
    "                 [[50, 50], [70, 80]],\n",
    "                 [[90, 100], [110, 120]]])\n",
    "\n",
    "a9 = a8[1:, :, :]\n",
    "print(a9)"
   ]
  },
  {
   "cell_type": "code",
   "execution_count": 28,
   "id": "9c8932ff-9075-45c4-ab33-58a97160496c",
   "metadata": {},
   "outputs": [
    {
     "data": {
      "text/plain": [
       "array([70, 80])"
      ]
     },
     "execution_count": 28,
     "metadata": {},
     "output_type": "execute_result"
    }
   ],
   "source": [
    "a8[1,1,:]"
   ]
  },
  {
   "cell_type": "code",
   "execution_count": 30,
   "id": "1a6e521b-9009-460c-98fb-9865e588d2ac",
   "metadata": {},
   "outputs": [
    {
     "data": {
      "text/plain": [
       "40"
      ]
     },
     "execution_count": 30,
     "metadata": {},
     "output_type": "execute_result"
    }
   ],
   "source": [
    "a8[0, 1, 1]"
   ]
  },
  {
   "cell_type": "code",
   "execution_count": 31,
   "id": "03e0bd25-09fe-43be-9ebf-a2d3fe27bddc",
   "metadata": {},
   "outputs": [
    {
     "data": {
      "text/plain": [
       "90"
      ]
     },
     "execution_count": 31,
     "metadata": {},
     "output_type": "execute_result"
    }
   ],
   "source": [
    "a8[2, 0, 0]"
   ]
  },
  {
   "cell_type": "code",
   "execution_count": 39,
   "id": "699944e4-c764-4b94-8053-9b99cdf2ce1e",
   "metadata": {},
   "outputs": [
    {
     "data": {
      "text/plain": [
       "array([[ 1,  2,  3,  4,  5,  6],\n",
       "       [10, 20, 30, 40, 50, 60],\n",
       "       [30, 31, 32, 33, 34, 35]])"
      ]
     },
     "execution_count": 39,
     "metadata": {},
     "output_type": "execute_result"
    }
   ],
   "source": [
    "a7 = np.array ([[1,2,3,4,5,6],\n",
    "              [7,8,9,10,11,12],\n",
    "              [10,20,30,40,50,60],\n",
    "              [50,60,70,80,90,100],\n",
    "              [30,31,32,33,34,35]])\n",
    "\n",
    "sel_rows = [0,2,4]\n",
    "sel_columns = [1,3,4]\n",
    "a7[sel_rows, :]\n"
   ]
  },
  {
   "cell_type": "code",
   "execution_count": 50,
   "id": "ae7f2027-ef32-464b-bd3c-e719292ddaab",
   "metadata": {},
   "outputs": [
    {
     "data": {
      "text/plain": [
       "array([[ 2,  4,  6],\n",
       "       [20, 40, 60],\n",
       "       [31, 33, 35]])"
      ]
     },
     "execution_count": 50,
     "metadata": {},
     "output_type": "execute_result"
    }
   ],
   "source": [
    "a7[[0,2,4], 1::2]"
   ]
  },
  {
   "cell_type": "code",
   "execution_count": 25,
   "id": "aa4e66d2-9571-4584-991c-27abe17eea43",
   "metadata": {},
   "outputs": [
    {
     "name": "stdout",
     "output_type": "stream",
     "text": [
      "2\n"
     ]
    },
    {
     "data": {
      "text/plain": [
       "array([[ 2,  4,  5,  6],\n",
       "       [20, 40, 50, 60],\n",
       "       [31, 33, 34, 35]])"
      ]
     },
     "execution_count": 25,
     "metadata": {},
     "output_type": "execute_result"
    }
   ],
   "source": [
    "a7 = np.array ([[1,2,3,4,5,6],\n",
    "              [7,8,9,10,11,12],\n",
    "              [10,20,30,40,50,60],\n",
    "              [50,60,70,80,90,100],\n",
    "              [30,31,32,33,34,35]])\n",
    "# print(a7.ndim)\n",
    "sel_rows = [0,2,4]\n",
    "sel_columns = [1,3,4,5]\n",
    "a7[np.ix_(sel_rows, sel_columns)]\n",
    "# a7[sel_rows, sel_columns]\n"
   ]
  },
  {
   "cell_type": "code",
   "execution_count": 60,
   "id": "2b5e2c37-93f6-448c-bfab-6f57b6be91e8",
   "metadata": {},
   "outputs": [
    {
     "data": {
      "text/plain": [
       "array([[[9, 4, 8, 3, 1],\n",
       "        [0, 3, 5, 3, 9],\n",
       "        [4, 0, 6, 9, 4],\n",
       "        [1, 0, 2, 9, 9]],\n",
       "\n",
       "       [[8, 7, 5, 1, 7],\n",
       "        [4, 0, 5, 9, 1],\n",
       "        [5, 7, 7, 0, 1],\n",
       "        [6, 9, 7, 1, 2]],\n",
       "\n",
       "       [[9, 8, 0, 2, 7],\n",
       "        [2, 8, 5, 7, 3],\n",
       "        [1, 3, 3, 6, 3],\n",
       "        [3, 1, 0, 6, 3]]])"
      ]
     },
     "execution_count": 60,
     "metadata": {},
     "output_type": "execute_result"
    }
   ],
   "source": [
    "a8 = np.random.randint(10, size=(3,4,5))\n",
    "a8\n"
   ]
  },
  {
   "cell_type": "code",
   "execution_count": 64,
   "id": "30010fc8-097b-4c73-8b0d-f965b881ccce",
   "metadata": {},
   "outputs": [
    {
     "data": {
      "text/plain": [
       "array([[[9, 4, 8, 3],\n",
       "        [0, 3, 5, 3],\n",
       "        [4, 0, 6, 9],\n",
       "        [1, 0, 2, 9]],\n",
       "\n",
       "       [[8, 7, 5, 1],\n",
       "        [4, 0, 5, 9],\n",
       "        [5, 7, 7, 0],\n",
       "        [6, 9, 7, 1]],\n",
       "\n",
       "       [[9, 8, 0, 2],\n",
       "        [2, 8, 5, 7],\n",
       "        [1, 3, 3, 6],\n",
       "        [3, 1, 0, 6]]])"
      ]
     },
     "execution_count": 64,
     "metadata": {},
     "output_type": "execute_result"
    }
   ],
   "source": [
    "a8[:,:,:4]"
   ]
  },
  {
   "cell_type": "code",
   "execution_count": 21,
   "id": "883fd134-3a46-418b-9593-918e40ec3fc5",
   "metadata": {},
   "outputs": [
    {
     "name": "stdout",
     "output_type": "stream",
     "text": [
      "r0\n",
      "[0 1 2 3 4 5 6 7 8 9]\n",
      "r1\n",
      "[[[5 0 3 3 7]\n",
      "  [9 3 5 2 4]\n",
      "  [7 6 8 8 1]\n",
      "  [6 7 7 8 1]]\n",
      "\n",
      " [[5 9 8 9 4]\n",
      "  [3 0 3 5 0]\n",
      "  [2 3 8 1 3]\n",
      "  [3 3 7 0 1]]\n",
      "\n",
      " [[9 9 0 4 7]\n",
      "  [3 2 7 2 0]\n",
      "  [0 4 5 5 6]\n",
      "  [8 4 1 4 9]]]\n",
      "r2\n",
      "[[0.44994999 0.61306346 0.90234858 0.09928035 0.96980907]\n",
      " [0.65314004 0.17090959 0.35815217 0.75068614 0.60783067]\n",
      " [0.32504723 0.03842543 0.63427406 0.95894927 0.65279032]\n",
      " [0.63505887 0.99529957 0.58185033 0.41436859 0.4746975 ]]\n",
      "r3\n",
      "[[0.6235101  0.33800761 0.67475232 0.31720174 0.77834548]\n",
      " [0.94957105 0.66252687 0.01357164 0.6228461  0.67365963]\n",
      " [0.971945   0.87819347 0.50962438 0.05571469 0.45115921]\n",
      " [0.01998767 0.44171092 0.97958673 0.35944446 0.48089353]]\n",
      "r4\n",
      "9\n"
     ]
    }
   ],
   "source": [
    "np.random.seed(0)\n",
    "r1 = np.random.randint(10, size=(3,4,5))\n",
    "r2 = np.random.random((4,5))\n",
    "r3 = np.random.rand(4,5)\n",
    "\n",
    "print('r1')\n",
    "print(r1)\n",
    "print('r2')\n",
    "print(r2)\n",
    "print('r3')\n",
    "print(r3)"
   ]
  },
  {
   "cell_type": "code",
   "execution_count": 23,
   "id": "ed10afbe-3893-4d21-b628-0e64a7420047",
   "metadata": {},
   "outputs": [
    {
     "name": "stdout",
     "output_type": "stream",
     "text": [
      "r0\n",
      "[0 1 2 3 4 5 6 7 8 9]\n",
      "r4\n",
      "3\n"
     ]
    }
   ],
   "source": [
    "r0 = np.arange(10)\n",
    "r4 = np.random.choice(r0)\n",
    "print('r0')\n",
    "print(r0)\n",
    "print('r4')\n",
    "print(r4)"
   ]
  },
  {
   "cell_type": "code",
   "execution_count": 14,
   "id": "eedac396-7458-4f20-a84a-574cb2d785f3",
   "metadata": {},
   "outputs": [
    {
     "data": {
      "text/plain": [
       "array([[0.77132064, 0.02075195, 0.63364823, 0.74880388, 0.49850701],\n",
       "       [0.22479665, 0.19806286, 0.76053071, 0.16911084, 0.08833981],\n",
       "       [0.68535982, 0.95339335, 0.00394827, 0.51219226, 0.81262096],\n",
       "       [0.61252607, 0.72175532, 0.29187607, 0.91777412, 0.71457578]])"
      ]
     },
     "execution_count": 14,
     "metadata": {},
     "output_type": "execute_result"
    }
   ],
   "source": [
    "np.random.seed(10)\n",
    "r2 = np.random.random((4,5))\n",
    "r2"
   ]
  },
  {
   "cell_type": "code",
   "execution_count": 81,
   "id": "249cf278-e0db-4b61-8601-ff86e1523dba",
   "metadata": {},
   "outputs": [
    {
     "data": {
      "text/plain": [
       "array([[0.77132064, 0.02075195, 0.63364823, 0.74880388, 0.49850701],\n",
       "       [0.22479665, 0.19806286, 0.76053071, 0.16911084, 0.08833981],\n",
       "       [0.68535982, 0.95339335, 0.00394827, 0.51219226, 0.81262096],\n",
       "       [0.61252607, 0.72175532, 0.29187607, 0.91777412, 0.71457578]])"
      ]
     },
     "execution_count": 81,
     "metadata": {},
     "output_type": "execute_result"
    }
   ],
   "source": [
    "np.random.seed(10)\n",
    "r3 = np.random.random((4,5))\n",
    "r3"
   ]
  },
  {
   "cell_type": "code",
   "execution_count": 90,
   "id": "cb5dd45c-8d74-4567-9835-11757c0b886b",
   "metadata": {},
   "outputs": [],
   "source": [
    "r4 = np.arange(100)"
   ]
  },
  {
   "cell_type": "code",
   "execution_count": 91,
   "id": "5aae8a87-f1b3-4691-a0ba-0e11612351cb",
   "metadata": {},
   "outputs": [
    {
     "data": {
      "text/plain": [
       "array([ 0,  1,  2,  3,  4,  5,  6,  7,  8,  9, 10, 11, 12, 13, 14, 15, 16,\n",
       "       17, 18, 19, 20, 21, 22, 23, 24, 25, 26, 27, 28, 29, 30, 31, 32, 33,\n",
       "       34, 35, 36, 37, 38, 39, 40, 41, 42, 43, 44, 45, 46, 47, 48, 49, 50,\n",
       "       51, 52, 53, 54, 55, 56, 57, 58, 59, 60, 61, 62, 63, 64, 65, 66, 67,\n",
       "       68, 69, 70, 71, 72, 73, 74, 75, 76, 77, 78, 79, 80, 81, 82, 83, 84,\n",
       "       85, 86, 87, 88, 89, 90, 91, 92, 93, 94, 95, 96, 97, 98, 99])"
      ]
     },
     "execution_count": 91,
     "metadata": {},
     "output_type": "execute_result"
    }
   ],
   "source": [
    "r4"
   ]
  },
  {
   "cell_type": "code",
   "execution_count": 106,
   "id": "1543b458-ae86-425b-bdf4-26ee829fe2e7",
   "metadata": {},
   "outputs": [
    {
     "data": {
      "text/plain": [
       "array([10, 11, 12, 13, 14, 15, 16, 17, 18, 19, 20, 21, 22, 23, 24, 25, 26,\n",
       "       27, 28, 29, 30, 31, 32, 33, 34, 35, 36, 37, 38, 39, 40, 41, 42, 43,\n",
       "       44, 45, 46, 47, 48, 49])"
      ]
     },
     "execution_count": 106,
     "metadata": {},
     "output_type": "execute_result"
    }
   ],
   "source": [
    "r5 = np.arange(10,50)\n",
    "r5"
   ]
  },
  {
   "cell_type": "code",
   "execution_count": 107,
   "id": "cd08c519-8030-431a-81d6-69f6e6daf804",
   "metadata": {},
   "outputs": [
    {
     "data": {
      "text/plain": [
       "array([10, 12, 14, 16, 18, 20, 22, 24, 26, 28, 30, 32, 34, 36, 38, 40, 42,\n",
       "       44, 46, 48])"
      ]
     },
     "execution_count": 107,
     "metadata": {},
     "output_type": "execute_result"
    }
   ],
   "source": [
    "r5 = np.arange(10,50,2)\n",
    "r5"
   ]
  },
  {
   "cell_type": "code",
   "execution_count": 108,
   "id": "2331997c-1774-498f-b2f6-d6d95113b0ea",
   "metadata": {},
   "outputs": [
    {
     "data": {
      "text/plain": [
       "array([[1., 1., 1.],\n",
       "       [1., 1., 1.],\n",
       "       [1., 1., 1.],\n",
       "       [1., 1., 1.],\n",
       "       [1., 1., 1.]])"
      ]
     },
     "execution_count": 108,
     "metadata": {},
     "output_type": "execute_result"
    }
   ],
   "source": [
    "r6 = np.ones((5,3))\n",
    "r6"
   ]
  },
  {
   "cell_type": "code",
   "execution_count": 104,
   "id": "6057fc8a-dfcb-4a22-8016-6ed8bba4d397",
   "metadata": {},
   "outputs": [
    {
     "data": {
      "text/plain": [
       "array([[2., 2., 2.],\n",
       "       [2., 2., 2.],\n",
       "       [2., 2., 2.],\n",
       "       [2., 2., 2.],\n",
       "       [2., 2., 2.]])"
      ]
     },
     "execution_count": 104,
     "metadata": {},
     "output_type": "execute_result"
    }
   ],
   "source": [
    "r6 = np.ones((5,3))*2\n",
    "r6"
   ]
  },
  {
   "cell_type": "code",
   "execution_count": 97,
   "id": "f8a44154-046e-4b7a-b1a0-968258461e9f",
   "metadata": {},
   "outputs": [
    {
     "data": {
      "text/plain": [
       "numpy.ndarray"
      ]
     },
     "execution_count": 97,
     "metadata": {},
     "output_type": "execute_result"
    }
   ],
   "source": [
    "type(r6)"
   ]
  },
  {
   "cell_type": "code",
   "execution_count": 98,
   "id": "e801997f-ec14-4a99-a0eb-b193bff29774",
   "metadata": {},
   "outputs": [
    {
     "data": {
      "text/plain": [
       "dtype('float64')"
      ]
     },
     "execution_count": 98,
     "metadata": {},
     "output_type": "execute_result"
    }
   ],
   "source": [
    "r6.dtype"
   ]
  },
  {
   "cell_type": "code",
   "execution_count": 101,
   "id": "663abd6a-3fe5-4ace-96ed-3a87e0ae243f",
   "metadata": {},
   "outputs": [
    {
     "data": {
      "text/plain": [
       "array([[1, 1, 1],\n",
       "       [1, 1, 1],\n",
       "       [1, 1, 1],\n",
       "       [1, 1, 1],\n",
       "       [1, 1, 1]])"
      ]
     },
     "execution_count": 101,
     "metadata": {},
     "output_type": "execute_result"
    }
   ],
   "source": [
    "r5 = r6.astype(int)\n",
    "r5"
   ]
  },
  {
   "cell_type": "code",
   "execution_count": 103,
   "id": "1ba98509-9dd9-449a-8cab-43e1daae593d",
   "metadata": {},
   "outputs": [
    {
     "data": {
      "text/plain": [
       "array([[0., 0., 0.],\n",
       "       [0., 0., 0.]])"
      ]
     },
     "execution_count": 103,
     "metadata": {},
     "output_type": "execute_result"
    }
   ],
   "source": [
    "r6 = np.zeros((2,3))\n",
    "r6"
   ]
  },
  {
   "cell_type": "code",
   "execution_count": 111,
   "id": "fa8491d5-ecda-4bca-8e00-4785da1c69c0",
   "metadata": {},
   "outputs": [
    {
     "name": "stdout",
     "output_type": "stream",
     "text": [
      "[1 2 3 4 5]\n",
      "[1. 1. 1. 1. 1.]\n",
      "[2. 3. 4. 5. 6.]\n",
      "[0. 1. 2. 3. 4.]\n",
      "[1. 2. 3. 4. 5.]\n",
      "[1. 2. 3. 4. 5.]\n"
     ]
    }
   ],
   "source": [
    "b1 = np.array([1,2,3,4,5])\n",
    "b2 = np.ones((5,))\n",
    "print(b1)\n",
    "print(b2)\n",
    "\n",
    "result1 = b1 + b2\n",
    "result2 = b1 - b2\n",
    "result3 = b1 / b2\n",
    "result4 = b1 * b2\n",
    "print(result1)\n",
    "print(result2)\n",
    "print(result3)\n",
    "print(result4)"
   ]
  },
  {
   "cell_type": "code",
   "execution_count": 124,
   "id": "1c8fbabf-c825-4e9a-b114-4aad7d6cfaf8",
   "metadata": {},
   "outputs": [
    {
     "name": "stdout",
     "output_type": "stream",
     "text": [
      "[[10 20 30 40 50]\n",
      " [ 6  7  8  9 10]]\n",
      "[2. 2. 2. 2. 2.]\n",
      "[[12. 22. 32. 42. 52.]\n",
      " [ 8.  9. 10. 11. 12.]]\n",
      "[[ 8. 18. 28. 38. 48.]\n",
      " [ 4.  5.  6.  7.  8.]]\n",
      "[[ 5.  10.  15.  20.  25. ]\n",
      " [ 3.   3.5  4.   4.5  5. ]]\n",
      "[[ 20.  40.  60.  80. 100.]\n",
      " [ 12.  14.  16.  18.  20.]]\n"
     ]
    }
   ],
   "source": [
    "ones = np.ones((5,))*2\n",
    "b3 = np.array([[10,20,30,40,50],\n",
    "              [6,7,8,9,10]])\n",
    "print(b3)\n",
    "print(ones)\n",
    "\n",
    "\n",
    "result1 = b3 + ones\n",
    "result2 = b3 - ones\n",
    "result3 = b3 / ones\n",
    "result4 = b3 * ones\n",
    "print(result1)\n",
    "print(result2)\n",
    "print(result3)\n",
    "print(result4)"
   ]
  },
  {
   "cell_type": "code",
   "execution_count": 133,
   "id": "d26ffa97-5d4b-40dd-add4-21f31c79bf71",
   "metadata": {},
   "outputs": [
    {
     "name": "stdout",
     "output_type": "stream",
     "text": [
      "[[5 0]\n",
      " [3 3]]\n",
      "[[5 0]\n",
      " [3 3]]\n",
      "[[25  0]\n",
      " [24  9]]\n",
      "[[25  0]\n",
      " [24  9]]\n"
     ]
    }
   ],
   "source": [
    "np.random.seed(0)\n",
    "ar1 = np.random.randint(10, size = (2,2))\n",
    "np.random.seed(0)\n",
    "ar2 = np.random.randint(10, size = (2,2))\n",
    "print(ar1)\n",
    "print(ar2)\n",
    "\n",
    "res1 = np.dot(ar1, ar2)\n",
    "res2 = ar1@ar2\n",
    "print(res1)\n",
    "print(res2)"
   ]
  },
  {
   "cell_type": "code",
   "execution_count": 135,
   "id": "3f299f2b-11ae-44ab-baaa-2acbf42e5cca",
   "metadata": {},
   "outputs": [
    {
     "data": {
      "text/plain": [
       "dtype('int32')"
      ]
     },
     "execution_count": 135,
     "metadata": {},
     "output_type": "execute_result"
    }
   ],
   "source": [
    "np_array = np.array([10,20,30,40])\n",
    "temp = np_array\n",
    "temp[0]\n",
    "temp.dtype"
   ]
  },
  {
   "cell_type": "code",
   "execution_count": 136,
   "id": "45a9b7fb-0d9b-4951-ab25-34a82a32ba6b",
   "metadata": {},
   "outputs": [
    {
     "name": "stdout",
     "output_type": "stream",
     "text": [
      "[10 20 30 40]\n"
     ]
    }
   ],
   "source": [
    "v1 = np_array.view()\n",
    "print(v1)"
   ]
  },
  {
   "cell_type": "code",
   "execution_count": 137,
   "id": "63b5b5b8-7a17-4580-bcbd-bc2ae46900c4",
   "metadata": {},
   "outputs": [
    {
     "data": {
      "text/plain": [
       "dtype('int32')"
      ]
     },
     "execution_count": 137,
     "metadata": {},
     "output_type": "execute_result"
    }
   ],
   "source": [
    "v1.dtype"
   ]
  },
  {
   "cell_type": "code",
   "execution_count": 138,
   "id": "08c506a5-53e5-4a89-bcd5-d16d6d827b5a",
   "metadata": {},
   "outputs": [
    {
     "name": "stdout",
     "output_type": "stream",
     "text": [
      "[10 20 30 40]\n"
     ]
    }
   ],
   "source": [
    "v2 = np_array.copy()\n",
    "print(v2)"
   ]
  },
  {
   "cell_type": "code",
   "execution_count": 139,
   "id": "749722af-c6c8-4e5b-997f-23b498c201f3",
   "metadata": {},
   "outputs": [
    {
     "name": "stdout",
     "output_type": "stream",
     "text": [
      "[100  20  30  40]\n"
     ]
    }
   ],
   "source": [
    "v1[0] = 100\n",
    "print(np_array)"
   ]
  },
  {
   "cell_type": "code",
   "execution_count": 140,
   "id": "e35f1ca9-7d90-4583-85f7-64323f32cf06",
   "metadata": {},
   "outputs": [
    {
     "name": "stdout",
     "output_type": "stream",
     "text": [
      "[100  20  30  40]\n"
     ]
    }
   ],
   "source": [
    "v2[0] = 40\n",
    "print(np_array)"
   ]
  },
  {
   "cell_type": "code",
   "execution_count": 141,
   "id": "a10367c0-82a7-46bc-a1ae-53c1c8d750d5",
   "metadata": {},
   "outputs": [
    {
     "name": "stdout",
     "output_type": "stream",
     "text": [
      "[50 20 30 40]\n"
     ]
    }
   ],
   "source": [
    "temp[0] = 50\n",
    "print(np_array)"
   ]
  },
  {
   "cell_type": "markdown",
   "id": "973ebc67-e6e8-49cd-ae37-a5a03bea0570",
   "metadata": {},
   "source": [
    "#### Reshaping an Array"
   ]
  },
  {
   "cell_type": "code",
   "execution_count": 151,
   "id": "a1745d2b-3629-4181-b4b1-2dadd55a8da7",
   "metadata": {},
   "outputs": [
    {
     "name": "stdout",
     "output_type": "stream",
     "text": [
      "[ 0  1  2  3  4  5  6  7  8  9 10 11 12 13 14 15 16 17 18 19 20 21 22 23]\n",
      "\n",
      " Reshaped to 4,6\n",
      "[[ 0  1  2  3  4  5]\n",
      " [ 6  7  8  9 10 11]\n",
      " [12 13 14 15 16 17]\n",
      " [18 19 20 21 22 23]]\n",
      "\n",
      " Reshaped to 3,4,2\n",
      "[[[ 0  1]\n",
      "  [ 2  3]\n",
      "  [ 4  5]\n",
      "  [ 6  7]]\n",
      "\n",
      " [[ 8  9]\n",
      "  [10 11]\n",
      "  [12 13]\n",
      "  [14 15]]\n",
      "\n",
      " [[16 17]\n",
      "  [18 19]\n",
      "  [20 21]\n",
      "  [22 23]]]\n"
     ]
    }
   ],
   "source": [
    "arr = np.arange(24)\n",
    "print(arr)\n",
    "\n",
    "arr1 = arr.reshape(4,6)\n",
    "print('\\n Reshaped to 4,6')\n",
    "print(arr1)\n",
    "\n",
    "arr2 = arr.reshape(3,4,2)\n",
    "print('\\n Reshaped to 3,4,2')\n",
    "print(arr2)"
   ]
  },
  {
   "cell_type": "code",
   "execution_count": 153,
   "id": "dda8752d-bba8-435e-83a8-7f1d5d27c9e1",
   "metadata": {},
   "outputs": [
    {
     "name": "stdout",
     "output_type": "stream",
     "text": [
      "[[7 9 3 5]\n",
      " [2 4 7 6]\n",
      " [8 8 1 6]]\n",
      "[[[7 9]\n",
      "  [3 5]]\n",
      "\n",
      " [[2 4]\n",
      "  [7 6]]\n",
      "\n",
      " [[8 8]\n",
      "  [1 6]]]\n"
     ]
    }
   ],
   "source": [
    "arr1 = np.random.randint(10, size = (3,4))\n",
    "print(arr1)\n",
    "\n",
    "arr2 = arr1.reshape(3,2,2)\n",
    "print(arr2)"
   ]
  },
  {
   "cell_type": "code",
   "execution_count": 160,
   "id": "b3cb40c4-1a25-441a-9a9f-fd43875201e8",
   "metadata": {},
   "outputs": [
    {
     "name": "stdout",
     "output_type": "stream",
     "text": [
      "[[[0 1 5]\n",
      "  [9 3 0]\n",
      "  [5 0 1]]\n",
      "\n",
      " [[2 4 2]\n",
      "  [0 3 2]\n",
      "  [0 7 5]]\n",
      "\n",
      " [[9 0 2]\n",
      "  [7 2 9]\n",
      "  [2 3 3]]\n",
      "\n",
      " [[2 3 4]\n",
      "  [1 2 9]\n",
      "  [1 4 6]]]\n",
      "[0 1 5 9 3 0 5 0 1 2 4 2 0 3 2 0 7 5 9 0 2 7 2 9 2 3 3 2 3 4 1 2 9 1 4 6]\n"
     ]
    }
   ],
   "source": [
    "arr1 = np.random.randint(10, size = (4,3,3))\n",
    "print(arr1)\n",
    "\n",
    "arr2 = arr1.reshape(-1)\n",
    "print(arr2)"
   ]
  },
  {
   "cell_type": "code",
   "execution_count": 161,
   "id": "14e1aa51-2bc5-4028-b92a-8e00c4da444b",
   "metadata": {},
   "outputs": [
    {
     "name": "stdout",
     "output_type": "stream",
     "text": [
      "[0 1 5 9 3 0 5 0 1 2 4 2 0 3 2 0 7 5 9 0 2 7 2 9 2 3 3 2 3 4 1 2 9 1 4 6]\n"
     ]
    }
   ],
   "source": [
    "arr3 = arr1.flatten()\n",
    "print(arr3)"
   ]
  },
  {
   "cell_type": "code",
   "execution_count": 162,
   "id": "120cbcff-e494-4adb-8e05-97ef3b1b6fee",
   "metadata": {},
   "outputs": [
    {
     "data": {
      "text/plain": [
       "array([[[0, 1, 5],\n",
       "        [9, 3, 0],\n",
       "        [5, 0, 1]],\n",
       "\n",
       "       [[2, 4, 2],\n",
       "        [0, 3, 2],\n",
       "        [0, 7, 5]],\n",
       "\n",
       "       [[9, 0, 2],\n",
       "        [7, 2, 9],\n",
       "        [2, 3, 3]],\n",
       "\n",
       "       [[2, 3, 4],\n",
       "        [1, 2, 9],\n",
       "        [1, 4, 6]]])"
      ]
     },
     "execution_count": 162,
     "metadata": {},
     "output_type": "execute_result"
    }
   ],
   "source": [
    "arr1"
   ]
  },
  {
   "cell_type": "code",
   "execution_count": 163,
   "id": "90458965-fa35-4fec-9d7f-b0c717e6dbfe",
   "metadata": {},
   "outputs": [
    {
     "data": {
      "text/plain": [
       "array([0, 1, 5, 9, 3, 0, 5, 0, 1, 2, 4, 2, 0, 3, 2, 0, 7, 5, 9, 0, 2, 7,\n",
       "       2, 9, 2, 3, 3, 2, 3, 4, 1, 2, 9, 1, 4, 6])"
      ]
     },
     "execution_count": 163,
     "metadata": {},
     "output_type": "execute_result"
    }
   ],
   "source": [
    "arr2"
   ]
  },
  {
   "cell_type": "code",
   "execution_count": 164,
   "id": "2974f768-21a8-4620-89f4-888be21dadf2",
   "metadata": {},
   "outputs": [
    {
     "data": {
      "text/plain": [
       "array([0, 1, 5, 9, 3, 0, 5, 0, 1, 2, 4, 2, 0, 3, 2, 0, 7, 5, 9, 0, 2, 7,\n",
       "       2, 9, 2, 3, 3, 2, 3, 4, 1, 2, 9, 1, 4, 6])"
      ]
     },
     "execution_count": 164,
     "metadata": {},
     "output_type": "execute_result"
    }
   ],
   "source": [
    "arr3"
   ]
  },
  {
   "cell_type": "code",
   "execution_count": 165,
   "id": "78474e2a-332f-4fdd-b270-fdd418166847",
   "metadata": {},
   "outputs": [],
   "source": [
    "arr3[0]=100"
   ]
  },
  {
   "cell_type": "code",
   "execution_count": 166,
   "id": "f8ee5eed-5d95-4049-b899-bccb95842863",
   "metadata": {},
   "outputs": [
    {
     "data": {
      "text/plain": [
       "array([100,   1,   5,   9,   3,   0,   5,   0,   1,   2,   4,   2,   0,\n",
       "         3,   2,   0,   7,   5,   9,   0,   2,   7,   2,   9,   2,   3,\n",
       "         3,   2,   3,   4,   1,   2,   9,   1,   4,   6])"
      ]
     },
     "execution_count": 166,
     "metadata": {},
     "output_type": "execute_result"
    }
   ],
   "source": [
    "arr3"
   ]
  },
  {
   "cell_type": "code",
   "execution_count": 167,
   "id": "9928cd94-e68c-43e2-8ac0-59a2bd2013e1",
   "metadata": {},
   "outputs": [
    {
     "data": {
      "text/plain": [
       "array([[[0, 1, 5],\n",
       "        [9, 3, 0],\n",
       "        [5, 0, 1]],\n",
       "\n",
       "       [[2, 4, 2],\n",
       "        [0, 3, 2],\n",
       "        [0, 7, 5]],\n",
       "\n",
       "       [[9, 0, 2],\n",
       "        [7, 2, 9],\n",
       "        [2, 3, 3]],\n",
       "\n",
       "       [[2, 3, 4],\n",
       "        [1, 2, 9],\n",
       "        [1, 4, 6]]])"
      ]
     },
     "execution_count": 167,
     "metadata": {},
     "output_type": "execute_result"
    }
   ],
   "source": [
    "arr1"
   ]
  },
  {
   "cell_type": "code",
   "execution_count": 173,
   "id": "74a5db44-c05f-4b1c-ba9b-affe8568f1b6",
   "metadata": {},
   "outputs": [
    {
     "name": "stdout",
     "output_type": "stream",
     "text": [
      "[[3 6 9]\n",
      " [8 0 8]\n",
      " [5 9 0]]\n",
      "[[3 8 5]\n",
      " [6 0 9]\n",
      " [9 8 0]]\n"
     ]
    }
   ],
   "source": [
    "b1 = np.random.randint(10, size=(3,3))\n",
    "print(b1)\n",
    "bt = b1.transpose()\n",
    "print(bt)"
   ]
  },
  {
   "cell_type": "code",
   "execution_count": 174,
   "id": "9f9d1841-9b79-4fb2-964d-4ab3fe3c0f58",
   "metadata": {},
   "outputs": [
    {
     "name": "stdout",
     "output_type": "stream",
     "text": [
      "[[9 6 5]\n",
      " [3 1 8]\n",
      " [0 4 9]]\n",
      "[[9 3 0]\n",
      " [6 1 4]\n",
      " [5 8 9]]\n"
     ]
    }
   ],
   "source": [
    "b1 = np.random.randint(10, size=(3,3))\n",
    "print(b1)\n",
    "bt = b1.T\n",
    "print(bt)"
   ]
  },
  {
   "cell_type": "code",
   "execution_count": 3,
   "id": "a066e9b4-d7ed-4bf8-9548-61c9e9fa7d62",
   "metadata": {},
   "outputs": [
    {
     "data": {
      "text/plain": [
       "array([ 1,  2,  3,  4,  4, 10, 12, 23])"
      ]
     },
     "execution_count": 3,
     "metadata": {},
     "output_type": "execute_result"
    }
   ],
   "source": [
    "arr = np.array([4,23,12,1,3,4,2,10])\n",
    "arr_sorted = np.sort(arr)\n",
    "arr_sorted"
   ]
  },
  {
   "cell_type": "code",
   "execution_count": 5,
   "id": "fa3d8b30-8343-4818-a3e0-accb60411347",
   "metadata": {},
   "outputs": [
    {
     "data": {
      "text/plain": [
       "array([[1, 2, 3],\n",
       "       [4, 5, 6]])"
      ]
     },
     "execution_count": 5,
     "metadata": {},
     "output_type": "execute_result"
    }
   ],
   "source": [
    "arr2d = np.array([[3, 2, 1], [6, 5, 4]])\n",
    "arr_sorted = np.sort(arr2d)\n",
    "arr_sorted"
   ]
  },
  {
   "cell_type": "markdown",
   "id": "fa18990e-0042-41fc-87c8-4c94a42ac723",
   "metadata": {},
   "source": [
    "#### More methods"
   ]
  },
  {
   "cell_type": "markdown",
   "id": "adac6f44-ef0c-46ab-9c1f-a13103565c24",
   "metadata": {},
   "source": [
    "#### Linspace:\n",
    "#### This function generates evenly spaced numbers over a specified range. It is particularly useful for plotting, numerical analysis, and simulations where you need a sequence of values within a given interval."
   ]
  },
  {
   "cell_type": "code",
   "execution_count": 3,
   "id": "a2f80572-4cb9-4953-b4f7-12cbc442629c",
   "metadata": {},
   "outputs": [],
   "source": [
    "arr1 = np.linspace(0,2,9)"
   ]
  },
  {
   "cell_type": "code",
   "execution_count": 4,
   "id": "d0d8eed5-ecff-4883-afe2-6218671328df",
   "metadata": {},
   "outputs": [
    {
     "data": {
      "text/plain": [
       "array([0.  , 0.25, 0.5 , 0.75, 1.  , 1.25, 1.5 , 1.75, 2.  ])"
      ]
     },
     "execution_count": 4,
     "metadata": {},
     "output_type": "execute_result"
    }
   ],
   "source": [
    "arr1"
   ]
  },
  {
   "cell_type": "code",
   "execution_count": 5,
   "id": "85df49c8-b6ce-4995-b1d7-b0dc5cd07641",
   "metadata": {},
   "outputs": [
    {
     "data": {
      "text/plain": [
       "array([ 0. ,  2.5,  5. ,  7.5, 10. ])"
      ]
     },
     "execution_count": 5,
     "metadata": {},
     "output_type": "execute_result"
    }
   ],
   "source": [
    "arr2 = np.linspace(0,10,5)\n",
    "arr2"
   ]
  },
  {
   "cell_type": "code",
   "execution_count": 6,
   "id": "e6df4ef1-59b0-4222-ab1b-e0756289ce1d",
   "metadata": {},
   "outputs": [
    {
     "name": "stdout",
     "output_type": "stream",
     "text": [
      "[0. 2. 4. 6. 8.]\n"
     ]
    }
   ],
   "source": [
    "# By setting endpoint=False, the function does not include the stop value\n",
    "arr3 = np.linspace(0, 10, 5, endpoint=False)\n",
    "print(arr3)"
   ]
  },
  {
   "cell_type": "code",
   "execution_count": 7,
   "id": "8f1a2f48-5725-439e-baf4-6f57b0644a4e",
   "metadata": {},
   "outputs": [
    {
     "name": "stdout",
     "output_type": "stream",
     "text": [
      "Array: [1. 2. 3. 4. 5.]\n",
      "Step: 1.0\n"
     ]
    }
   ],
   "source": [
    "# By setting retstep=True, numpy.linspace() returns both the array and the spacing (step).\n",
    "arr4, step = np.linspace(1, 5, 5, retstep=True)\n",
    "print(\"Array:\", arr4)\n",
    "print(\"Step:\", step)"
   ]
  },
  {
   "cell_type": "markdown",
   "id": "47e99f5b-d526-4c22-9b04-eb9250e4232f",
   "metadata": {},
   "source": [
    "#### Creating an identity matrix"
   ]
  },
  {
   "cell_type": "code",
   "execution_count": 8,
   "id": "1ce7f4ca-b417-4f94-b876-961a44587ff8",
   "metadata": {},
   "outputs": [
    {
     "data": {
      "text/plain": [
       "array([[1., 0.],\n",
       "       [0., 1.]])"
      ]
     },
     "execution_count": 8,
     "metadata": {},
     "output_type": "execute_result"
    }
   ],
   "source": [
    "arr1 = np.eye(2)\n",
    "arr1"
   ]
  },
  {
   "cell_type": "code",
   "execution_count": 9,
   "id": "71cb6af6-3a91-49b9-a0fb-197c5925dd62",
   "metadata": {},
   "outputs": [
    {
     "data": {
      "text/plain": [
       "array([[1., 0., 0., 0.],\n",
       "       [0., 1., 0., 0.],\n",
       "       [0., 0., 1., 0.],\n",
       "       [0., 0., 0., 1.]])"
      ]
     },
     "execution_count": 9,
     "metadata": {},
     "output_type": "execute_result"
    }
   ],
   "source": [
    "arr2 = np.eye(4)\n",
    "arr2"
   ]
  },
  {
   "cell_type": "code",
   "execution_count": null,
   "id": "0f49cda2-c42b-4891-a6b4-42462270251d",
   "metadata": {},
   "outputs": [],
   "source": []
  }
 ],
 "metadata": {
  "kernelspec": {
   "display_name": "Python 3 (ipykernel)",
   "language": "python",
   "name": "python3"
  },
  "language_info": {
   "codemirror_mode": {
    "name": "ipython",
    "version": 3
   },
   "file_extension": ".py",
   "mimetype": "text/x-python",
   "name": "python",
   "nbconvert_exporter": "python",
   "pygments_lexer": "ipython3",
   "version": "3.12.7"
  }
 },
 "nbformat": 4,
 "nbformat_minor": 5
}
