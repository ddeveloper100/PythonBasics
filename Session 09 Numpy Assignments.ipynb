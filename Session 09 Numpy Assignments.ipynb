{
 "cells": [
  {
   "cell_type": "code",
   "execution_count": 2,
   "id": "52292112-cbb0-4984-90a8-b984f19e4d17",
   "metadata": {},
   "outputs": [],
   "source": [
    "import numpy as np"
   ]
  },
  {
   "cell_type": "markdown",
   "id": "9b71e061-123f-426d-b24c-3a063307edae",
   "metadata": {},
   "source": [
    "## Easy"
   ]
  },
  {
   "cell_type": "markdown",
   "id": "482a1520-f6d8-4cc6-808b-6dcdb8078c67",
   "metadata": {},
   "source": [
    "#### 1. Create a 1D array of 20 sequential integers and reshape it into a 4x5 matrix"
   ]
  },
  {
   "cell_type": "code",
   "execution_count": 6,
   "id": "496b37d7-7af3-41d5-a942-178759d3a4b1",
   "metadata": {},
   "outputs": [
    {
     "name": "stdout",
     "output_type": "stream",
     "text": [
      "The original array is\n",
      "[ 0  1  2  3  4  5  6  7  8  9 10 11 12 13 14 15 16 17 18 19]\n",
      "The reshaped array is\n",
      "[[ 0  1  2  3  4]\n",
      " [ 5  6  7  8  9]\n",
      " [10 11 12 13 14]\n",
      " [15 16 17 18 19]]\n"
     ]
    }
   ],
   "source": [
    "arr = np.arange(20)\n",
    "print('The original array is')\n",
    "print(arr)\n",
    "reshaped_array = arr.reshape(4,5)\n",
    "print('The reshaped array is')\n",
    "print(reshaped_array)"
   ]
  },
  {
   "cell_type": "markdown",
   "id": "7cbd4614-4cc7-43dd-bf21-5796bade6234",
   "metadata": {},
   "source": [
    "#### 2. Write the code using np.arange() to get all even numbers between 21 and 70, (70 inclusive)"
   ]
  },
  {
   "cell_type": "code",
   "execution_count": 11,
   "id": "d144208b-acc2-4973-84e3-dc854db5c477",
   "metadata": {},
   "outputs": [
    {
     "name": "stdout",
     "output_type": "stream",
     "text": [
      "[22 24 26 28 30 32 34 36 38 40 42 44 46 48 50 52 54 56 58 60 62 64 66 68\n",
      " 70]\n"
     ]
    }
   ],
   "source": [
    "arr = np.arange(22, 71, 2)\n",
    "print(arr)"
   ]
  },
  {
   "cell_type": "markdown",
   "id": "4d87a7e4-1b2b-48a3-b080-2fd24ce51d61",
   "metadata": {},
   "source": [
    "#### 3. Write the code using np.arange() to get all odd numbers between 20 and 71. (71 inclusive)"
   ]
  },
  {
   "cell_type": "code",
   "execution_count": 13,
   "id": "c4226f76-740c-4ed9-bbef-5220c451ca19",
   "metadata": {},
   "outputs": [
    {
     "name": "stdout",
     "output_type": "stream",
     "text": [
      "[21 23 25 27 29 31 33 35 37 39 41 43 45 47 49 51 53 55 57 59 61 63 65 67\n",
      " 69 71]\n"
     ]
    }
   ],
   "source": [
    "arr = np.arange(21, 72, 2)\n",
    "print(arr)"
   ]
  },
  {
   "cell_type": "markdown",
   "id": "a164ea99-c55c-4da2-bbfa-9194d409871d",
   "metadata": {},
   "source": [
    "#### 4. Generate an array of 15 random integers and sort it in ascending order."
   ]
  },
  {
   "cell_type": "code",
   "execution_count": 19,
   "id": "4ec1a193-507d-4be4-98a9-a0fd0bd649f8",
   "metadata": {},
   "outputs": [
    {
     "name": "stdout",
     "output_type": "stream",
     "text": [
      "The random unsorted array is: \n",
      "[74 58 14 17 42  9 62  6 40  6 80 91 90 79 48]\n",
      "The sorted array is: \n",
      "[ 6  6  9 14 17 40 42 48 58 62 74 79 80 90 91]\n"
     ]
    }
   ],
   "source": [
    "arr = np.random.randint(100, size = (15))\n",
    "sorted_array = np.sort(arr)\n",
    "print('The random unsorted array is: ')\n",
    "print(arr)\n",
    "print('The sorted array is: ')\n",
    "print(sorted_array)"
   ]
  },
  {
   "cell_type": "markdown",
   "id": "aa40fa1d-3ea9-4ade-9fdf-84ae8c5db912",
   "metadata": {},
   "source": [
    "#### 5. Create a 1D array of zeros of length 10 and set the 5th element to 1."
   ]
  },
  {
   "cell_type": "code",
   "execution_count": 33,
   "id": "f9b3fd10-cba6-4584-b8aa-5c577af197ef",
   "metadata": {},
   "outputs": [
    {
     "name": "stdout",
     "output_type": "stream",
     "text": [
      "The original array: [0. 0. 0. 0. 0. 0. 0. 0. 0. 0.]\n",
      "The updated array: [0. 0. 0. 0. 1. 0. 0. 0. 0. 0.]\n"
     ]
    }
   ],
   "source": [
    "# arr = np.zeros((1,10))\n",
    "# print(f'The original array: {arr}')\n",
    "# arr[0,4] = 1\n",
    "# print(f'The updated array: {arr}')\n",
    "\n",
    "arr = np.zeros((10,))\n",
    "print(f'The original array: {arr}')\n",
    "\n",
    "arr[4] = 1\n",
    "print(f'The updated array: {arr}')"
   ]
  },
  {
   "cell_type": "markdown",
   "id": "07a008e6-4bda-4856-972c-286ecfcbf9a6",
   "metadata": {},
   "source": [
    "#### 6. Find the unique elements in a given array [1, 2, 2, 3, 4, 4, 5]."
   ]
  },
  {
   "cell_type": "code",
   "execution_count": 31,
   "id": "19fe3f1b-775f-435c-8453-7bef4fe87891",
   "metadata": {},
   "outputs": [
    {
     "name": "stdout",
     "output_type": "stream",
     "text": [
      "[1 2 3 4 5]\n"
     ]
    }
   ],
   "source": [
    "arr = np.array([1,2,2,3,4,4,5])\n",
    "arr1 = np.unique(arr)\n",
    "print(arr1)"
   ]
  },
  {
   "cell_type": "markdown",
   "id": "231b39d6-1aea-4615-adbd-70cc48e651fb",
   "metadata": {},
   "source": [
    "#### 7. Create an array with values ranging from 0 to 10 and reverse the array."
   ]
  },
  {
   "cell_type": "code",
   "execution_count": 36,
   "id": "39eff23e-d1e9-4be0-903f-ba49a407d688",
   "metadata": {},
   "outputs": [
    {
     "name": "stdout",
     "output_type": "stream",
     "text": [
      "[ 0  1  2  3  4  5  6  7  8  9 10]\n",
      "[10  9  8  7  6  5  4  3  2  1  0]\n"
     ]
    }
   ],
   "source": [
    "arr = np.arange(11)\n",
    "print(arr)\n",
    "arr_reversed = arr[::-1]\n",
    "print(arr_reversed)"
   ]
  },
  {
   "cell_type": "markdown",
   "id": "5943e2be-8a5b-4008-86c7-113aa259ac28",
   "metadata": {},
   "source": [
    "#### 8. Given a list of birds and their corresponding age, calculate:\n",
    "#### a. the mean age of the Crane bird (rounded off to 2 decimal points)\n",
    "#### b. find the name of the oldest bird in the list\n",
    "#### birds = ['spoonbills', 'plovers', 'plovers', 'plovers', 'plovers', 'Cranes', 'plovers', 'plovers', 'Cranes', 'spoonbills']\n",
    "#### age = [5.5, 6.0, 3.5, 1.5, 3.0, 4.0, 3.5, 2.0, 5.5, 6.0]"
   ]
  },
  {
   "cell_type": "code",
   "execution_count": 59,
   "id": "fcee0de2-fa84-4a3b-9a1a-f09474d9914a",
   "metadata": {},
   "outputs": [
    {
     "name": "stdout",
     "output_type": "stream",
     "text": [
      "Mean age of Cranes: 4.75\n",
      "Oldest bird: plovers\n"
     ]
    }
   ],
   "source": [
    "birds = ['spoonbills', 'plovers', 'plovers', 'plovers', 'plovers', 'Cranes', 'plovers', 'plovers', 'Cranes', 'spoonbills']\n",
    "age = [5.5, 6.0, 3.5, 1.5, 3.0, 4.0, 3.5, 2.0, 5.5, 6.0]\n",
    "\n",
    "crane_ages = [age[i] for i in range(len(birds)) if birds[i] == 'Cranes']\n",
    "mean_crane_age = round(np.mean(crane_ages), 2)\n",
    "\n",
    "max_age = max(age)\n",
    "oldest_bird = birds[age.index(max_age)] \n",
    "\n",
    "print(f\"Mean age of Cranes: {mean_crane_age}\")\n",
    "print(f\"Oldest bird: {oldest_bird}\")"
   ]
  },
  {
   "cell_type": "markdown",
   "id": "42627bbd-9895-469a-8159-e43ceff12e71",
   "metadata": {},
   "source": [
    "#### 9. Given a 2d array, write a program to return a subarray such that the subarray consists of the elements from:\n",
    "#### a. the second to the fourth row of the original array,\n",
    "#### b. the elements in these rows should be from the last three columns of the corresponding rows of the original array,\n",
    "#### c. the rows should be in reversed order."
   ]
  },
  {
   "cell_type": "code",
   "execution_count": 47,
   "id": "a35de789-89ff-4fce-9d86-0d22f04045ba",
   "metadata": {},
   "outputs": [
    {
     "name": "stdout",
     "output_type": "stream",
     "text": [
      "The original array is\n",
      "[[5 0 3 3 7]\n",
      " [9 3 5 2 4]\n",
      " [7 6 8 8 1]\n",
      " [6 7 7 8 1]\n",
      " [5 9 8 9 4]]\n",
      "The subarray is\n",
      "[[7 8 1]\n",
      " [8 8 1]\n",
      " [5 2 4]]\n"
     ]
    }
   ],
   "source": [
    "np.random.seed(0)\n",
    "arr = np.random.randint(10, size=(5,5))\n",
    "print('The original array is')\n",
    "print(arr)\n",
    "\n",
    "# rows = [1, 2, 3]\n",
    "# columns = [2, 3, 4]\n",
    "\n",
    "new_arr = arr[1:4, 2:5][::-1]\n",
    "print('The subarray is')\n",
    "print(new_arr)"
   ]
  },
  {
   "cell_type": "markdown",
   "id": "1c284712-1bfb-49ed-bdb1-5dfafce62a8e",
   "metadata": {},
   "source": [
    "## Moderate"
   ]
  },
  {
   "cell_type": "markdown",
   "id": "081442ac-ef52-45af-bed4-d26911655de8",
   "metadata": {},
   "source": [
    "#### 1. Create a 4x4 matrix and replace all elements on its diagonal with 7."
   ]
  },
  {
   "cell_type": "code",
   "execution_count": 62,
   "id": "75a38b77-0609-424d-9855-effcbe88ff12",
   "metadata": {},
   "outputs": [
    {
     "name": "stdout",
     "output_type": "stream",
     "text": [
      "[[7. 0. 0. 0.]\n",
      " [0. 7. 0. 0.]\n",
      " [0. 0. 7. 0.]\n",
      " [0. 0. 0. 7.]]\n"
     ]
    }
   ],
   "source": [
    "matrix = np.eye(4) * 7\n",
    "print(matrix)"
   ]
  },
  {
   "cell_type": "markdown",
   "id": "ba84d4e0-5a2c-4e72-804a-9868c6798aee",
   "metadata": {},
   "source": [
    "#### 2. Given two arrays of the same size, compute their element-wise product."
   ]
  },
  {
   "cell_type": "code",
   "execution_count": 65,
   "id": "c5257cc5-8ee4-4084-89ed-5a01eb371984",
   "metadata": {},
   "outputs": [
    {
     "name": "stdout",
     "output_type": "stream",
     "text": [
      "Array 1:\n",
      "[[5 0 3 3]\n",
      " [7 9 3 5]\n",
      " [2 4 7 6]\n",
      " [8 8 1 6]]\n",
      "Array 2: \n",
      "[[7 7 8 1]\n",
      " [5 9 8 9]\n",
      " [4 3 0 3]\n",
      " [5 0 2 3]]\n",
      "Result: \n",
      "[[35  0 24  3]\n",
      " [35 81 24 45]\n",
      " [ 8 12  0 18]\n",
      " [40  0  2 18]]\n"
     ]
    }
   ],
   "source": [
    "np.random.seed(0)\n",
    "arr1 = np.random.randint(10, size=(4,4))\n",
    "arr2 = np.random.randint(10, size=(4,4))\n",
    "print('Array 1:')\n",
    "print(arr1)\n",
    "print('Array 2: ')\n",
    "print(arr2)\n",
    "\n",
    "result = arr1 * arr2\n",
    "print('Result: ')\n",
    "print(result)"
   ]
  },
  {
   "cell_type": "markdown",
   "id": "8fa85b2c-62a1-4945-9c58-36eecb2b4aa8",
   "metadata": {},
   "source": [
    "#### 3. Create a random 6x6 matrix and compute the mean and standard deviation of its elements."
   ]
  },
  {
   "cell_type": "code",
   "execution_count": 71,
   "id": "82d6231d-bd1e-4052-8e95-b3f723e8b6f8",
   "metadata": {},
   "outputs": [
    {
     "name": "stdout",
     "output_type": "stream",
     "text": [
      "[[7 3 2 3 9 7]\n",
      " [7 5 1 2 2 8]\n",
      " [1 5 8 4 0 2]\n",
      " [5 5 0 8 1 1]\n",
      " [0 3 8 8 4 4]\n",
      " [0 9 3 7 3 2]]\n",
      "The mean is: 4.08\n",
      "The standard deviation is: 2.86\n"
     ]
    }
   ],
   "source": [
    "arr = np.random.randint(10, size=(6,6))\n",
    "print(arr)\n",
    "mean = round(np.mean(arr), 2)\n",
    "standard_deviation = round(np.std(arr), 2)\n",
    "print(f'The mean is: {mean}')\n",
    "print(f'The standard deviation is: {standard_deviation}')"
   ]
  },
  {
   "cell_type": "markdown",
   "id": "5f96bb62-5dae-4db5-bb2b-39799289e870",
   "metadata": {},
   "source": [
    "#### 4. Stack two arrays vertically and horizontally (use vstack and hstack)."
   ]
  },
  {
   "cell_type": "code",
   "execution_count": 5,
   "id": "5e4fafe0-6522-4ca6-bdf7-25d8d8912ab7",
   "metadata": {},
   "outputs": [
    {
     "name": "stdout",
     "output_type": "stream",
     "text": [
      "Vertically Stacked Array:\n",
      "[[ 1  2  3]\n",
      " [ 4  5  6]\n",
      " [ 7  8  9]\n",
      " [10 11 12]]\n",
      "\n",
      "Horizontally Stacked Array:\n",
      "[[ 1  2  3  7  8  9]\n",
      " [ 4  5  6 10 11 12]]\n"
     ]
    }
   ],
   "source": [
    "array1 = np.array([[1, 2, 3], \n",
    "                   [4, 5, 6]])\n",
    "array2 = np.array([[7, 8, 9], \n",
    "                   [10, 11, 12]])\n",
    "\n",
    "vertical_stack = np.vstack((array1, array2))\n",
    "print(\"Vertically Stacked Array:\")\n",
    "print(vertical_stack)\n",
    "\n",
    "horizontal_stack = np.hstack((array1, array2))\n",
    "print(\"\\nHorizontally Stacked Array:\")\n",
    "print(horizontal_stack)"
   ]
  },
  {
   "cell_type": "markdown",
   "id": "cbc1a42a-297b-40ba-8d7b-33eb1cb4e917",
   "metadata": {},
   "source": [
    "#### 5. Create a 1D array of 50 random floats between 0 and 1, and count how many values are greater than 0.5."
   ]
  },
  {
   "cell_type": "code",
   "execution_count": 74,
   "id": "614e6040-93a1-4c14-a339-3c1054f55c19",
   "metadata": {},
   "outputs": [
    {
     "name": "stdout",
     "output_type": "stream",
     "text": [
      "[0.47837031 0.49739137 0.63947252 0.36858461 0.13690027 0.82211773\n",
      " 0.18984791 0.51131898 0.22431703 0.09784448 0.86219152 0.97291949\n",
      " 0.96083466 0.9065555  0.77404733 0.33314515 0.08110139 0.40724117\n",
      " 0.23223414 0.13248763 0.05342718 0.72559436 0.01142746 0.77058075\n",
      " 0.14694665 0.07952208 0.08960303 0.67204781 0.24536721 0.42053947\n",
      " 0.55736879 0.86055117 0.72704426 0.27032791 0.1314828  0.05537432\n",
      " 0.30159863 0.26211815 0.45614057 0.68328134 0.69562545 0.28351885\n",
      " 0.37992696 0.18115096 0.78854551 0.05684808 0.69699724 0.7786954\n",
      " 0.77740756 0.25942256]\n",
      "The number of values that are greater than 0.5 are: 20\n"
     ]
    }
   ],
   "source": [
    "arr = np.random.rand(50)\n",
    "print(arr)\n",
    "i = 0\n",
    "for item in arr:\n",
    "    if (item > 0.5):\n",
    "        i = i + 1\n",
    "print(f'The number of values that are greater than 0.5 are: {i}')"
   ]
  },
  {
   "cell_type": "code",
   "execution_count": 3,
   "id": "f4bab13c-3229-4bd0-a2ba-c15f77961fa8",
   "metadata": {},
   "outputs": [
    {
     "name": "stdout",
     "output_type": "stream",
     "text": [
      "Generated array: [0.84485144 0.66580547 0.29118359 0.97822482 0.71888628 0.17034724\n",
      " 0.63049945 0.27170146 0.41936848 0.78237783 0.02174618 0.54204765\n",
      " 0.39741217 0.06102406 0.05642048 0.06423656 0.34051123 0.58984481\n",
      " 0.26018263 0.43246453 0.95966014 0.77025557 0.89236536 0.85872499\n",
      " 0.22874068 0.40114226 0.13725182 0.8037386  0.4138904  0.57258027\n",
      " 0.34414692 0.23639341 0.04917986 0.89078377 0.83932884 0.80610593\n",
      " 0.01496353 0.56855117 0.20239793 0.43157811 0.44882887 0.32334232\n",
      " 0.58686276 0.66796798 0.79574371 0.20648346 0.12561881 0.20760092\n",
      " 0.62802011 0.77293467]\n",
      "Count of values greater than 0.5: 23\n"
     ]
    }
   ],
   "source": [
    "arr = np.random.rand(50)\n",
    "\n",
    "count_greater_than_0_5 = np.sum(arr > 0.5)\n",
    "\n",
    "print(\"Generated array:\", arr)\n",
    "print(\"Count of values greater than 0.5:\", count_greater_than_0_5)"
   ]
  },
  {
   "cell_type": "markdown",
   "id": "d891ca12-6615-445c-af65-b6edf5718f0b",
   "metadata": {},
   "source": [
    "#### 6. Given a list of birds and their corresponding age, return the name of birds sorted according to age (ascending)\n",
    "#### birds = ['spoonbills', 'plovers', 'plovers', 'plovers', 'plovers', 'Cranes', 'plovers', 'plovers', 'Cranes', 'spoonbills']\n",
    "#### age = [5.5, 6.0, 3.5, 1.5, 3.0, 4.0, 3.5, 2.0, 5.5, 6.0]"
   ]
  },
  {
   "cell_type": "code",
   "execution_count": 1,
   "id": "f0f5f9cf-1a64-41a7-b623-d28aadc68e05",
   "metadata": {},
   "outputs": [
    {
     "name": "stdout",
     "output_type": "stream",
     "text": [
      "['plovers', 'plovers', 'plovers', 'plovers', 'plovers', 'Cranes', 'spoonbills', 'Cranes', 'plovers', 'spoonbills']\n"
     ]
    }
   ],
   "source": [
    "birds = ['spoonbills', 'plovers', 'plovers', 'plovers', 'plovers', 'Cranes', 'plovers', 'plovers',\n",
    "         'Cranes', 'spoonbills']\n",
    "age = [5.5, 6.0, 3.5, 1.5, 3.0, 4.0, 3.5, 2.0, 5.5, 6.0]\n",
    "\n",
    "sorted_indices = sorted(range(len(age)), key=lambda i: age[i])\n",
    "sorted_birds = [birds[i] for i in sorted_indices]\n",
    "\n",
    "print(sorted_birds)"
   ]
  },
  {
   "cell_type": "markdown",
   "id": "39947bc1-1bbd-4543-b7c9-b56d5cb28e00",
   "metadata": {},
   "source": [
    "#### 7. Given the shape of an array and a range, Return an array of specified shape, consisting of random integers from \"discrete uniform\" distribution, in given range [low, high].\n",
    "#### Note: high is inclusive in range.\n",
    "####  Input Format:\n",
    "#### o Input has two lines.\n",
    "#### o First line contains the shape of the array.\n",
    "#### o Second line contains the range (low, high).\n",
    "####  Output Format: A NumPy array"
   ]
  },
  {
   "cell_type": "code",
   "execution_count": 6,
   "id": "39e72720-0360-47d6-b665-220ca60a191d",
   "metadata": {},
   "outputs": [
    {
     "name": "stdin",
     "output_type": "stream",
     "text": [
      "Enter shape of the array:  4 4\n",
      "Enter range (low high):  10 20\n"
     ]
    },
    {
     "name": "stdout",
     "output_type": "stream",
     "text": [
      "[[10 11 19 20]\n",
      " [17 12 18 14]\n",
      " [15 15 10 10]\n",
      " [17 17 10 10]]\n"
     ]
    }
   ],
   "source": [
    "shape = tuple(map(int, input(\"Enter shape of the array: \").split()))\n",
    "\n",
    "low, high = map(int, input(\"Enter range (low high): \").split())\n",
    "\n",
    "random_array = np.random.randint(low, high + 1, size=shape)\n",
    "\n",
    "print(random_array)"
   ]
  },
  {
   "cell_type": "markdown",
   "id": "dd1698fe-514d-41f0-a950-376824cdfbcf",
   "metadata": {},
   "source": [
    "## Challenging"
   ]
  },
  {
   "cell_type": "markdown",
   "id": "a8d71652-8849-492d-92f3-037814d43bd7",
   "metadata": {},
   "source": [
    "#### 1. Create a 10x10 matrix with random integers and find the indices of the top 3 maximum values.\n",
    "#### o Concepts: Matrix generation, indexing with conditions."
   ]
  },
  {
   "cell_type": "code",
   "execution_count": 59,
   "id": "e29f8621-e5bf-4308-8732-97a95d4fc844",
   "metadata": {},
   "outputs": [
    {
     "name": "stdout",
     "output_type": "stream",
     "text": [
      "[[44 47 64 67 67  9 83 21 36 87]\n",
      " [70 88 88 12 58 65 39 87 46 88]\n",
      " [81 37 25 77 72  9 20 80 69 79]\n",
      " [47 64 82 99 88 49 29 19 19 14]\n",
      " [39 32 65  9 57 32 31 74 23 35]\n",
      " [75 55 28 34  0  0 36 53  5 38]\n",
      " [17 79  4 42 58 31  1 65 41 57]\n",
      " [35 11 46 82 91  0 14 99 53 12]\n",
      " [42 84 75 68  6 68 47  3 76 52]\n",
      " [78 15 20 99 58 23 79 13 85 48]]\n",
      "Indices of Top 3 Values: (3,3), (7,7), (9,3)\n"
     ]
    }
   ],
   "source": [
    "np.random.seed(0)\n",
    "arr = np.random.randint(100, size = (10,10))\n",
    "print(arr)\n",
    "flattened_arr = arr.flatten()\n",
    "\n",
    "sorted_arr = np.sort(flattened_arr)\n",
    "\n",
    "top_3 = np.partition(sorted_arr, -3)[-3:]\n",
    "\n",
    "indices_of_top3 = np.argwhere(np.isin(arr, top_3))\n",
    "\n",
    "formatted_indices = [f\"({x},{y})\" for x, y in indices_of_top3]\n",
    "\n",
    "print(\"Indices of Top 3 Values:\", \", \".join(formatted_indices))"
   ]
  },
  {
   "cell_type": "markdown",
   "id": "b71bdcab-8d28-4cf2-8d2d-57860b92a217",
   "metadata": {},
   "source": [
    "#### 2. Solve a system of three linear equations using NumPy’s linalg.solve() function.\n",
    "#### o Concepts: Linear algebra, system of equations."
   ]
  },
  {
   "cell_type": "code",
   "execution_count": 35,
   "id": "4ea07854-fc0b-4c23-b040-932bfd3daa7e",
   "metadata": {},
   "outputs": [
    {
     "name": "stdout",
     "output_type": "stream",
     "text": [
      "Solution (x, y, z): [ 2.  3. -1.]\n"
     ]
    }
   ],
   "source": [
    "# Coefficients\n",
    "A = np.array([[2, 1, -1],\n",
    "              [-3, -1, 2],\n",
    "              [-2, 1, 2]])\n",
    "\n",
    "# Constants\n",
    "B = np.array([8, -11, -3])\n",
    "\n",
    "X = np.linalg.solve(A, B)\n",
    "\n",
    "print(\"Solution (x, y, z):\", X)\n"
   ]
  },
  {
   "cell_type": "markdown",
   "id": "53c0cdab-a27e-4b92-a289-f5d1d6e35161",
   "metadata": {},
   "source": [
    "#### 3. Generate a random 8x8 matrix and compute its eigenvalues and eigenvectors.\n",
    "#### o Concepts: Linear algebra, eigenvalues/eigenvectors."
   ]
  },
  {
   "cell_type": "code",
   "execution_count": 55,
   "id": "eb1c4001-1200-4054-87a7-2f12dbeafe9a",
   "metadata": {},
   "outputs": [
    {
     "name": "stdout",
     "output_type": "stream",
     "text": [
      "[[5 0 3 3 7 9 3 5]\n",
      " [2 4 7 6 8 8 1 6]\n",
      " [7 7 8 1 5 9 8 9]\n",
      " [4 3 0 3 5 0 2 3]\n",
      " [8 1 3 3 3 7 0 1]\n",
      " [9 9 0 4 7 3 2 7]\n",
      " [2 0 0 4 5 5 6 8]\n",
      " [4 1 4 9 8 1 1 7]]\n",
      "The eigenvalues are\n",
      "[34.33543955+0.j         -8.85560035+0.j          6.48382308+2.02005973j\n",
      "  6.48382308-2.02005973j  1.17287558+5.76617251j  1.17287558-5.76617251j\n",
      " -3.11874117+0.j          1.32550464+0.j        ]\n",
      "THe eigenvectors are\n",
      "[[ 0.33081297+0.j          0.37358978+0.j         -0.15259071+0.0986812j\n",
      "  -0.15259071-0.0986812j   0.21398001+0.07027595j  0.21398001-0.07027595j\n",
      "   0.10753755+0.j          0.21815126+0.j        ]\n",
      " [ 0.42273382+0.j          0.42446663+0.j          0.24243757-0.4015283j\n",
      "   0.24243757+0.4015283j  -0.14834741-0.06988714j -0.14834741+0.06988714j\n",
      "  -0.00084266+0.j         -0.3271723 +0.j        ]\n",
      " [ 0.56424955+0.j         -0.12427948+0.j          0.54616493+0.j\n",
      "   0.54616493-0.j          0.51515587+0.j          0.51515587-0.j\n",
      "  -0.02501831+0.j          0.23310923+0.j        ]\n",
      " [ 0.16920564+0.j         -0.36833058+0.j         -0.08260514+0.08900723j\n",
      "  -0.08260514-0.08900723j -0.09626962-0.07155225j -0.09626962+0.07155225j\n",
      "   0.5468609 +0.j         -0.47321357+0.j        ]\n",
      " [ 0.26265366+0.j          0.22745541+0.j         -0.15878273-0.12011794j\n",
      "  -0.15878273+0.12011794j  0.22260698-0.16215391j  0.22260698+0.16215391j\n",
      "  -0.7634144 +0.j          0.03844566+0.j        ]\n",
      " [ 0.37983691+0.j         -0.66678126+0.j         -0.11955903-0.22207878j\n",
      "  -0.11955903+0.22207878j -0.27090388+0.21656214j -0.27090388-0.21656214j\n",
      "   0.31221899+0.j         -0.18781231+0.j        ]\n",
      " [ 0.24584596+0.j          0.17763149+0.j         -0.06630355+0.53625159j\n",
      "  -0.06630355-0.53625159j  0.12560442+0.478077j    0.12560442-0.478077j\n",
      "  -0.06925021+0.j         -0.47433778+0.j        ]\n",
      " [ 0.3019065 +0.j          0.0354937 +0.j          0.11399642+0.16038826j\n",
      "   0.11399642-0.16038826j -0.39554746-0.21373306j -0.39554746+0.21373306j\n",
      "   0.06061663+0.j          0.55258434+0.j        ]]\n"
     ]
    }
   ],
   "source": [
    "np.random.seed(0)\n",
    "matrix = np.random.randint(10, size = (8,8))\n",
    "\n",
    "print(matrix)\n",
    "w,v = np.linalg.eig(matrix)\n",
    "\n",
    "print('The eigenvalues are')\n",
    "print(w)\n",
    "print('THe eigenvectors are')\n",
    "print(v)"
   ]
  },
  {
   "cell_type": "markdown",
   "id": "1783c3a6-5eb7-4478-8f13-6af6e93719d0",
   "metadata": {},
   "source": [
    "#### 4. Create a large random matrix (1000x1000) and find the time taken to compute the sum of its elements.\n",
    "#### o Concepts: Performance evaluation, time computation."
   ]
  },
  {
   "cell_type": "code",
   "execution_count": 53,
   "id": "8e5dab60-b310-4239-b365-445e5a8f8c19",
   "metadata": {},
   "outputs": [
    {
     "name": "stdout",
     "output_type": "stream",
     "text": [
      "1739789159.7216017\n",
      "1739789159.7226038\n",
      "Time taken is: 0.0010020732879638672\n"
     ]
    }
   ],
   "source": [
    "import time\n",
    "np.random.seed(0)\n",
    "matrix = np.random.randint(10, size = (1000, 1000))\n",
    "\n",
    "start_time = time.time()\n",
    "print(start_time)\n",
    "\n",
    "sum_of_matrix = np.sum(matrix)\n",
    "\n",
    "end_time = time.time()\n",
    "print(end_time)\n",
    "\n",
    "time_taken = end_time - start_time\n",
    "\n",
    "print(f'Time taken is: {time_taken}')"
   ]
  },
  {
   "cell_type": "code",
   "execution_count": 54,
   "id": "bcdb7c0e-b368-41ef-be0e-d7321614ba10",
   "metadata": {},
   "outputs": [
    {
     "name": "stdout",
     "output_type": "stream",
     "text": [
      "Time taken by manual multiplication: 168.40191769599915 seconds\n",
      "Time taken by NumPy's dot product: 0.46849846839904785 seconds\n"
     ]
    }
   ],
   "source": [
    "A = np.random.rand(500, 500)\n",
    "B = np.random.rand(500, 500)\n",
    "\n",
    "rows_A, cols_A = A.shape\n",
    "rows_B, cols_B = B.shape\n",
    "\n",
    "manual_result = np.zeros((rows_A, cols_B))\n",
    "\n",
    "start_time_manual = time.time()\n",
    "for i in range(rows_A):\n",
    "    for j in range(cols_B):\n",
    "        manual_result[i][j] = 0 \n",
    "        for k in range(cols_A):\n",
    "            manual_result[i][j] += A[i][k] * B[k][j] \n",
    "end_time_manual = time.time()\n",
    "manual_time = end_time_manual - start_time_manual\n",
    "\n",
    "start_time_numpy = time.time()\n",
    "numpy_result = np.dot(A, B)\n",
    "end_time_numpy = time.time()\n",
    "numpy_time = end_time_numpy - start_time_numpy\n",
    "\n",
    "print(f\"Time taken by manual multiplication: {manual_time} seconds\")\n",
    "print(f\"Time taken by NumPy's dot product: {numpy_time} seconds\")\n"
   ]
  },
  {
   "cell_type": "code",
   "execution_count": null,
   "id": "0db61bc5-c338-4a80-a7e3-965b157b37c0",
   "metadata": {},
   "outputs": [],
   "source": []
  }
 ],
 "metadata": {
  "kernelspec": {
   "display_name": "Python 3 (ipykernel)",
   "language": "python",
   "name": "python3"
  },
  "language_info": {
   "codemirror_mode": {
    "name": "ipython",
    "version": 3
   },
   "file_extension": ".py",
   "mimetype": "text/x-python",
   "name": "python",
   "nbconvert_exporter": "python",
   "pygments_lexer": "ipython3",
   "version": "3.12.7"
  }
 },
 "nbformat": 4,
 "nbformat_minor": 5
}
