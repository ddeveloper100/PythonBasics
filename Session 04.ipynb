{
 "cells": [
  {
   "cell_type": "markdown",
   "id": "f47d53ca-258f-4481-bf0f-9c62c8b91775",
   "metadata": {},
   "source": [
    "## File Handling"
   ]
  },
  {
   "cell_type": "code",
   "execution_count": 57,
   "id": "70de9ba3-7ede-48d3-9528-e14556c50964",
   "metadata": {},
   "outputs": [],
   "source": [
    "f1 = open('test1.txt')"
   ]
  },
  {
   "cell_type": "code",
   "execution_count": 43,
   "id": "95139e27-f4de-49fe-8aa2-41394f30f654",
   "metadata": {},
   "outputs": [
    {
     "name": "stdout",
     "output_type": "stream",
     "text": [
      "Hello world\n",
      "Welcome to Python\n",
      "We start today\n"
     ]
    }
   ],
   "source": [
    "print(f1.read())"
   ]
  },
  {
   "cell_type": "code",
   "execution_count": 45,
   "id": "d2332cb9-b74d-4967-9ec6-263ae19b4276",
   "metadata": {},
   "outputs": [
    {
     "data": {
      "text/plain": [
       "0"
      ]
     },
     "execution_count": 45,
     "metadata": {},
     "output_type": "execute_result"
    }
   ],
   "source": [
    "f1.seek(0)"
   ]
  },
  {
   "cell_type": "code",
   "execution_count": 46,
   "id": "cac2dcb8-ca70-403d-9626-96cc8eb3766f",
   "metadata": {},
   "outputs": [
    {
     "name": "stdout",
     "output_type": "stream",
     "text": [
      "Hello world\n",
      "\n"
     ]
    }
   ],
   "source": [
    "print(f1.readline())"
   ]
  },
  {
   "cell_type": "code",
   "execution_count": 26,
   "id": "ad26a9cd-ec10-49b5-8431-d423fd097f8e",
   "metadata": {},
   "outputs": [
    {
     "name": "stdout",
     "output_type": "stream",
     "text": [
      "['Hello world\\n', 'Welcome to Python\\n', 'We start today']\n"
     ]
    }
   ],
   "source": [
    "print(f1.readlines())"
   ]
  },
  {
   "cell_type": "code",
   "execution_count": 58,
   "id": "6677f375-9669-4cbf-88a3-12b3c5268592",
   "metadata": {},
   "outputs": [],
   "source": [
    "f2 = open('test2.txt', 'w')"
   ]
  },
  {
   "cell_type": "code",
   "execution_count": 32,
   "id": "f9ecfe58-b3f4-4bcf-acab-5038a650b2d3",
   "metadata": {},
   "outputs": [
    {
     "data": {
      "text/plain": [
       "16"
      ]
     },
     "execution_count": 32,
     "metadata": {},
     "output_type": "execute_result"
    }
   ],
   "source": [
    "f2.write('Add this to file')"
   ]
  },
  {
   "cell_type": "code",
   "execution_count": 36,
   "id": "8c42b700-7bc4-4ad0-af6d-3de907114eaa",
   "metadata": {},
   "outputs": [
    {
     "data": {
      "text/plain": [
       "44"
      ]
     },
     "execution_count": 36,
     "metadata": {},
     "output_type": "execute_result"
    }
   ],
   "source": [
    "f3 = open('test3.txt', 'w')\n",
    "f1 = open('test1.txt')\n",
    "f3.write(f1.read())"
   ]
  },
  {
   "cell_type": "code",
   "execution_count": 62,
   "id": "8ee18d5e-75c7-44b3-acef-44e43917e129",
   "metadata": {},
   "outputs": [],
   "source": [
    "f1 = open('test1.txt')\n",
    "f2 = open('test2.txt')\n",
    "f3 = open('test3.txt')"
   ]
  },
  {
   "cell_type": "code",
   "execution_count": 63,
   "id": "e4cb6070-7d61-4d3e-a333-0c96545f7cdf",
   "metadata": {},
   "outputs": [
    {
     "data": {
      "text/plain": [
       "59"
      ]
     },
     "execution_count": 63,
     "metadata": {},
     "output_type": "execute_result"
    }
   ],
   "source": [
    "f4 = open('test4.txt', 'a')\n",
    "f4.write(f1.read())\n",
    "f4.write(f2.read())\n",
    "f4.write(f3.read())"
   ]
  },
  {
   "cell_type": "code",
   "execution_count": 64,
   "id": "e8b7d188-eda4-42d0-b0e1-855edf9bfbed",
   "metadata": {},
   "outputs": [
    {
     "data": {
      "text/plain": [
       "'Hello world\\nWelcome to Python\\nWe start today\\nThis is file 1 contentHello world\\nWelcome to Python\\nWe start today\\nThis is file 1 contentHello world\\nWelcome to Python\\nWe start today\\nThis is file 1 contentAdd this to fileHello world\\nWelcome to Python\\nWe start today\\nThis is file 3'"
      ]
     },
     "execution_count": 64,
     "metadata": {},
     "output_type": "execute_result"
    }
   ],
   "source": [
    "f4 = open('test4.txt')\n",
    "f4.read()"
   ]
  },
  {
   "cell_type": "code",
   "execution_count": 65,
   "id": "e2490a89-d7a2-4093-b45e-0884ac8064bb",
   "metadata": {},
   "outputs": [],
   "source": [
    "f5 = open('test5.txt', 'w')"
   ]
  },
  {
   "cell_type": "code",
   "execution_count": 66,
   "id": "5b249976-b7e6-40fc-bcb7-b8398055e40e",
   "metadata": {},
   "outputs": [
    {
     "data": {
      "text/plain": [
       "4"
      ]
     },
     "execution_count": 66,
     "metadata": {},
     "output_type": "execute_result"
    }
   ],
   "source": [
    "f5.write('Test')"
   ]
  },
  {
   "cell_type": "code",
   "execution_count": 79,
   "id": "7c5c3a52-c73d-4d0c-a687-8503df7ed74f",
   "metadata": {},
   "outputs": [],
   "source": [
    "f = open('test6.txt', 'x')"
   ]
  },
  {
   "cell_type": "code",
   "execution_count": 80,
   "id": "3ea708ff-d754-4c9f-b8ad-1ee56844d0d4",
   "metadata": {},
   "outputs": [
    {
     "data": {
      "text/plain": [
       "14"
      ]
     },
     "execution_count": 80,
     "metadata": {},
     "output_type": "execute_result"
    }
   ],
   "source": [
    "f.write('this is a test')"
   ]
  },
  {
   "cell_type": "code",
   "execution_count": 81,
   "id": "12c51d6a-129e-4679-8dc9-323083f2fa53",
   "metadata": {},
   "outputs": [],
   "source": [
    "f.close()"
   ]
  },
  {
   "cell_type": "code",
   "execution_count": 70,
   "id": "e9a3fa1a-4ada-440b-9471-e8aa781d2819",
   "metadata": {},
   "outputs": [],
   "source": [
    "f = open('test6.txt', 'w')"
   ]
  },
  {
   "cell_type": "code",
   "execution_count": 73,
   "id": "e98d0023-1288-4838-89ba-af7a28482585",
   "metadata": {},
   "outputs": [
    {
     "data": {
      "text/plain": [
       "14"
      ]
     },
     "execution_count": 73,
     "metadata": {},
     "output_type": "execute_result"
    }
   ],
   "source": [
    "f.write('tbis is a test')"
   ]
  },
  {
   "cell_type": "code",
   "execution_count": 77,
   "id": "a4d14272-0854-4fe7-b40f-9351da9149b3",
   "metadata": {},
   "outputs": [
    {
     "name": "stdout",
     "output_type": "stream",
     "text": [
      "Hello world\n",
      "Welcome to Python\n",
      "We start today\n",
      "This is file 1 content\n",
      "Hello world\n",
      "Welcome to Python\n",
      "We start today\n",
      "This is file 1 content\n"
     ]
    }
   ],
   "source": [
    "with open('test1.txt', 'r') as f1:\n",
    "    print(f1.read())\n",
    "    f1.seek(0)\n",
    "    print(f1.read())"
   ]
  },
  {
   "cell_type": "code",
   "execution_count": 128,
   "id": "a050ccc1-bc43-48b3-9dec-27ff3c30cf50",
   "metadata": {},
   "outputs": [],
   "source": [
    "image1 = open('C:\\\\Users\\\\danisha.ansari\\\\Pictures\\\\images.jpg', 'rb')"
   ]
  },
  {
   "cell_type": "code",
   "execution_count": 129,
   "id": "463bf77b-a8c0-4bb0-89c7-dc97cf66bda2",
   "metadata": {},
   "outputs": [],
   "source": [
    "test1 = open('test_file.jpg', 'wb')"
   ]
  },
  {
   "cell_type": "code",
   "execution_count": 130,
   "id": "0e8b230f-e3bc-41c3-8415-f89ebd2e7023",
   "metadata": {},
   "outputs": [
    {
     "data": {
      "text/plain": [
       "5402"
      ]
     },
     "execution_count": 130,
     "metadata": {},
     "output_type": "execute_result"
    }
   ],
   "source": [
    "test1.write(image1.read())"
   ]
  },
  {
   "cell_type": "code",
   "execution_count": 131,
   "id": "695fbbf4-7c76-4521-8041-356c350be8f3",
   "metadata": {},
   "outputs": [],
   "source": [
    "image1.close()\n",
    "test1.close()"
   ]
  },
  {
   "cell_type": "markdown",
   "id": "04949fb9-0e19-42dc-a76c-cb743cf2d168",
   "metadata": {},
   "source": [
    "#### Reading JSON File"
   ]
  },
  {
   "cell_type": "code",
   "execution_count": 148,
   "id": "0082173a-70bd-40e1-8b1e-6d0a90287a4f",
   "metadata": {},
   "outputs": [],
   "source": [
    "import json\n",
    "f1 = open('data.json','r')\n"
   ]
  },
  {
   "cell_type": "code",
   "execution_count": 149,
   "id": "32b4b930-45f9-4e72-80de-63eeabdd2bf6",
   "metadata": {},
   "outputs": [],
   "source": [
    "employee = json.load(f1)"
   ]
  },
  {
   "cell_type": "code",
   "execution_count": 151,
   "id": "4a581bfa-13f7-4fa9-8d12-a19e73327c19",
   "metadata": {},
   "outputs": [
    {
     "name": "stdout",
     "output_type": "stream",
     "text": [
      "Danish\n"
     ]
    }
   ],
   "source": [
    "print(employee[\"Name\"])"
   ]
  },
  {
   "cell_type": "code",
   "execution_count": 158,
   "id": "e6156160-d666-468c-a247-1a85d3464627",
   "metadata": {},
   "outputs": [],
   "source": [
    "f1.close()"
   ]
  },
  {
   "cell_type": "code",
   "execution_count": 182,
   "id": "d872bca6-0bcb-4920-b0c8-2363182d0505",
   "metadata": {},
   "outputs": [],
   "source": [
    "import json\n",
    "f2 = open('data1.json', 'r')\n",
    "employees = json.load(f2)"
   ]
  },
  {
   "cell_type": "code",
   "execution_count": 183,
   "id": "7b05048e-fc81-4101-8f54-f7a2edfbf7bc",
   "metadata": {},
   "outputs": [
    {
     "name": "stdout",
     "output_type": "stream",
     "text": [
      "[{'Name': 'Danish', 'Age': 21, 'Gender': 'M'}, {'Name': 'Prathamesh', 'Age': 22, 'Gender': 'M'}, {'Name': 'Parth', 'Age': 20, 'Gender': 'M'}, {'Name': 'Sanjana', 'Age': 21, 'Gender': 'F'}, {'Name': 'Garvita', 'Age': 21, 'Gender': 'F'}]\n"
     ]
    }
   ],
   "source": [
    "print(employees)"
   ]
  },
  {
   "cell_type": "code",
   "execution_count": 188,
   "id": "1a5dbc34-91b1-463e-abf7-63b40c094c17",
   "metadata": {},
   "outputs": [
    {
     "name": "stdout",
     "output_type": "stream",
     "text": [
      "[{'Name': 'Danish', 'Age': 21, 'Gender': 'M'}, {'Name': 'Prathamesh', 'Age': 22, 'Gender': 'M'}, {'Name': 'Parth', 'Age': 20, 'Gender': 'M'}]\n"
     ]
    }
   ],
   "source": [
    "list_of_males = []\n",
    "\n",
    "for emp in employees:\n",
    "    if emp['Gender']=='M':\n",
    "        list_of_males.append(emp)\n",
    "print(list_of_males)\n",
    "\n",
    "# i = 0\n",
    "# for item in employees:\n",
    "#     i+=1\n",
    "#     employee{i} = {}\n",
    "#     for j in range (4):\n",
    "#         employee{i} []\n",
    "\n",
    "# for i in range (len(employees)):\n",
    "#     temp = employee[\"Gender\"]\n",
    "#     if(temp == \"M\"):\n",
    "#         list_of_males.append(employees[\"Name\"])\n",
    "\n",
    "\n",
    "# print(list_of_males)"
   ]
  },
  {
   "cell_type": "code",
   "execution_count": 8,
   "id": "66743cb4-ac07-4a4d-8a2f-83ad22ea810d",
   "metadata": {},
   "outputs": [
    {
     "name": "stdout",
     "output_type": "stream",
     "text": [
      "emp1\n",
      "name: Alice\n",
      "role: Developer\n",
      "emp2\n",
      "name: Bob\n",
      "role: Designer\n",
      "emp3\n",
      "name: Charlie\n",
      "role: Manager\n"
     ]
    }
   ],
   "source": [
    "employees = {\n",
    "    \"emp1\": {\"name\": \"Alice\", \"role\": \"Developer\"},\n",
    "    \"emp2\": {\"name\": \"Bob\", \"role\": \"Designer\"},\n",
    "    \"emp3\": {\"name\": \"Charlie\", \"role\": \"Manager\"}\n",
    "}\n",
    "# i = 0\n",
    "# for item in employees:\n",
    "#     i=i+1\n",
    "#     temp = employees[f'emp{i}']\n",
    "#     print(temp['name'], end=\" \")\n",
    "#     print(temp['role'])\n",
    "\n",
    "for key, employee in employees.items():\n",
    "    print(key)\n",
    "    for key1, value in employee.items():\n",
    "        print(f'{key1}: {value}')\n"
   ]
  },
  {
   "cell_type": "code",
   "execution_count": 4,
   "id": "60255dd2-b15b-4aee-9635-6541ea911782",
   "metadata": {},
   "outputs": [
    {
     "name": "stdout",
     "output_type": "stream",
     "text": [
      "emp1\n",
      "emp2\n",
      "emp3\n"
     ]
    }
   ],
   "source": [
    "for key in employees:\n",
    "    print(key)"
   ]
  },
  {
   "cell_type": "code",
   "execution_count": 219,
   "id": "52134e41-4cc7-4eda-b0ad-854c8bbc8b18",
   "metadata": {},
   "outputs": [
    {
     "name": "stdout",
     "output_type": "stream",
     "text": [
      "{'name': 'Alice', 'role': 'Developer'}\n",
      "{'name': 'Bob', 'role': 'Designer'}\n",
      "{'name': 'Charlie', 'role': 'Manager'}\n"
     ]
    }
   ],
   "source": [
    "for value in employees.values():\n",
    "    print(value)"
   ]
  },
  {
   "cell_type": "code",
   "execution_count": 231,
   "id": "16755c7d-c8b7-434f-8868-3854e3ad7da5",
   "metadata": {},
   "outputs": [],
   "source": [
    "employees = {\n",
    "    \"emp1\": {\"name\": \"Alice\", \"role\": \"Developer\"},\n",
    "    \"emp2\": {\"name\": \"Bob\", \"role\": \"Designer\"},\n",
    "    \"emp3\": {\"name\": \"Charlie\", \"role\": \"Manager\"}\n",
    "}\n",
    "\n",
    "fp1 = open('data2.json', 'w')\n",
    "json.dump(employees, fp1, indent=4)\n",
    "fp1.close()"
   ]
  },
  {
   "cell_type": "code",
   "execution_count": 8,
   "id": "2e457313-485c-4662-bf60-dbba44a937ec",
   "metadata": {},
   "outputs": [
    {
     "name": "stdout",
     "output_type": "stream",
     "text": [
      "{'Machine Learning', 'Node.js', 'Microservices', 'React', 'Power BI', 'C#', 'Java', '.NET', 'SQL', 'JavaScript', 'Data Analysis', 'Python', 'Spring Boot', 'Data Science', 'Azure'}\n"
     ]
    }
   ],
   "source": [
    "data = [\n",
    "    {\n",
    "        \"name\": \"John Doe\",\n",
    "        \"age\": 30,\n",
    "        \"city\": \"New York\",\n",
    "        \"skills\": [\"Python\", \"Machine Learning\", \"Data Science\"]\n",
    "    },\n",
    "    {\n",
    "        \"name\": \"Alice Smith\",\n",
    "        \"age\": 28,\n",
    "        \"city\": \"San Francisco\",\n",
    "        \"skills\": [\"Python\", \"React\", \"Node.js\"]\n",
    "    },\n",
    "    {\n",
    "        \"name\": \"Bob Johnson\",\n",
    "        \"age\": 35,\n",
    "        \"city\": \"Chicago\",\n",
    "        \"skills\": [\"Java\", \"Spring Boot\", \"Microservices\", \"Machine Learning\"]\n",
    "    },\n",
    "    {\n",
    "        \"name\": \"Emily Davis\",\n",
    "        \"age\": 32,\n",
    "        \"city\": \"Boston\",\n",
    "        \"skills\": [\"SQL\", \"Data Analysis\", \"Python\"]\n",
    "    },\n",
    "    {\n",
    "        \"name\": \"Michael Brown\",\n",
    "        \"age\": 27,\n",
    "        \"city\": \"Seattle\",\n",
    "        \"skills\": [\"C#\", \".NET\", \"Azure\", \"Data Science\"]\n",
    "    },\n",
    "    {\n",
    "        \"name\": \"Sarah Wilson\",\n",
    "        \"age\": 29,\n",
    "        \"city\": \"Los Angeles\",\n",
    "        \"skills\": [\"Python\", \"SQL\", \"Data Analysis\"]\n",
    "    },\n",
    "    {\n",
    "        \"name\": \"David Clark\",\n",
    "        \"age\": 31,\n",
    "        \"city\": \"Denver\",\n",
    "        \"skills\": [\"JavaScript\", \"React\", \"Node.js\", \"Machine Learning\"]\n",
    "    },\n",
    "    {\n",
    "        \"name\": \"Sophia Martinez\",\n",
    "        \"age\": 34,\n",
    "        \"city\": \"Austin\",\n",
    "        \"skills\": [\"Java\", \"Spring Boot\", \"SQL\"]\n",
    "    },\n",
    "    {\n",
    "        \"name\": \"Daniel Lee\",\n",
    "        \"age\": 26,\n",
    "        \"city\": \"Miami\",\n",
    "        \"skills\": [\"C#\", \".NET\", \"Azure\", \"React\"]\n",
    "    },\n",
    "    {\n",
    "        \"name\": \"Olivia Taylor\",\n",
    "        \"age\": 33,\n",
    "        \"city\": \"Philadelphia\",\n",
    "        \"skills\": [\"Python\", \"Machine Learning\", \"Power BI\"]\n",
    "    }\n",
    "]\n",
    "\n",
    "list_of_unique_skills= set()\n",
    "\n",
    "for item in data:\n",
    "    # print(item)\n",
    "    for value1 in item['skills']:\n",
    "        # print(value1)\n",
    "        list_of_unique_skills.add(value1)\n",
    "    \n",
    "print(list_of_unique_skills)\n"
   ]
  },
  {
   "cell_type": "markdown",
   "id": "a4fa10f0-6450-4e9e-9c7b-4fec65cd27d3",
   "metadata": {},
   "source": [
    "## Exception Handling"
   ]
  },
  {
   "cell_type": "code",
   "execution_count": null,
   "id": "331c8b34-43d1-4add-8a14-8dc33a7695f7",
   "metadata": {},
   "outputs": [],
   "source": [
    "# Common Built-in Exceptions in Python\n",
    "# Some of the most common built-in exceptions in Python include:\n",
    "\n",
    "# ZeroDivisionError – Raised when a division by zero occurs.\n",
    "# ValueError – Raised when a function receives an argument of the right type but an inappropriate value.\n",
    "# IndexError – Raised when trying to access an index that is out of range in a list or tuple.\n",
    "# KeyError – Raised when trying to access a dictionary key that does not exist.\n",
    "# TypeError – Raised when an operation is applied to an object of an inappropriate type.\n",
    "# FileNotFoundError – Raised when trying to open a file that does not exist.\n"
   ]
  },
  {
   "cell_type": "code",
   "execution_count": 2,
   "id": "4f976e2e-677d-4da8-a962-f01615907efd",
   "metadata": {},
   "outputs": [
    {
     "name": "stdin",
     "output_type": "stream",
     "text": [
      "Enter numerator:  2.5\n"
     ]
    },
    {
     "name": "stdout",
     "output_type": "stream",
     "text": [
      "Error: Please enter a valid number.\n"
     ]
    }
   ],
   "source": [
    "try:\n",
    "    num1 = int(input(\"Enter numerator: \"))\n",
    "    num2 = int(input(\"Enter denominator: \"))\n",
    "    result = num1 / num2  \n",
    "    print(\"Result:\", result)\n",
    "except ZeroDivisionError:\n",
    "    print(\"Error: You cannot divide by zero.\")\n",
    "except ValueError:\n",
    "    print(\"Error: Please enter a valid number.\")\n"
   ]
  },
  {
   "cell_type": "code",
   "execution_count": null,
   "id": "84673249-4435-4394-82e0-bf3e5a9de831",
   "metadata": {},
   "outputs": [],
   "source": []
  }
 ],
 "metadata": {
  "kernelspec": {
   "display_name": "Python 3 (ipykernel)",
   "language": "python",
   "name": "python3"
  },
  "language_info": {
   "codemirror_mode": {
    "name": "ipython",
    "version": 3
   },
   "file_extension": ".py",
   "mimetype": "text/x-python",
   "name": "python",
   "nbconvert_exporter": "python",
   "pygments_lexer": "ipython3",
   "version": "3.12.7"
  }
 },
 "nbformat": 4,
 "nbformat_minor": 5
}
