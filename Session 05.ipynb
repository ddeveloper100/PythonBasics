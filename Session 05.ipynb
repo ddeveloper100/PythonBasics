{
 "cells": [
  {
   "cell_type": "markdown",
   "id": "ddaad759-e65f-413e-b1ef-99afb8100e97",
   "metadata": {},
   "source": [
    "## Type 1 : Easy Questions:"
   ]
  },
  {
   "cell_type": "markdown",
   "id": "54191241-c801-4d18-9cd0-53d62e5af6ca",
   "metadata": {},
   "source": [
    "#### Task 1: Variables and Data Types\n",
    "#### Write a Python script that does the following:\n",
    "#### - Create variables of different data types: integer, float, string, and boolean.\n",
    "#### - Print each variable with an appropriate message indicating its data type.\n",
    "#### - Use the type() function to verify and print the data type of each variable."
   ]
  },
  {
   "cell_type": "code",
   "execution_count": 12,
   "id": "f3167de2-ff66-474a-bada-c42a56fb3241",
   "metadata": {},
   "outputs": [
    {
     "name": "stdout",
     "output_type": "stream",
     "text": [
      "variable1 is 25 and its data type is <class 'int'>\n",
      "variable2 is 25.5 and its data type is <class 'float'>\n",
      "variable3 is Example and its data type is <class 'str'>\n",
      "variable4 is True and its data type is <class 'bool'>\n"
     ]
    }
   ],
   "source": [
    "variable1 = int(25)\n",
    "variable2 = float(25.5)\n",
    "variable3 = 'Example'\n",
    "variable4 = True\n",
    "print(f'variable1 is {variable1} and its data type is {type(variable1)}')\n",
    "print(f'variable2 is {variable2} and its data type is {type(variable2)}')\n",
    "print(f'variable3 is {variable3} and its data type is {type(variable3)}')\n",
    "print(f'variable4 is {variable4} and its data type is {type(variable4)}')"
   ]
  },
  {
   "cell_type": "markdown",
   "id": "ff6c259c-c376-4eb3-a29c-9cf1a4ba20d1",
   "metadata": {},
   "source": [
    "#### Task 2: String Manipulation\n",
    "#### Given the string \"Python programming is fun!\", write a Python script that:\n",
    "#### - Converts the string to uppercase.\n",
    "#### - Replaces the word \"fun\" with \"powerful\".\n",
    "#### - Slices the string to print only the word \"programming\".\n",
    "#### - Prints the length of the original string."
   ]
  },
  {
   "cell_type": "code",
   "execution_count": 2,
   "id": "c325e036-6353-4624-9825-ab6c4bcd63a7",
   "metadata": {},
   "outputs": [
    {
     "name": "stdout",
     "output_type": "stream",
     "text": [
      "PYTHON PROGRAMMING IS FUN!\n",
      "Python programming is powerful!\n",
      "programming\n",
      "The length of the original string is 26\n"
     ]
    }
   ],
   "source": [
    "string1 = \"Python programming is fun!\"\n",
    "Uppercase_String = string1.upper()\n",
    "print(Uppercase_String)\n",
    "\n",
    "replaced_string = string1.replace('fun', 'powerful')\n",
    "print(replaced_string)\n",
    "\n",
    "words = string1.split()\n",
    "print(words[1])\n",
    "\n",
    "print(f'The length of the original string is {len(string1)}')"
   ]
  },
  {
   "cell_type": "markdown",
   "id": "a69769c5-42ec-438d-b075-fd452f7b018b",
   "metadata": {},
   "source": [
    "#### Task 3: Lists and Loops\n",
    "#### Write a Python program that:\n",
    "#### - Creates a list of at least 5 integers.\n",
    "#### - Uses a for loop to iterate through the list and print each number.\n",
    "#### - Uses a while loop to find the sum of all numbers in the list."
   ]
  },
  {
   "cell_type": "code",
   "execution_count": 21,
   "id": "2b2ea1e1-eda1-4570-aa82-a860725e3954",
   "metadata": {},
   "outputs": [
    {
     "name": "stdout",
     "output_type": "stream",
     "text": [
      "13\n",
      "12\n",
      "15\n",
      "9\n",
      "25\n",
      "The sum of all numbers in the list is 74\n"
     ]
    }
   ],
   "source": [
    "numbers = [13, 12, 15, 9, 25]\n",
    "\n",
    "for item in numbers:\n",
    "    print(item)\n",
    "\n",
    "sum = 0\n",
    "for item in numbers:\n",
    "    sum = sum + item\n",
    "\n",
    "print(f'The sum of all numbers in the list is {sum}')"
   ]
  },
  {
   "cell_type": "markdown",
   "id": "7d51cf26-8d8b-4b87-b29b-687924f61693",
   "metadata": {},
   "source": [
    "#### Task 4: Conditionals\n",
    "#### Write a Python program that:\n",
    "#### - Asks the user for their age using input().\n",
    "#### - Checks if the age is greater than or equal to 18 and prints a message based on whether the user is an adult or not.\n",
    "#### - Add error handling to ensure the user enters a valid number.\n"
   ]
  },
  {
   "cell_type": "code",
   "execution_count": 25,
   "id": "ec8118c3-d782-440c-9824-94369dd977d3",
   "metadata": {},
   "outputs": [
    {
     "name": "stdin",
     "output_type": "stream",
     "text": [
      "Enter your age 44.7\n"
     ]
    },
    {
     "name": "stdout",
     "output_type": "stream",
     "text": [
      "Enter a valid number\n"
     ]
    }
   ],
   "source": [
    "try:\n",
    "    age = int(input('Enter your age'))\n",
    "\n",
    "    if (age >= 18):\n",
    "        print('User is an adult')\n",
    "    else:\n",
    "        print('User is not an adult')\n",
    "except ValueError:\n",
    "    print('Enter a valid number')"
   ]
  },
  {
   "cell_type": "markdown",
   "id": "75415886-5f7a-441a-b1e0-f38b3c886d06",
   "metadata": {},
   "source": [
    "#### Task 5: Functions\n",
    "#### Write a Python function calculate_area() that:\n",
    "#### - Takes two parameters: length and width (both integers or floats).\n",
    "#### - Returns the area of a rectangle (length × width).\n",
    "#### - Call the function with different sets of parameters and print the results"
   ]
  },
  {
   "cell_type": "code",
   "execution_count": 31,
   "id": "cab12224-d2d6-4f0c-bcba-f486d7f0e8d4",
   "metadata": {},
   "outputs": [
    {
     "name": "stdin",
     "output_type": "stream",
     "text": [
      "Enter the length 5\n",
      "Enter the width 5\n"
     ]
    },
    {
     "name": "stdout",
     "output_type": "stream",
     "text": [
      "25.0\n"
     ]
    }
   ],
   "source": [
    "def calculate_area(length, widhth):\n",
    "    area = length * width\n",
    "    return area\n",
    "\n",
    "length = float(input('Enter the length'))\n",
    "width = float(input('Enter the width'))\n",
    "\n",
    "print(calculate_area(length, width))"
   ]
  },
  {
   "cell_type": "markdown",
   "id": "c7d4e1aa-26a5-4d8f-be32-c651ea3cac40",
   "metadata": {},
   "source": [
    "#### Task 6: Dictionaries\n",
    "#### Write a Python program that:\n",
    "#### - Creates a dictionary containing at least 3 key-value pairs where the keys are student names, and the values are their scores.\n",
    "#### - Adds a new key-value pair to the dictionary for another student.\n",
    "#### - Updates the score of one student.\n",
    "#### - Prints out all the student names and their scores."
   ]
  },
  {
   "cell_type": "code",
   "execution_count": 37,
   "id": "787445aa-720a-4f22-ad14-4239f7429784",
   "metadata": {},
   "outputs": [
    {
     "name": "stdin",
     "output_type": "stream",
     "text": [
      "Enter the number of students 3\n",
      "Enter the name of the student danish\n",
      "Enter the score of the student 85\n",
      "Enter the name of the student prathamesh\n",
      "Enter the score of the student 83\n",
      "Enter the name of the student parth\n",
      "Enter the score of the student 87\n",
      "Enter the name of the student sanjana\n",
      "Enter the score of the student 95\n",
      "Enter the name of the student that needs to update their marks danish\n",
      "Write the updated marks 90\n"
     ]
    },
    {
     "name": "stdout",
     "output_type": "stream",
     "text": [
      "danish: 90\n",
      "prathamesh: 83\n",
      "parth: 87\n",
      "sanjana: 95\n"
     ]
    }
   ],
   "source": [
    "dict1 = {}\n",
    "\n",
    "size = int(input('Enter the number of students'))\n",
    "\n",
    "for i in range(size):\n",
    "    name = input('Enter the name of the student')\n",
    "    score = int(input('Enter the score of the student'))\n",
    "    dict1[name] = score\n",
    "\n",
    "name = input('Enter the name of the student')\n",
    "score = int(input('Enter the score of the student'))\n",
    "dict1[name] = score\n",
    "\n",
    "name = input('Enter the name of the student that needs to update their marks')\n",
    "score = int(input('Write the updated marks'))\n",
    "dict1[name] = score\n",
    "\n",
    "for key, value in dict1.items():\n",
    "    print(f'{key}: {value}')"
   ]
  },
  {
   "cell_type": "markdown",
   "id": "08718570-a73d-424a-8498-72195da6934a",
   "metadata": {},
   "source": [
    "#### Task 7: File Handling\n",
    "#### Write a Python program that:\n",
    "#### - Creates a text file named students.txt.\n",
    "#### - Writes the names of five students into the file, each on a new line.\n",
    "#### - Reads the file and prints its contents to the console.\n"
   ]
  },
  {
   "cell_type": "code",
   "execution_count": 47,
   "id": "4d5df5ec-f20d-4212-8f04-bda656d65ff5",
   "metadata": {},
   "outputs": [],
   "source": [
    "f1 = open('students.txt', 'w')\n",
    "\n",
    "f1.write('Danish \\n')\n",
    "f1.write('Prathamesh \\n')\n",
    "f1.write('Parth \\n')\n",
    "f1.write('Sanjana \\n')\n",
    "f1.write('Aadit \\n')\n",
    "f1.close()\n"
   ]
  },
  {
   "cell_type": "code",
   "execution_count": 48,
   "id": "a0a99cfa-dcdd-4af1-852c-11c91b701018",
   "metadata": {},
   "outputs": [
    {
     "name": "stdout",
     "output_type": "stream",
     "text": [
      "Danish \n",
      "Prathamesh \n",
      "Parth \n",
      "Sanjana \n",
      "Aadit \n",
      "\n"
     ]
    }
   ],
   "source": [
    "f2 = open('students.txt', 'r')\n",
    "print(f2.read())\n",
    "f2.close()"
   ]
  },
  {
   "cell_type": "markdown",
   "id": "e05aed06-9985-4674-b02a-2beef0e5936d",
   "metadata": {},
   "source": [
    "#### Task 8: Error Handling\n",
    "#### Write a Python program that:\n",
    "#### - Attempts to divide two numbers.\n",
    "#### - Handles any ZeroDivisionError by printing an error message.\n",
    "#### - Handles any other exceptions using a generic except block and prints an appropriate message."
   ]
  },
  {
   "cell_type": "code",
   "execution_count": 38,
   "id": "89a8ae1b-dec1-4cf7-9cf0-48c066d4ba4b",
   "metadata": {},
   "outputs": [
    {
     "name": "stdin",
     "output_type": "stream",
     "text": [
      "Enter numerator:  26.5\n"
     ]
    },
    {
     "name": "stdout",
     "output_type": "stream",
     "text": [
      "Error: Please enter a valid number.\n"
     ]
    }
   ],
   "source": [
    "try:\n",
    "    num1 = int(input(\"Enter numerator: \"))\n",
    "    num2 = int(input(\"Enter denominator: \"))\n",
    "    result = num1 / num2  \n",
    "    print(\"Result:\", result)\n",
    "except ZeroDivisionError:\n",
    "    print(\"Error: You cannot divide by zero.\")\n",
    "except ValueError:\n",
    "    print(\"Error: Please enter a valid number.\")\n"
   ]
  },
  {
   "cell_type": "markdown",
   "id": "3aa0e25d-eb4d-4eec-8726-8c10c20240ee",
   "metadata": {},
   "source": [
    "## Type 2 : Moderate Questions:"
   ]
  },
  {
   "cell_type": "markdown",
   "id": "ef7e6f53-d752-4590-9377-b31b3e3fed7d",
   "metadata": {},
   "source": [
    "#### Task 1: Lambda Functions and Built-in Functions\n",
    "#### Write a Python program that:\n",
    "#### - Creates a list of tuples representing the names and ages of 5 people.\n",
    "#### - Sorts the list of tuples based on age using a lambda function.\n",
    "#### - Uses the map() function to create a list of only the names from the sorted list.\n",
    "#### - Uses the filter() function to return a list of people whose age is greater than or equal to 30.\n",
    "#### - Print the final lists."
   ]
  },
  {
   "cell_type": "code",
   "execution_count": 88,
   "id": "16fef450-18df-410f-9bd5-6fc8cf767c0e",
   "metadata": {},
   "outputs": [
    {
     "name": "stdout",
     "output_type": "stream",
     "text": [
      "[('aadit', 19), ('danish', 21), ('prathamesh', 22), ('parth', 31), ('sanjana', 35)]\n",
      "['aadit', 'danish', 'prathamesh', 'parth', 'sanjana']\n",
      "[('parth', 31), ('sanjana', 35)]\n"
     ]
    }
   ],
   "source": [
    "people = [('danish', 21), ('prathamesh', 22), ('parth', 31), ('aadit', 19), ('sanjana', 35)]\n",
    "\n",
    "N = 1\n",
    "people.sort(key = lambda x : x[N])\n",
    "print(people)\n",
    "\n",
    "# only_names = []\n",
    "# for item in people:\n",
    "#     only_names.append(item[0])\n",
    "\n",
    "# print(only_names)\n",
    "\n",
    "only_names = list(map(lambda x: x[0], people))\n",
    "print(only_names)\n",
    "\n",
    "filtered_people = list(filter(lambda x: x[1] >= 30, people))\n",
    "print(filtered_people)\n"
   ]
  },
  {
   "cell_type": "markdown",
   "id": "870dda03-efb0-4503-8492-e8252bf378f0",
   "metadata": {},
   "source": [
    "#### Task 2: List Comprehensions and Nested Loops\n",
    "#### Write a Python program that:\n",
    "#### - Uses a list comprehension to create a list of all even numbers from 1 to 100.\n",
    "#### - Uses a list comprehension with a nested loop to create a multiplication table (i.e., a list of lists) for the numbers 1 to 5.\n",
    "#### - Print both the even numbers list and the multiplication table."
   ]
  },
  {
   "cell_type": "code",
   "execution_count": 112,
   "id": "d85c4b49-1665-45c2-aa93-29b36012fa2a",
   "metadata": {},
   "outputs": [
    {
     "name": "stdout",
     "output_type": "stream",
     "text": [
      "List of all even numbers from 1 to 100\n",
      "[2, 4, 6, 8, 10, 12, 14, 16, 18, 20, 22, 24, 26, 28, 30, 32, 34, 36, 38, 40, 42, 44, 46, 48, 50, 52, 54, 56, 58, 60, 62, 64, 66, 68, 70, 72, 74, 76, 78, 80, 82, 84, 86, 88, 90, 92, 94, 96, 98, 100]\n",
      "[1, [1, 2, 3, 4, 5, 6, 7, 8, 9, 10], 2, [2, 4, 6, 8, 10, 12, 14, 16, 18, 20], 3, [3, 6, 9, 12, 15, 18, 21, 24, 27, 30], 4, [4, 8, 12, 16, 20, 24, 28, 32, 36, 40], 5, [5, 10, 15, 20, 25, 30, 35, 40, 45, 50]]\n"
     ]
    }
   ],
   "source": [
    "even_nos = []\n",
    "\n",
    "for i in range(1,101):\n",
    "    if (i % 2 == 0):\n",
    "        even_nos.append(i)\n",
    "print('List of all even numbers from 1 to 100')\n",
    "print(even_nos)\n",
    "\n",
    "multi = []\n",
    "for num in range(1,6):\n",
    "    multi.append(num)\n",
    "    value1 = []\n",
    "    for i in range(1,11):\n",
    "        result = num * i\n",
    "        value1.append(result)\n",
    "    multi.append(value1)\n",
    "    # print(value1)\n",
    "print(multi)\n"
   ]
  },
  {
   "cell_type": "code",
   "execution_count": null,
   "id": "e392adfc-f1e7-46cb-9742-359a559e49a2",
   "metadata": {},
   "outputs": [],
   "source": []
  }
 ],
 "metadata": {
  "kernelspec": {
   "display_name": "Python 3 (ipykernel)",
   "language": "python",
   "name": "python3"
  },
  "language_info": {
   "codemirror_mode": {
    "name": "ipython",
    "version": 3
   },
   "file_extension": ".py",
   "mimetype": "text/x-python",
   "name": "python",
   "nbconvert_exporter": "python",
   "pygments_lexer": "ipython3",
   "version": "3.12.7"
  }
 },
 "nbformat": 4,
 "nbformat_minor": 5
}
