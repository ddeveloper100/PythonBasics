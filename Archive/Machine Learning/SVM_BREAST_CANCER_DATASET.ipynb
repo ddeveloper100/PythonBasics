{
 "cells": [
  {
   "cell_type": "code",
   "execution_count": 7,
   "id": "271ffb4e",
   "metadata": {},
   "outputs": [],
   "source": [
    "import numpy as np\n",
    "from sklearn.datasets import load_breast_cancer\n",
    "from sklearn.preprocessing import StandardScaler\n",
    "from sklearn.svm import SVC\n",
    "from sklearn.model_selection import cross_val_score, cross_val_predict\n",
    "from sklearn.metrics import confusion_matrix, classification_report\n",
    "from sklearn.pipeline import Pipeline"
   ]
  },
  {
   "cell_type": "code",
   "execution_count": 8,
   "id": "12b4e374",
   "metadata": {},
   "outputs": [
    {
     "name": "stdout",
     "output_type": "stream",
     "text": [
      "Feature shape: (569, 30)\n",
      "Labels shape: (569,)\n",
      "Class names: ['malignant' 'benign']\n"
     ]
    }
   ],
   "source": [
    "# The dataset has 569 samples (tumor data), 30 features, and 2 target classes (benign/malignant).\n",
    "data = load_breast_cancer()\n",
    "X = data.data\n",
    "y = data.target\n",
    "\n",
    "print(\"Feature shape:\", X.shape)  # Expect (569, 30)\n",
    "print(\"Labels shape:\", y.shape)   # Expect (569,)\n",
    "print(\"Class names:\", data.target_names)  # ['malignant' 'benign']\n"
   ]
  },
  {
   "cell_type": "code",
   "execution_count": 3,
   "id": "ee4619fd",
   "metadata": {},
   "outputs": [],
   "source": [
    "# Pipeline steps:\n",
    "# 1. StandardScaler - scales features (zero mean, unit variance)\n",
    "# 2. SVC - Support Vector Classifier with RBF kernel by default\n",
    "pipeline = Pipeline([\n",
    "    ('scaler', StandardScaler()),\n",
    "    ('svc', SVC(kernel='rbf', C=1.0, gamma='scale', random_state=42))\n",
    "])"
   ]
  },
  {
   "cell_type": "code",
   "execution_count": 5,
   "id": "924a7538",
   "metadata": {},
   "outputs": [
    {
     "name": "stdout",
     "output_type": "stream",
     "text": [
      "Cross-validation scores: [0.9787234  0.96551724 1.         0.97260274 0.9787234 ]\n",
      "Mean Accuracy: 0.9791133579231952\n",
      "Standard Deviation: 0.011522139379081702\n"
     ]
    }
   ],
   "source": [
    "# cv=5 => 5-fold cross-validation\n",
    "scores = cross_val_score(pipeline, X, y, cv=5, scoring='f1')\n",
    "\n",
    "print(\"Cross-validation scores:\", scores)\n",
    "print(\"Mean Accuracy:\", scores.mean())\n",
    "print(\"Standard Deviation:\", scores.std())\n"
   ]
  },
  {
   "cell_type": "code",
   "execution_count": 6,
   "id": "6b927ea9",
   "metadata": {},
   "outputs": [
    {
     "name": "stdout",
     "output_type": "stream",
     "text": [
      "Confusion Matrix:\n",
      " [[203   9]\n",
      " [  6 351]]\n",
      "Classification Report:\n",
      "               precision    recall  f1-score   support\n",
      "\n",
      "   malignant       0.97      0.96      0.96       212\n",
      "      benign       0.97      0.98      0.98       357\n",
      "\n",
      "    accuracy                           0.97       569\n",
      "   macro avg       0.97      0.97      0.97       569\n",
      "weighted avg       0.97      0.97      0.97       569\n",
      "\n"
     ]
    }
   ],
   "source": [
    "# Generate cross-validated estimates for each input data point\n",
    "y_pred_cv = cross_val_predict(pipeline, X, y, cv=5)\n",
    "\n",
    "# Build confusion matrix\n",
    "cm = confusion_matrix(y, y_pred_cv)\n",
    "print(\"Confusion Matrix:\\n\", cm)\n",
    "\n",
    "# Classification Report\n",
    "report = classification_report(y, y_pred_cv, target_names=data.target_names)\n",
    "print(\"Classification Report:\\n\", report)"
   ]
  },
  {
   "cell_type": "code",
   "execution_count": null,
   "id": "af982d87",
   "metadata": {},
   "outputs": [],
   "source": []
  }
 ],
 "metadata": {
  "kernelspec": {
   "display_name": "Python 3 (ipykernel)",
   "language": "python",
   "name": "python3"
  },
  "language_info": {
   "codemirror_mode": {
    "name": "ipython",
    "version": 3
   },
   "file_extension": ".py",
   "mimetype": "text/x-python",
   "name": "python",
   "nbconvert_exporter": "python",
   "pygments_lexer": "ipython3",
   "version": "3.12.7"
  }
 },
 "nbformat": 4,
 "nbformat_minor": 5
}
