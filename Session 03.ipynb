{
 "cells": [
  {
   "cell_type": "markdown",
   "id": "bf11eabd-5118-445f-add7-40a393e97241",
   "metadata": {},
   "source": [
    "### Write a function that takes a tuple of integers and returns a tuple with only the prime numbers. Use a loop and conditional statements to check for prime numbers\n"
   ]
  },
  {
   "cell_type": "code",
   "execution_count": 1,
   "id": "71aeb160-1f7a-4db9-902e-6a04591c8dba",
   "metadata": {
    "scrolled": true
   },
   "outputs": [
    {
     "name": "stdin",
     "output_type": "stream",
     "text": [
      "Enter the number of elements 5\n",
      " 7\n",
      " 6\n",
      " 11\n",
      " 9\n",
      " 31\n"
     ]
    },
    {
     "name": "stdout",
     "output_type": "stream",
     "text": [
      "7 is a prime number\n",
      "11 is a prime number\n",
      "31 is a prime number\n"
     ]
    }
   ],
   "source": [
    "import math\n",
    "is_prime = True\n",
    "numbers = []\n",
    "n = int(input('Enter the number of elements'))\n",
    "\n",
    "for i in range (n):\n",
    "    item = int(input())\n",
    "    numbers.append(item)\n",
    "\n",
    "user_numbers = tuple(numbers)\n",
    "\n",
    "for item in numbers:\n",
    "    is_prime = True\n",
    "    for i in range (2,int(math.sqrt(item))+1):\n",
    "        if(item%i == 0):\n",
    "            is_prime = False\n",
    "            break\n",
    "    if(is_prime):\n",
    "        print(f'{item} is a prime number')\n",
    "    # count = 0\n",
    "    # for i in range(2,item):\n",
    "    #     if (item != i):\n",
    "    #         if(item % i == 0):\n",
    "    #             count+=1\n",
    "    # if(count == 0):\n",
    "    #     print(f'{item} is a prime number')"
   ]
  },
  {
   "cell_type": "markdown",
   "id": "d4f1b466-f206-4867-a7bf-33ff4cda9571",
   "metadata": {},
   "source": [
    "### Write a function that takes a dictionary of student names as keys and their scores as values. The function should:\n",
    "#### - Remove students who scored less than 40.\n",
    "#### - Increase the score of students who scored above 80 by 10%.\n",
    "#### -Return the updated dictionary."
   ]
  },
  {
   "cell_type": "code",
   "execution_count": 43,
   "id": "bd7ebe6f-db70-4d42-82ab-c46e1ac35b01",
   "metadata": {},
   "outputs": [
    {
     "name": "stdout",
     "output_type": "stream",
     "text": [
      "{'Danish': 45, 'Vatsal': 52, 'Mustafa': 50, 'Bobby': 93.5}\n"
     ]
    }
   ],
   "source": [
    "student = {'Danish': 45, 'Parth': 38, 'Aadit': 35, 'Vatsal': 52, 'Mustafa': 50, 'Bobby': 85}\n",
    "students_to_remove = []\n",
    "score_increase = []\n",
    "for item in student:\n",
    "    temp = student.get(item)\n",
    "    if (temp < 40):\n",
    "        students_to_remove.append(item)\n",
    "    if (temp > 80):\n",
    "        temp1 = student.get(item)\n",
    "        temp = (temp1 * 10) / 100\n",
    "        temp = temp1 + temp\n",
    "        student.update({item : temp})\n",
    "    \n",
    "# for item in student:\n",
    "#     temp = student.get(item)\n",
    "#     if (temp > 80):\n",
    "#         score_increase.append(item)\n",
    "\n",
    "# for item in score_increase:\n",
    "#     temp1 = student.get(item)\n",
    "#     temp = (temp1 * 10) / 100\n",
    "#     temp = temp1 + temp\n",
    "#     student.update({item : temp})\n",
    "\n",
    "for item in students_to_remove:\n",
    "    student.pop(item)\n",
    "\n",
    "print(student)\n",
    "    "
   ]
  },
  {
   "cell_type": "markdown",
   "id": "1459b326-12ed-4991-a390-933d3c7cfc49",
   "metadata": {},
   "source": [
    "### Write a function that takes two lists, converts them into sets, and finds the common elements using set intersection. Then, return a sorted list of common elements."
   ]
  },
  {
   "cell_type": "code",
   "execution_count": 66,
   "id": "ffd3e037-eaaa-49d4-8af6-4e49c6ca1297",
   "metadata": {},
   "outputs": [
    {
     "name": "stdin",
     "output_type": "stream",
     "text": [
      "Enter the number of elements 3\n",
      " da\n",
      " va\n",
      " pr\n",
      "Enter the number of elements 3\n",
      " da\n",
      " va\n",
      " pr\n"
     ]
    },
    {
     "name": "stdout",
     "output_type": "stream",
     "text": [
      "['da', 'pr', 'va']\n"
     ]
    }
   ],
   "source": [
    "def common_values(list1, list2):\n",
    "    set1 = set(list1)\n",
    "    set2 = set(list2)\n",
    "    \n",
    "    common_elements = list(set1.intersection(set2))\n",
    "    \n",
    "    # print(common_elements)\n",
    "    common_elements = sorted(common_elements)\n",
    "    # common_elements.sort()\n",
    "    return common_elements\n",
    "\n",
    "list1 = []\n",
    "n = int(input('Enter the number of elements'))\n",
    "    \n",
    "for i in range (n):\n",
    "    item = input()\n",
    "    list1.append(item)\n",
    "    \n",
    "list2 = []\n",
    "n = int(input('Enter the number of elements'))\n",
    "    \n",
    "for i in range (n):\n",
    "    item = input()\n",
    "    list2.append(item)\n",
    "\n",
    "print(common_values(list1, list2))"
   ]
  },
  {
   "cell_type": "markdown",
   "id": "634a75ea-95c5-4712-a3d2-2578d92dfe7c",
   "metadata": {},
   "source": [
    "### Write a function that takes a dictionary where keys are student names and values are their ages. Sort the dictionary by age in ascending order and return a list of tuples containing the sorted key-value pairs."
   ]
  },
  {
   "cell_type": "code",
   "execution_count": 2,
   "id": "a87ca61d-b49d-4ac3-85b8-03841656a4e3",
   "metadata": {},
   "outputs": [
    {
     "name": "stdin",
     "output_type": "stream",
     "text": [
      "Enter the size of the dictionary 3\n",
      "Enter the name of the student 1 danish\n",
      "Enter the age of student 1 21\n",
      "Enter the name of the student 2 prathamesh\n",
      "Enter the age of student 2 19\n",
      "Enter the name of the student 3 parth\n",
      "Enter the age of student 3 23\n"
     ]
    },
    {
     "name": "stdout",
     "output_type": "stream",
     "text": [
      "[('prathamesh', '19'), ('danish', '21'), ('parth', '23')]\n"
     ]
    }
   ],
   "source": [
    "def get_student_age(student):\n",
    "    return student[1]\n",
    "\n",
    "def students(dict1):\n",
    "    dict2 = sorted(dict1.items(), key=get_student_age)\n",
    "    return dict2\n",
    "\n",
    "student_info = {}\n",
    "size = int(input('Enter the size of the dictionary'))\n",
    "\n",
    "for i in range(1, size + 1):\n",
    "    key = input(f'Enter the name of the student {i}')\n",
    "    value = input(f'Enter the age of student {i}')\n",
    "    student_info[key] = value\n",
    "\n",
    "print(students(student_info))"
   ]
  },
  {
   "cell_type": "code",
   "execution_count": 25,
   "id": "3845bf38-905a-48b3-873a-0adbc26d9324",
   "metadata": {},
   "outputs": [
    {
     "name": "stdin",
     "output_type": "stream",
     "text": [
      "Enter the number of words:  7\n",
      "Enter word 1:  ab\n",
      "Enter word 2:  bd\n",
      "Enter word 3:  abc\n",
      "Enter word 4:  abcd\n",
      "Enter word 5:  bcd\n",
      "Enter word 6:  xyz\n",
      "Enter word 7:  pqrst\n"
     ]
    },
    {
     "name": "stdout",
     "output_type": "stream",
     "text": [
      "Length-wise count of words: {2: 2, 3: 3, 4: 1, 5: 1}\n"
     ]
    }
   ],
   "source": [
    "def count_elements_by_length(lst):\n",
    "    length_counts = {}\n",
    "    for item in lst:\n",
    "        length = len(item)\n",
    "        if length in length_counts:\n",
    "            length_counts[length] += 1\n",
    "        else:\n",
    "            length_counts[length] = 1\n",
    "    return length_counts\n",
    "\n",
    "chars = []\n",
    "n = int(input(\"Enter the number of words: \"))\n",
    "\n",
    "for i in range(n):\n",
    "    word = input(f\"Enter word {i+1}: \")\n",
    "    chars.append(word)\n",
    "\n",
    "result = count_elements_by_length(chars)\n",
    "print(\"Count of words:\", result)"
   ]
  },
  {
   "cell_type": "code",
   "execution_count": null,
   "id": "aefdf953-1d4e-4be3-af4c-0f8756cd7a51",
   "metadata": {},
   "outputs": [],
   "source": []
  }
 ],
 "metadata": {
  "kernelspec": {
   "display_name": "Python 3 (ipykernel)",
   "language": "python",
   "name": "python3"
  },
  "language_info": {
   "codemirror_mode": {
    "name": "ipython",
    "version": 3
   },
   "file_extension": ".py",
   "mimetype": "text/x-python",
   "name": "python",
   "nbconvert_exporter": "python",
   "pygments_lexer": "ipython3",
   "version": "3.12.7"
  }
 },
 "nbformat": 4,
 "nbformat_minor": 5
}
