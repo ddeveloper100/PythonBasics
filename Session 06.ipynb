{
 "cells": [
  {
   "cell_type": "code",
   "execution_count": 2,
   "id": "50939809-902f-470c-b70a-a76751d4b66e",
   "metadata": {},
   "outputs": [
    {
     "name": "stdin",
     "output_type": "stream",
     "text": [
      "Enter the first number 10\n",
      "Enter the second number 0\n"
     ]
    },
    {
     "ename": "ZeroDivisionError",
     "evalue": "division by zero",
     "output_type": "error",
     "traceback": [
      "\u001b[1;31m---------------------------------------------------------------------------\u001b[0m",
      "\u001b[1;31mZeroDivisionError\u001b[0m                         Traceback (most recent call last)",
      "Cell \u001b[1;32mIn[2], line 4\u001b[0m\n\u001b[0;32m      1\u001b[0m a \u001b[38;5;241m=\u001b[39m \u001b[38;5;28mint\u001b[39m(\u001b[38;5;28minput\u001b[39m(\u001b[38;5;124m'\u001b[39m\u001b[38;5;124mEnter the first number\u001b[39m\u001b[38;5;124m'\u001b[39m))\n\u001b[0;32m      2\u001b[0m b \u001b[38;5;241m=\u001b[39m \u001b[38;5;28mint\u001b[39m(\u001b[38;5;28minput\u001b[39m(\u001b[38;5;124m'\u001b[39m\u001b[38;5;124mEnter the second number\u001b[39m\u001b[38;5;124m'\u001b[39m))\n\u001b[1;32m----> 4\u001b[0m result \u001b[38;5;241m=\u001b[39m a \u001b[38;5;241m/\u001b[39m b\n\u001b[0;32m      5\u001b[0m \u001b[38;5;28mprint\u001b[39m(result)\n",
      "\u001b[1;31mZeroDivisionError\u001b[0m: division by zero"
     ]
    }
   ],
   "source": [
    "a = int(input('Enter the first number'))\n",
    "b = int(input('Enter the second number'))\n",
    "\n",
    "result = a / b\n",
    "print(result)"
   ]
  },
  {
   "cell_type": "code",
   "execution_count": 5,
   "id": "85daf415-ace5-45cb-b826-abd6bf12f58a",
   "metadata": {},
   "outputs": [
    {
     "name": "stdin",
     "output_type": "stream",
     "text": [
      "Enter the first number 10\n",
      "Enter the second number 0\n"
     ]
    },
    {
     "name": "stdout",
     "output_type": "stream",
     "text": [
      "Number cannot be divided by zero\n"
     ]
    }
   ],
   "source": [
    "try:\n",
    "    a = int(input('Enter the first number'))\n",
    "    b = int(input('Enter the second number'))\n",
    "    \n",
    "    result = a / b\n",
    "    print(result)\n",
    "except ZeroDivisionError:\n",
    "    print('Number cannot be divided by zero')"
   ]
  },
  {
   "cell_type": "code",
   "execution_count": 8,
   "id": "dcd5590d-196c-4265-817b-1c3174098cc1",
   "metadata": {},
   "outputs": [
    {
     "name": "stdin",
     "output_type": "stream",
     "text": [
      " 5\n"
     ]
    },
    {
     "name": "stdout",
     "output_type": "stream",
     "text": [
      "Exception User age should not be less than 18\n"
     ]
    }
   ],
   "source": [
    "def checkuserage(age):\n",
    "    if (age > 18):\n",
    "        print('Valid age')\n",
    "    else:\n",
    "        raise ValueError('User age should not be less than 18')\n",
    "\n",
    "try:\n",
    "    age = int(input())\n",
    "    checkuserage(age)\n",
    "except ValueError as e:\n",
    "    print(f'Exception {e}')"
   ]
  },
  {
   "cell_type": "code",
   "execution_count": 28,
   "id": "fa006bfa-2f8e-4d67-96e0-387ddb910123",
   "metadata": {},
   "outputs": [
    {
     "name": "stdin",
     "output_type": "stream",
     "text": [
      " 5\n"
     ]
    },
    {
     "name": "stdout",
     "output_type": "stream",
     "text": [
      "Exception: User age should not be less than 18\n"
     ]
    }
   ],
   "source": [
    "def checkuserage(age):\n",
    "    if (age > 18):\n",
    "        print('Valid age')\n",
    "    else:\n",
    "        raise ValueError('User age should not be less than 18')\n",
    "try:\n",
    "    age = int(input())\n",
    "    checkuserage(age)\n",
    "except ValueError as e:\n",
    "    print(f'Exception: {e}')\n",
    "except Exception as e:\n",
    "    print(f'Exception {e}')"
   ]
  },
  {
   "cell_type": "code",
   "execution_count": 11,
   "id": "932ef476-b9e9-4bb8-b0af-e1341ddf2dfd",
   "metadata": {},
   "outputs": [
    {
     "ename": "FileNotFoundError",
     "evalue": "[Errno 2] No such file or directory: 'testfile.txt'",
     "output_type": "error",
     "traceback": [
      "\u001b[1;31m---------------------------------------------------------------------------\u001b[0m",
      "\u001b[1;31mFileNotFoundError\u001b[0m                         Traceback (most recent call last)",
      "Cell \u001b[1;32mIn[11], line 1\u001b[0m\n\u001b[1;32m----> 1\u001b[0m f1 \u001b[38;5;241m=\u001b[39m \u001b[38;5;28mopen\u001b[39m(\u001b[38;5;124m'\u001b[39m\u001b[38;5;124mtestfile.txt\u001b[39m\u001b[38;5;124m'\u001b[39m, \u001b[38;5;124m'\u001b[39m\u001b[38;5;124mr\u001b[39m\u001b[38;5;124m'\u001b[39m)\n\u001b[0;32m      2\u001b[0m f1\u001b[38;5;241m.\u001b[39mread()\n",
      "File \u001b[1;32m~\\AppData\\Local\\anaconda3\\Lib\\site-packages\\IPython\\core\\interactiveshell.py:324\u001b[0m, in \u001b[0;36m_modified_open\u001b[1;34m(file, *args, **kwargs)\u001b[0m\n\u001b[0;32m    317\u001b[0m \u001b[38;5;28;01mif\u001b[39;00m file \u001b[38;5;129;01min\u001b[39;00m {\u001b[38;5;241m0\u001b[39m, \u001b[38;5;241m1\u001b[39m, \u001b[38;5;241m2\u001b[39m}:\n\u001b[0;32m    318\u001b[0m     \u001b[38;5;28;01mraise\u001b[39;00m \u001b[38;5;167;01mValueError\u001b[39;00m(\n\u001b[0;32m    319\u001b[0m         \u001b[38;5;124mf\u001b[39m\u001b[38;5;124m\"\u001b[39m\u001b[38;5;124mIPython won\u001b[39m\u001b[38;5;124m'\u001b[39m\u001b[38;5;124mt let you open fd=\u001b[39m\u001b[38;5;132;01m{\u001b[39;00mfile\u001b[38;5;132;01m}\u001b[39;00m\u001b[38;5;124m by default \u001b[39m\u001b[38;5;124m\"\u001b[39m\n\u001b[0;32m    320\u001b[0m         \u001b[38;5;124m\"\u001b[39m\u001b[38;5;124mas it is likely to crash IPython. If you know what you are doing, \u001b[39m\u001b[38;5;124m\"\u001b[39m\n\u001b[0;32m    321\u001b[0m         \u001b[38;5;124m\"\u001b[39m\u001b[38;5;124myou can use builtins\u001b[39m\u001b[38;5;124m'\u001b[39m\u001b[38;5;124m open.\u001b[39m\u001b[38;5;124m\"\u001b[39m\n\u001b[0;32m    322\u001b[0m     )\n\u001b[1;32m--> 324\u001b[0m \u001b[38;5;28;01mreturn\u001b[39;00m io_open(file, \u001b[38;5;241m*\u001b[39margs, \u001b[38;5;241m*\u001b[39m\u001b[38;5;241m*\u001b[39mkwargs)\n",
      "\u001b[1;31mFileNotFoundError\u001b[0m: [Errno 2] No such file or directory: 'testfile.txt'"
     ]
    }
   ],
   "source": [
    "f1 = open('testfile.txt', 'r')\n",
    "f1.read()"
   ]
  },
  {
   "cell_type": "code",
   "execution_count": 14,
   "id": "7fb2c9a3-8acb-4cc8-ab84-14659af6b3c9",
   "metadata": {},
   "outputs": [
    {
     "name": "stdout",
     "output_type": "stream",
     "text": [
      "NO such file or directory\n"
     ]
    }
   ],
   "source": [
    "try:\n",
    "    f1 = open('testfile.txt', 'r')\n",
    "    f1.read()\n",
    "except FileNotFoundError:\n",
    "    print('NO such file or directory')"
   ]
  },
  {
   "cell_type": "code",
   "execution_count": 15,
   "id": "e69edcb5-7958-4cd7-9b46-01aa787043cf",
   "metadata": {},
   "outputs": [
    {
     "ename": "IndexError",
     "evalue": "list index out of range",
     "output_type": "error",
     "traceback": [
      "\u001b[1;31m---------------------------------------------------------------------------\u001b[0m",
      "\u001b[1;31mIndexError\u001b[0m                                Traceback (most recent call last)",
      "Cell \u001b[1;32mIn[15], line 2\u001b[0m\n\u001b[0;32m      1\u001b[0m names \u001b[38;5;241m=\u001b[39m [\u001b[38;5;124m'\u001b[39m\u001b[38;5;124majay\u001b[39m\u001b[38;5;124m'\u001b[39m, \u001b[38;5;124m'\u001b[39m\u001b[38;5;124manil\u001b[39m\u001b[38;5;124m'\u001b[39m, \u001b[38;5;124m'\u001b[39m\u001b[38;5;124makshay\u001b[39m\u001b[38;5;124m'\u001b[39m]\n\u001b[1;32m----> 2\u001b[0m \u001b[38;5;28mprint\u001b[39m(names[\u001b[38;5;241m5\u001b[39m])\n",
      "\u001b[1;31mIndexError\u001b[0m: list index out of range"
     ]
    }
   ],
   "source": [
    "names = ['ajay', 'anil', 'akshay']\n",
    "print(names[5])"
   ]
  },
  {
   "cell_type": "code",
   "execution_count": 16,
   "id": "6d20ceb0-5a56-4a4e-bbc2-a9a66b5d7cb2",
   "metadata": {},
   "outputs": [
    {
     "name": "stdout",
     "output_type": "stream",
     "text": [
      "Index should be less than the size of the list - 1\n"
     ]
    }
   ],
   "source": [
    "try:\n",
    "    names = ['ajay', 'anil', 'akshay']\n",
    "    print(names[5])\n",
    "except IndexError:\n",
    "    print('Index should be less than the size of the list - 1')"
   ]
  },
  {
   "cell_type": "code",
   "execution_count": 19,
   "id": "ec864750-cd43-4f31-acb6-f2cd5f533545",
   "metadata": {},
   "outputs": [
    {
     "name": "stdout",
     "output_type": "stream",
     "text": [
      "File closed\n"
     ]
    }
   ],
   "source": [
    "try:\n",
    "    f1 = open('test1.txt', 'r')\n",
    "    f1.read()\n",
    "except FileNotFoundError:\n",
    "    print('No such file and directory')\n",
    "else:\n",
    "    f1.close()\n",
    "    print('File closed')"
   ]
  },
  {
   "cell_type": "code",
   "execution_count": 20,
   "id": "01909d84-d1e7-4461-82ca-4515ba341864",
   "metadata": {},
   "outputs": [
    {
     "name": "stdout",
     "output_type": "stream",
     "text": [
      "No such file and directory\n"
     ]
    }
   ],
   "source": [
    "try:\n",
    "    f1 = open('testfile.txt', 'r')\n",
    "    f1.read()\n",
    "except FileNotFoundError:\n",
    "    print('No such file and directory')\n",
    "else:\n",
    "    f1.close()\n",
    "    print('File closed')"
   ]
  },
  {
   "cell_type": "code",
   "execution_count": 22,
   "id": "d0f5ab3d-1547-43d0-9a1a-5e557f56a768",
   "metadata": {},
   "outputs": [
    {
     "name": "stdout",
     "output_type": "stream",
     "text": [
      "No such file and directory\n",
      "File closed\n"
     ]
    }
   ],
   "source": [
    "try:\n",
    "    f1 = open('testfile.txt', 'r')\n",
    "    f1.read()\n",
    "except FileNotFoundError:\n",
    "    print('No such file and directory')\n",
    "finally:\n",
    "    f1.close()\n",
    "    print('File closed')"
   ]
  },
  {
   "cell_type": "code",
   "execution_count": 23,
   "id": "13a3142e-d7dd-465e-915e-64b5935751a6",
   "metadata": {},
   "outputs": [
    {
     "name": "stdout",
     "output_type": "stream",
     "text": [
      "File closed\n"
     ]
    }
   ],
   "source": [
    "try:\n",
    "    f1 = open('test1.txt', 'r')\n",
    "    f1.read()\n",
    "except FileNotFoundError:\n",
    "    print('No such file and directory')\n",
    "finally:\n",
    "    f1.close()\n",
    "    print('File closed')"
   ]
  },
  {
   "cell_type": "code",
   "execution_count": 36,
   "id": "af7ee84b-8714-4ee5-87fa-a3531c913fcc",
   "metadata": {},
   "outputs": [
    {
     "name": "stdin",
     "output_type": "stream",
     "text": [
      " 5\n"
     ]
    },
    {
     "name": "stdout",
     "output_type": "stream",
     "text": [
      "Exception: 5 is Invalid Age\n"
     ]
    }
   ],
   "source": [
    "class InvalidAgeException(Exception):\n",
    "    def __init__(self, age, message):\n",
    "        self.age = age\n",
    "        self.message = message\n",
    "        super().__init__(f'{message}')\n",
    "\n",
    "def checkuserage(age):\n",
    "    if (age > 18):\n",
    "        print('Valid age')\n",
    "    else:\n",
    "        raise InvalidAgeException(age, 'Invalid Age')\n",
    "\n",
    "try:\n",
    "    age = int(input())\n",
    "    checkuserage(age)\n",
    "except InvalidAgeException as e:\n",
    "    print(f'Exception: {e.age} is {e.message}')"
   ]
  },
  {
   "cell_type": "markdown",
   "id": "b9038a64-e726-4b5a-896c-1786cc5a7904",
   "metadata": {},
   "source": [
    "#### You need to implement a Bank Account Management System using functions, where users can:\n",
    "#### -Deposit Money (Only positive amounts).\n",
    "#### -Withdraw Money (Cannot withdraw more than balance or negative amounts).\n",
    "#### -Check Balance.\n",
    "#### -Handle Exceptions Properly."
   ]
  },
  {
   "cell_type": "code",
   "execution_count": 43,
   "id": "f6424be6-bb32-4161-871c-e55e7e0290f1",
   "metadata": {},
   "outputs": [
    {
     "name": "stdout",
     "output_type": "stream",
     "text": [
      "You now have 500 in your account\n",
      "Exception: Wrong input: 600. Amount should not be more the the remaining balance or should not be negative\n"
     ]
    }
   ],
   "source": [
    "class InvalidAmountException(Exception):\n",
    "    def __init__(self, amount, message):\n",
    "        self.amount = amount\n",
    "        self.message = message\n",
    "        super().__init__(f'{message}')\n",
    "\n",
    "class InsufficientBalanceException(Exception):\n",
    "    def __init__(self, amount, message):\n",
    "        self.amount = amount\n",
    "        self.message = message\n",
    "        super().__init__(f'{message}')\n",
    "        \n",
    "remaining_amount = 0\n",
    "\n",
    "def DepositMoney(amount):\n",
    "    global remaining_amount\n",
    "    if (amount > 0):\n",
    "        remaining_amount = remaining_amount + amount\n",
    "        print(f'You now have {remaining_amount} in your account')\n",
    "    else:\n",
    "        raise InvalidAmountException(amount, 'Amount should always be positive')\n",
    "\n",
    "def WithdrawMoney(amount):\n",
    "    global remaining_amount\n",
    "    if (amount < remaining_amount and amount > 0):\n",
    "        remaining_amount = remaining_amount - amount\n",
    "        print(f'You now have {remaining_amount} in your account')\n",
    "    else:\n",
    "        raise InsufficientBalanceException(amount, 'Amount should not be more the the remaining balance or should not be negative')\n",
    "\n",
    "try:\n",
    "    DepositMoney(500)\n",
    "    WithdrawMoney(600)\n",
    "except InvalidAmountException as e:\n",
    "    print(f'Exception: Wrong input: {e.amount}. {e.message}')\n",
    "except InsufficientBalanceException as e:\n",
    "    print(f'Exception: Wrong input: {e.amount}. {e.message}')"
   ]
  },
  {
   "cell_type": "markdown",
   "id": "53489296-4bdb-4bf3-9ed9-0c10ee4fc5d3",
   "metadata": {},
   "source": [
    "## Classes and Objects"
   ]
  },
  {
   "cell_type": "code",
   "execution_count": 44,
   "id": "2d92c665-6a3c-4ec8-b8b3-63051ac958b2",
   "metadata": {},
   "outputs": [
    {
     "name": "stdout",
     "output_type": "stream",
     "text": [
      "length = 10\n",
      "breadth = 20\n",
      "length = 50\n",
      "breadth = 100\n"
     ]
    }
   ],
   "source": [
    "class Rectangle:\n",
    "    def __init__(self, length, breadth):\n",
    "        self.length = length\n",
    "        self.breadth = breadth\n",
    "    def display(self):\n",
    "        print(f'length = {self.length}')\n",
    "        print(f'breadth = {self.breadth}')\n",
    "\n",
    "rectangle = Rectangle(10,20)\n",
    "rectangle.display()\n",
    "\n",
    "rectangle2 = Rectangle(50, 100)\n",
    "rectangle2.display()"
   ]
  },
  {
   "cell_type": "code",
   "execution_count": 48,
   "id": "4f4fd78d-1588-42bf-a3e2-b27f78040ba6",
   "metadata": {},
   "outputs": [
    {
     "ename": "AttributeError",
     "evalue": "'Rectangle' object has no attribute '__length'",
     "output_type": "error",
     "traceback": [
      "\u001b[1;31m---------------------------------------------------------------------------\u001b[0m",
      "\u001b[1;31mAttributeError\u001b[0m                            Traceback (most recent call last)",
      "Cell \u001b[1;32mIn[48], line 10\u001b[0m\n\u001b[0;32m      5\u001b[0m     \u001b[38;5;66;03m# def display(self):\u001b[39;00m\n\u001b[0;32m      6\u001b[0m     \u001b[38;5;66;03m#     print(f'length = {self.__length}')\u001b[39;00m\n\u001b[0;32m      7\u001b[0m     \u001b[38;5;66;03m#     print(f'breadth = {self.__breadth}')\u001b[39;00m\n\u001b[0;32m      9\u001b[0m rectangle \u001b[38;5;241m=\u001b[39m Rectangle(\u001b[38;5;241m10\u001b[39m,\u001b[38;5;241m20\u001b[39m)\n\u001b[1;32m---> 10\u001b[0m \u001b[38;5;28mprint\u001b[39m(rectangle\u001b[38;5;241m.\u001b[39m__length)\n\u001b[0;32m     11\u001b[0m \u001b[38;5;28mprint\u001b[39m(rectangle\u001b[38;5;241m.\u001b[39m__breadth)\n\u001b[0;32m     12\u001b[0m \u001b[38;5;66;03m# rectangle.display()\u001b[39;00m\n",
      "\u001b[1;31mAttributeError\u001b[0m: 'Rectangle' object has no attribute '__length'"
     ]
    }
   ],
   "source": [
    "class Rectangle:\n",
    "    def __init__(self, length, breadth):\n",
    "        self.__length = length\n",
    "        self.__breadth = breadth\n",
    "    # def display(self):\n",
    "    #     print(f'length = {self.__length}')\n",
    "    #     print(f'breadth = {self.__breadth}')\n",
    "\n",
    "rectangle = Rectangle(10,20)\n",
    "print(rectangle.__length)\n",
    "print(rectangle.__breadth)\n",
    "# rectangle.display()\n",
    "\n",
    "rectangle2 = Rectangle(50, 100)\n",
    "# rectangle2.display()"
   ]
  },
  {
   "cell_type": "markdown",
   "id": "b73ecd95-bf15-452c-8dda-fdcb815c0f09",
   "metadata": {},
   "source": [
    "## Encapsulation"
   ]
  },
  {
   "cell_type": "code",
   "execution_count": 52,
   "id": "e794e5bd-9c9b-4ecf-9749-466d747b03c5",
   "metadata": {},
   "outputs": [
    {
     "name": "stdout",
     "output_type": "stream",
     "text": [
      "10\n",
      "30\n"
     ]
    }
   ],
   "source": [
    "class Rectangle:\n",
    "    def __init__(self, length, breadth):\n",
    "        self.__length = length\n",
    "        self.__breadth = breadth\n",
    "    def get_length(self):\n",
    "        return self.__length\n",
    "    def get_breadth(self):\n",
    "        return self.__breadth\n",
    "    def set_length(self, length):\n",
    "        self.__length = length\n",
    "\n",
    "rectobj = Rectangle(10, 20)\n",
    "print(rectobj.get_length())\n",
    "rectobj.set_length(30)\n",
    "print(rectobj.get_length())"
   ]
  },
  {
   "cell_type": "markdown",
   "id": "af83df00-5e56-4a81-9f1c-a4bf6212dd67",
   "metadata": {},
   "source": [
    "## Inheritance"
   ]
  },
  {
   "cell_type": "code",
   "execution_count": 53,
   "id": "197d4e89-fd79-437f-a826-fa751eccb048",
   "metadata": {},
   "outputs": [
    {
     "name": "stdout",
     "output_type": "stream",
     "text": [
      "Rocky\n"
     ]
    }
   ],
   "source": [
    "class Animal:\n",
    "    def __init__(self, name):\n",
    "        self.name = name\n",
    "class Tiger(Animal):\n",
    "    def __init__(self, name):\n",
    "        super().__init__(name)\n",
    "    def show_name(self):\n",
    "        print(self.name)\n",
    "\n",
    "tiger = Tiger('Rocky')\n",
    "tiger.show_name()"
   ]
  },
  {
   "cell_type": "markdown",
   "id": "5fdec9ff-bbe3-4f39-bedb-2e930a713d7d",
   "metadata": {},
   "source": [
    "## Function Overloading (Function with Same name different parameters)"
   ]
  },
  {
   "cell_type": "code",
   "execution_count": 60,
   "id": "0e6e4ec5-7733-494c-a41a-79213fdfb15c",
   "metadata": {},
   "outputs": [
    {
     "name": "stdout",
     "output_type": "stream",
     "text": [
      "Requirement already satisfied: multipledispatch in c:\\users\\danisha.ansari\\appdata\\local\\anaconda3\\lib\\site-packages (0.6.0)\n",
      "Requirement already satisfied: six in c:\\users\\danisha.ansari\\appdata\\local\\anaconda3\\lib\\site-packages (from multipledispatch) (1.16.0)\n",
      "Note: you may need to restart the kernel to use updated packages.\n"
     ]
    }
   ],
   "source": [
    "pip install multipledispatch"
   ]
  },
  {
   "cell_type": "code",
   "execution_count": 1,
   "id": "2081ff65-b20d-4bed-8ba2-6f02328f767e",
   "metadata": {},
   "outputs": [
    {
     "name": "stdout",
     "output_type": "stream",
     "text": [
      "7\n",
      "12\n"
     ]
    }
   ],
   "source": [
    "from multipledispatch import dispatch\n",
    "\n",
    "@dispatch(int, int)\n",
    "def add_number(number1, number2):\n",
    "    return number1 + number2\n",
    "\n",
    "@dispatch(int, int, int)\n",
    "def add_number(number1, number2, number3):\n",
    "    return number1 + number2 + number3\n",
    "\n",
    "\n",
    "print(add_number(2, 5))\n",
    "print(add_number(2, 5, 5))"
   ]
  },
  {
   "cell_type": "code",
   "execution_count": 2,
   "id": "db1cf9cc-a590-4d7f-b500-69ebbf32f650",
   "metadata": {},
   "outputs": [
    {
     "name": "stdout",
     "output_type": "stream",
     "text": [
      "7\n",
      "12\n"
     ]
    }
   ],
   "source": [
    "from multipledispatch import dispatch\n",
    "\n",
    "class addition:\n",
    "    @dispatch(int, int)\n",
    "    def add_number(number1, number2):\n",
    "        return number1 + number2\n",
    "    \n",
    "    @dispatch(int, int, int)\n",
    "    def add_number(number1, number2, number3):\n",
    "        return number1 + number2 + number3\n",
    "\n",
    "obj = addition()\n",
    "print(obj.add_number(2, 5))\n",
    "print(obj.add_number(2, 5, 5))"
   ]
  },
  {
   "cell_type": "markdown",
   "id": "87ecdbe9-1bf4-4234-89fa-075776ee3995",
   "metadata": {},
   "source": [
    "## Function Overriding"
   ]
  },
  {
   "cell_type": "code",
   "execution_count": 2,
   "id": "69649e76-e798-411b-8de9-88f3ddb753ef",
   "metadata": {},
   "outputs": [
    {
     "name": "stdout",
     "output_type": "stream",
     "text": [
      "vooosh\n"
     ]
    }
   ],
   "source": [
    "class Vehicle:\n",
    "    def make_noise(self):\n",
    "        print('vrooom')\n",
    "class Car(Vehicle):\n",
    "    def make_noise(self):\n",
    "        print('vooosh')\n",
    "\n",
    "car = Car()\n",
    "car.make_noise()"
   ]
  },
  {
   "cell_type": "code",
   "execution_count": 26,
   "id": "f2ba1feb-f461-45f8-87c8-bd12cd6db039",
   "metadata": {},
   "outputs": [
    {
     "name": "stdout",
     "output_type": "stream",
     "text": [
      "10000\n",
      "amount has been deposited\n",
      "Exception: Wrong input: 20000. Amount should not be more the the remaining balance or should not be negative\n"
     ]
    }
   ],
   "source": [
    "class InvalidAmountException(Exception):\n",
    "    def __init__(self, amount, message):\n",
    "        self.amount = amount\n",
    "        self.message = message\n",
    "        super().__init__(f'{message}')\n",
    "\n",
    "class InsufficientBalanceException(Exception):\n",
    "    def __init__(self, amount, message):\n",
    "        self.amount = amount\n",
    "        self.message = message\n",
    "        super().__init__(f'{message}')\n",
    "\n",
    "class Account:\n",
    "    def __init__(self, acc_number, acc_holdername, acc_balance):\n",
    "        self.__acc_number = acc_number\n",
    "        self.__acc_holdername = acc_holdername\n",
    "        self.__acc_balance = acc_balance\n",
    "\n",
    "    def getBalance(self):\n",
    "        print(self.__acc_balance)\n",
    "    def deposit(self, amount):\n",
    "        if (amount > 0):\n",
    "            self.__acc_balance = self.__acc_balance + amount\n",
    "            print('amount has been deposited')\n",
    "        else:\n",
    "            raise InvalidAmountException(amount, 'Amount should always be positive')\n",
    "\n",
    "    def withdraw(self, amount):\n",
    "        if (amount < self.__acc_balance and amount > 0):\n",
    "            self.__acc_balance = self.__acc_balance - amount\n",
    "            print('amount has been withdrawn')\n",
    "        else:\n",
    "            raise InsufficientBalanceException(amount, 'Amount should not be more the the remaining balance or should not be negative')\n",
    "    \n",
    "    def printDetails(self):\n",
    "        print(self.__acc_number)\n",
    "        print(self.__acc_holdername)\n",
    "        print(self.__acc_balance)\n",
    "\n",
    "account = Account(12345, 'Jayesh', 10000)\n",
    "try:\n",
    "    account.getBalance()\n",
    "    account.deposit(500)\n",
    "    account.withdraw(20000)\n",
    "    account.printDetails()\n",
    "except InvalidAmountException as e:\n",
    "    print(f'Exception: Wrong input: {e.amount}. {e.message}')\n",
    "except InsufficientBalanceException as e:\n",
    "    print(f'Exception: Wrong input: {e.amount}. {e.message}')"
   ]
  },
  {
   "cell_type": "code",
   "execution_count": null,
   "id": "389f841c-a79f-4586-b1c5-4a8eb8de59c2",
   "metadata": {},
   "outputs": [],
   "source": []
  }
 ],
 "metadata": {
  "kernelspec": {
   "display_name": "Python 3 (ipykernel)",
   "language": "python",
   "name": "python3"
  },
  "language_info": {
   "codemirror_mode": {
    "name": "ipython",
    "version": 3
   },
   "file_extension": ".py",
   "mimetype": "text/x-python",
   "name": "python",
   "nbconvert_exporter": "python",
   "pygments_lexer": "ipython3",
   "version": "3.12.7"
  }
 },
 "nbformat": 4,
 "nbformat_minor": 5
}
