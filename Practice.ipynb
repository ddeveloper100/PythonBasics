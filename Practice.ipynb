{
 "cells": [
  {
   "cell_type": "code",
   "execution_count": 1,
   "id": "bfda7f36-b9d0-466d-add8-864cfd8ca6bd",
   "metadata": {},
   "outputs": [],
   "source": [
    "fruits = ('Apple', 'Banana', 'apple', 'Mango')"
   ]
  },
  {
   "cell_type": "code",
   "execution_count": 2,
   "id": "d7e924b2-1783-461f-b4d3-eef662e8d8bb",
   "metadata": {},
   "outputs": [
    {
     "name": "stdout",
     "output_type": "stream",
     "text": [
      "('Apple', 'Banana', 'apple', 'Mango')\n"
     ]
    }
   ],
   "source": [
    "print(fruits)"
   ]
  },
  {
   "cell_type": "code",
   "execution_count": 3,
   "id": "6d348dbe-23b4-4824-bead-1d868e4482a5",
   "metadata": {},
   "outputs": [],
   "source": [
    "list_fruits = (list(fruits))"
   ]
  },
  {
   "cell_type": "code",
   "execution_count": 4,
   "id": "00ab3d07-0b3a-41a2-b545-bb9f38f6c1d3",
   "metadata": {},
   "outputs": [
    {
     "name": "stdout",
     "output_type": "stream",
     "text": [
      "['Apple', 'Banana', 'apple', 'Mango']\n"
     ]
    }
   ],
   "source": [
    "print(list_fruits)"
   ]
  },
  {
   "cell_type": "code",
   "execution_count": 5,
   "id": "7d643424-599a-4f5d-bd48-33460bcac5b7",
   "metadata": {},
   "outputs": [
    {
     "data": {
      "text/plain": [
       "'Banana'"
      ]
     },
     "execution_count": 5,
     "metadata": {},
     "output_type": "execute_result"
    }
   ],
   "source": [
    "list_fruits.pop(1)"
   ]
  },
  {
   "cell_type": "code",
   "execution_count": 11,
   "id": "2de7480b-f774-4835-a9d3-eca931627075",
   "metadata": {},
   "outputs": [
    {
     "ename": "TypeError",
     "evalue": "'str' object cannot be interpreted as an integer",
     "output_type": "error",
     "traceback": [
      "\u001b[1;31m---------------------------------------------------------------------------\u001b[0m",
      "\u001b[1;31mTypeError\u001b[0m                                 Traceback (most recent call last)",
      "Cell \u001b[1;32mIn[11], line 1\u001b[0m\n\u001b[1;32m----> 1\u001b[0m list_fruits\u001b[38;5;241m.\u001b[39mpop(\u001b[38;5;124m'\u001b[39m\u001b[38;5;124mMango\u001b[39m\u001b[38;5;124m'\u001b[39m)\n",
      "\u001b[1;31mTypeError\u001b[0m: 'str' object cannot be interpreted as an integer"
     ]
    }
   ],
   "source": [
    "list_fruits.pop('Mango')"
   ]
  },
  {
   "cell_type": "code",
   "execution_count": 6,
   "id": "a642dbd2-dd84-4709-93fb-4d27f694f2f9",
   "metadata": {},
   "outputs": [
    {
     "name": "stdout",
     "output_type": "stream",
     "text": [
      "['Apple', 'apple', 'Mango']\n"
     ]
    }
   ],
   "source": [
    "print(list_fruits)"
   ]
  },
  {
   "cell_type": "code",
   "execution_count": 7,
   "id": "7f3f9ea8-d8f7-4b05-8501-2d3a8a8e6386",
   "metadata": {},
   "outputs": [],
   "source": [
    "fruits = (tuple(list_fruits))"
   ]
  },
  {
   "cell_type": "code",
   "execution_count": 8,
   "id": "300b7d68-6601-4cf8-9996-90c537cece69",
   "metadata": {},
   "outputs": [
    {
     "name": "stdout",
     "output_type": "stream",
     "text": [
      "('Apple', 'apple', 'Mango')\n"
     ]
    }
   ],
   "source": [
    "print(fruits)"
   ]
  },
  {
   "cell_type": "code",
   "execution_count": null,
   "id": "2bd95f0e-055c-4fc4-8a10-3e8c7ec536e3",
   "metadata": {},
   "outputs": [],
   "source": []
  }
 ],
 "metadata": {
  "kernelspec": {
   "display_name": "Python 3 (ipykernel)",
   "language": "python",
   "name": "python3"
  },
  "language_info": {
   "codemirror_mode": {
    "name": "ipython",
    "version": 3
   },
   "file_extension": ".py",
   "mimetype": "text/x-python",
   "name": "python",
   "nbconvert_exporter": "python",
   "pygments_lexer": "ipython3",
   "version": "3.12.7"
  }
 },
 "nbformat": 4,
 "nbformat_minor": 5
}
