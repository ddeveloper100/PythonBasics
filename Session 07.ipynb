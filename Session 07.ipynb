{
 "cells": [
  {
   "cell_type": "markdown",
   "id": "74fba269-f210-45bc-b739-c0409aef1371",
   "metadata": {},
   "source": [
    "#### Task 3: OOP - Classes and Inheritance\n",
    "#### Write a Python program that:\n",
    "#### - Defines a class Person with attributes for name and age, and a method greet() that prints a greeting with the person's name.\n",
    "#### - Defines a subclass Employee that inherits from Person, adds an additional attribute employee_id, and overrides the greet() method to include the employee ID in the greeting.\n",
    "#### - Create objects of both Person and Employee and call their respective greet() methods."
   ]
  },
  {
   "cell_type": "code",
   "execution_count": 8,
   "id": "e6f6ccb6-6cb0-4767-bc43-d9d9037e2cab",
   "metadata": {},
   "outputs": [
    {
     "name": "stdin",
     "output_type": "stream",
     "text": [
      "Write your name danish\n",
      "Write your age 21\n"
     ]
    },
    {
     "name": "stdout",
     "output_type": "stream",
     "text": [
      "Hello danish\n"
     ]
    }
   ],
   "source": [
    "class Person:\n",
    "    def __init__(self, name, age):\n",
    "        self.name = name\n",
    "        self.age = age\n",
    "    def greet(self):\n",
    "        print(f'Hello {self.name}')\n",
    "        \n",
    "name = input('Write your name')\n",
    "age = int(input('Write your age'))\n",
    "person = Person(name, age)\n",
    "\n",
    "person.greet()"
   ]
  },
  {
   "cell_type": "code",
   "execution_count": 7,
   "id": "c5cf4ee5-c951-4456-aca9-94c3a4bb4513",
   "metadata": {},
   "outputs": [
    {
     "name": "stdout",
     "output_type": "stream",
     "text": [
      "Hello danish\n",
      "Hello parth: 12345\n",
      "Starts Walking\n"
     ]
    }
   ],
   "source": [
    "class Person:\n",
    "    def __init__(self, name, age):\n",
    "        self.name = name\n",
    "        self.age = age\n",
    "    def greet(self):\n",
    "        print(f'Hello {self.name}')\n",
    "    def walking(self):\n",
    "        print('Starts Walking')\n",
    "\n",
    "class Employee(Person):\n",
    "    def __init__(self, name, age, employee_id):\n",
    "        self.employee_id = employee_id\n",
    "        super().__init__(name, age)\n",
    "    \n",
    "    def greet(self):\n",
    "        print(f'Hello {self.name}: {self.employee_id}')\n",
    "        \n",
    "person = Person('danish', 21)\n",
    "employee = Employee('parth', 20, 12345)\n",
    "\n",
    "person.greet()\n",
    "employee.greet()\n",
    "employee.walking()"
   ]
  },
  {
   "cell_type": "code",
   "execution_count": 25,
   "id": "3eba2e5e-8819-444d-95a2-ddb23735f4ef",
   "metadata": {},
   "outputs": [
    {
     "name": "stdout",
     "output_type": "stream",
     "text": [
      "Hello danish\n",
      "Hello parth: 12345\n"
     ]
    }
   ],
   "source": [
    "class Person:\n",
    "    def __init__(self, name, age):\n",
    "        self.name = name\n",
    "        self.age = age\n",
    "    def greet(self):\n",
    "        print(f'Hello {self.name}')\n",
    "\n",
    "class Employee(Person):\n",
    "    def __init__(self, name, age, employee_id):\n",
    "        self.employee_id = employee_id\n",
    "        super().__init__(name, age)\n",
    "    \n",
    "    def greet(self):\n",
    "        print(f'Hello {self.name}: {self.employee_id}')\n",
    "        \n",
    "person = Person('danish', 21)\n",
    "employee = Employee('parth', 20, 12345)\n",
    "\n",
    "person.greet()\n",
    "employee.greet()"
   ]
  },
  {
   "cell_type": "markdown",
   "id": "72743c33-643d-41a0-a310-d1d55b82b423",
   "metadata": {},
   "source": [
    "#### Task 5: Exception Handling with Custom Exceptions\n",
    "#### Write a Python program that:\n",
    "#### - Defines a custom exception class InvalidAgeError that is raised when an invalid age (less than 0 or greater than 150) is entered.\n",
    "#### - Write a function validate_age() that takes an age as input, raises InvalidAgeError for invalid ages, and prints a message if the age is valid.\n",
    "#### - Handle the exception with a try-except block and test with both valid and invalid age inputs.\n"
   ]
  },
  {
   "cell_type": "code",
   "execution_count": 34,
   "id": "269579b4-4fb2-4557-81d1-f5a32efe6ce5",
   "metadata": {},
   "outputs": [
    {
     "name": "stdin",
     "output_type": "stream",
     "text": [
      "Enter the age 200\n"
     ]
    },
    {
     "name": "stdout",
     "output_type": "stream",
     "text": [
      "InvalidAgeError: Age must be between 0 and 150. (Entered age: 200)\n"
     ]
    }
   ],
   "source": [
    "class InvalidAgeError(Exception):\n",
    "    def __init__(self, age, message):\n",
    "        self.age = age\n",
    "        self.message = message\n",
    "        super().__init__(f'{message}')\n",
    "\n",
    "def validate_age(age):\n",
    "    if (age > 0 and age < 150):\n",
    "        print(f\"Valid age entered: {age}\")\n",
    "    else:\n",
    "        raise InvalidAgeError(age, \"Age must be between 0 and 150.\")\n",
    "\n",
    "age = int(input('Enter the age'))\n",
    "\n",
    "try:\n",
    "    validate_age(age)\n",
    "except InvalidAgeError as e:\n",
    "    print(f\"InvalidAgeError: {e.message} (Entered age: {e.age})\")"
   ]
  },
  {
   "cell_type": "markdown",
   "id": "30765cc6-e1d5-4ff1-aa9f-18bd52b66f31",
   "metadata": {},
   "source": [
    "#### Task 7: Working with JSON\n",
    "#### Write a Python program that:\n",
    "#### - Creates a dictionary with details about a book, including title, author, and year published.\n",
    "#### - Converts the dictionary to a JSON string using the json module and writes it to a file named book.json.\n",
    "#### - Reads the JSON string back from the file and converts it back to a Python dictionary.\n",
    "#### - Print both the JSON string and the final dictionary."
   ]
  },
  {
   "cell_type": "code",
   "execution_count": 36,
   "id": "e9896099-c0c8-41c4-acd3-9e35328c85f7",
   "metadata": {},
   "outputs": [
    {
     "name": "stdout",
     "output_type": "stream",
     "text": [
      "JSON String:\n",
      "{\n",
      "    \"title\": \"To Kill a Mockingbird\",\n",
      "    \"author\": \"Harper Lee\",\n",
      "    \"year_published\": 1960\n",
      "}\n",
      "\n",
      "Final Dictionary:\n",
      "{'title': 'To Kill a Mockingbird', 'author': 'Harper Lee', 'year_published': 1960}\n"
     ]
    }
   ],
   "source": [
    "import json\n",
    "\n",
    "book = {\n",
    "    \"title\": \"To Kill a Mockingbird\",\n",
    "    \"author\": \"Harper Lee\",\n",
    "    \"year_published\": 1960\n",
    "}\n",
    "\n",
    "with open(\"book.json\", \"w\") as file:\n",
    "    json.dump(book, file, indent=4)\n",
    "\n",
    "with open(\"book.json\", \"r\") as file:\n",
    "    book_from_json = json.load(file)\n",
    "\n",
    "print(\"JSON String:\")\n",
    "print(json.dumps(book, indent=4))\n",
    "\n",
    "print(\"\\nFinal Dictionary:\")\n",
    "print(book_from_json)"
   ]
  },
  {
   "cell_type": "code",
   "execution_count": null,
   "id": "485f1413-bacf-42ff-a7a4-390571bcc2a6",
   "metadata": {},
   "outputs": [],
   "source": []
  }
 ],
 "metadata": {
  "kernelspec": {
   "display_name": "Python 3 (ipykernel)",
   "language": "python",
   "name": "python3"
  },
  "language_info": {
   "codemirror_mode": {
    "name": "ipython",
    "version": 3
   },
   "file_extension": ".py",
   "mimetype": "text/x-python",
   "name": "python",
   "nbconvert_exporter": "python",
   "pygments_lexer": "ipython3",
   "version": "3.12.7"
  }
 },
 "nbformat": 4,
 "nbformat_minor": 5
}
